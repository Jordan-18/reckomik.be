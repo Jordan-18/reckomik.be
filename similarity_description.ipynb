{
 "cells": [
  {
   "cell_type": "code",
   "execution_count": 1,
   "metadata": {},
   "outputs": [
    {
     "name": "stderr",
     "output_type": "stream",
     "text": [
      "c:\\Users\\Asus\\anaconda3\\lib\\site-packages\\fuzzywuzzy\\fuzz.py:11: UserWarning: Using slow pure-python SequenceMatcher. Install python-Levenshtein to remove this warning\n",
      "  warnings.warn('Using slow pure-python SequenceMatcher. Install python-Levenshtein to remove this warning')\n"
     ]
    }
   ],
   "source": [
    "import pandas as pd\n",
    "import numpy as np\n",
    "import json\n",
    "\n",
    "# Description Similarity System\n",
    "from sklearn.feature_extraction.text import TfidfVectorizer\n",
    "from sklearn.metrics.pairwise import cosine_similarity\n",
    "import nltk\n",
    "from nltk.corpus import stopwords\n",
    "from Sastrawi.Stemmer.StemmerFactory import StemmerFactory\n",
    "from sklearn.pipeline import Pipeline\n",
    "from sklearn.base import BaseEstimator, TransformerMixin\n",
    "from fuzzywuzzy import process"
   ]
  },
  {
   "cell_type": "code",
   "execution_count": 2,
   "metadata": {},
   "outputs": [
    {
     "name": "stderr",
     "output_type": "stream",
     "text": [
      "[nltk_data] Downloading package stopwords to\n",
      "[nltk_data]     C:\\Users\\Asus\\AppData\\Roaming\\nltk_data...\n",
      "[nltk_data]   Package stopwords is already up-to-date!\n",
      "[nltk_data] Downloading package punkt to\n",
      "[nltk_data]     C:\\Users\\Asus\\AppData\\Roaming\\nltk_data...\n",
      "[nltk_data]   Package punkt is already up-to-date!\n"
     ]
    }
   ],
   "source": [
    "# Download stopwords NLTK jika belum diunduh\n",
    "nltk.download('stopwords')\n",
    "nltk.download('punkt')\n",
    "\n",
    "# Mendapatkan daftar stop words dalam bahasa Indonesia\n",
    "stop_words_indonesian = stopwords.words('indonesian')\n",
    "stop_words_english = stopwords.words('english')\n",
    "\n",
    "# Inisialisasi stemmer Sastrawi\n",
    "factory = StemmerFactory()\n",
    "stemmer = factory.create_stemmer()\n",
    "\n",
    "# Custom Transformer for Text Preprocessing\n",
    "class TextPreprocessor(BaseEstimator, TransformerMixin):\n",
    "    def __init__(self, stop_words, stemmer='', lang='english'):\n",
    "        self.stop_words = stop_words\n",
    "        self.stemmer = stemmer\n",
    "        self.lang = lang\n",
    "    \n",
    "    def fit(self, X, y=None):\n",
    "        return self\n",
    "    \n",
    "    def transform(self, X, y=None):\n",
    "        return X.apply(self._preprocess_text)\n",
    "    \n",
    "    def _preprocess_text(self, text):\n",
    "        tokens = nltk.word_tokenize(text.lower())\n",
    "        filtered_tokens = [token for token in tokens if token.isalpha() and token not in self.stop_words]\n",
    "        \n",
    "        if self.lang == 'indonesian':\n",
    "            stemmed_tokens = [self.stemmer.stem(token) for token in filtered_tokens]\n",
    "            return ' '.join(stemmed_tokens)\n",
    "        \n",
    "        return ' '.join(filtered_tokens)\n",
    "\n",
    "# Function to prepare the pipeline and cosine similarity matrix\n",
    "def prepare_similarity_system(df, lang='english'):\n",
    "    # Pipeline for TF-IDF Vectorization with Preprocessing\n",
    "    stop_words = stop_words_indonesian if lang == 'indonesian' else stop_words_english\n",
    "    stemmer_to_use = stemmer if lang == 'indonesian' else ''\n",
    "    \n",
    "    pipeline = Pipeline([\n",
    "        ('preprocessor', TextPreprocessor(stop_words, stemmer_to_use, lang)),\n",
    "        ('tfidf', TfidfVectorizer())\n",
    "    ])\n",
    "\n",
    "    # Apply pipeline to descriptions\n",
    "    tfidf_matrix = pipeline.fit_transform(df['description'].astype(str))\n",
    "\n",
    "    # Menghitung kemiripan cosine\n",
    "    cosine_sim = cosine_similarity(tfidf_matrix, tfidf_matrix)\n",
    "    \n",
    "    return cosine_sim"
   ]
  },
  {
   "cell_type": "code",
   "execution_count": 3,
   "metadata": {},
   "outputs": [
    {
     "name": "stdout",
     "output_type": "stream",
     "text": [
      "Komikcast:  (8410, 10)\n",
      "Westmanga:  (4810, 10)\n"
     ]
    }
   ],
   "source": [
    "df_komikcast = pd.read_csv(\"./data/komikcast.csv\")\n",
    "df_westmanga = pd.read_csv(\"./data/westmanga.csv\")\n",
    "df_mangadex = pd.read_csv(\"./data/mangadex.csv\")\n",
    "\n",
    "print('Komikcast: ', df_komikcast.shape)\n",
    "print('Westmanga: ', df_westmanga.shape)\n",
    "print('Mangadex : ', df_mangadex.shape)"
   ]
  },
  {
   "cell_type": "code",
   "execution_count": 4,
   "metadata": {},
   "outputs": [],
   "source": [
    "consine_sim_indo_komikcast = prepare_similarity_system(df_komikcast, 'indonesian')\n",
    "consine_sim_indo_westmanga = prepare_similarity_system(df_westmanga, 'indonesian')\n",
    "# consine_sim_eng_mangadex = prepare_similarity_system(df_mangadex)"
   ]
  },
  {
   "cell_type": "code",
   "execution_count": 6,
   "metadata": {},
   "outputs": [],
   "source": [
    "consine_decription_similarity = {\n",
    "    'komikcast': consine_sim_indo_komikcast,\n",
    "    'westmanga': consine_sim_indo_westmanga,\n",
    "    # 'mangadex': consine_sim_eng_mangadex\n",
    "}"
   ]
  },
  {
   "cell_type": "code",
   "execution_count": 10,
   "metadata": {},
   "outputs": [],
   "source": [
    "# NumPy arrays to lists\n",
    "consine_decription_similarity_serializable = {\n",
    "    key: value.tolist() for key, value in consine_decription_similarity.items()\n",
    "}"
   ]
  },
  {
   "cell_type": "code",
   "execution_count": 12,
   "metadata": {},
   "outputs": [],
   "source": [
    "# Convert the dictionary to a JSON string\n",
    "json_object = json.dumps(consine_decription_similarity_serializable, indent=4)\n",
    "\n",
    "# Write the JSON string to a file\n",
    "with open(\"./data/consine_decription_similarity.json\", \"w\") as outfile:\n",
    "    outfile.write(json_object)"
   ]
  },
  {
   "cell_type": "code",
   "execution_count": 13,
   "metadata": {},
   "outputs": [],
   "source": [
    "# Inverse: Convert lists back to NumPy arrays\n",
    "consine_decription_similarity_inverse = {\n",
    "    key: np.array(value) for key, value in consine_decription_similarity_serializable.items()\n",
    "}"
   ]
  }
 ],
 "metadata": {
  "kernelspec": {
   "display_name": "base",
   "language": "python",
   "name": "python3"
  },
  "language_info": {
   "codemirror_mode": {
    "name": "ipython",
    "version": 3
   },
   "file_extension": ".py",
   "mimetype": "text/x-python",
   "name": "python",
   "nbconvert_exporter": "python",
   "pygments_lexer": "ipython3",
   "version": "3.9.13"
  }
 },
 "nbformat": 4,
 "nbformat_minor": 2
}
