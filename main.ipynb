{
 "cells": [
  {
   "cell_type": "markdown",
   "metadata": {},
   "source": [
    "# Import Library"
   ]
  },
  {
   "cell_type": "code",
   "execution_count": 1,
   "metadata": {},
   "outputs": [
    {
     "name": "stderr",
     "output_type": "stream",
     "text": [
      "c:\\Users\\Asus\\anaconda3\\lib\\site-packages\\fuzzywuzzy\\fuzz.py:11: UserWarning: Using slow pure-python SequenceMatcher. Install python-Levenshtein to remove this warning\n",
      "  warnings.warn('Using slow pure-python SequenceMatcher. Install python-Levenshtein to remove this warning')\n"
     ]
    }
   ],
   "source": [
    "import pandas as pd\n",
    "\n",
    "# Description Similarity System\n",
    "from sklearn.feature_extraction.text import TfidfVectorizer\n",
    "from sklearn.metrics.pairwise import cosine_similarity\n",
    "import nltk\n",
    "from nltk.corpus import stopwords\n",
    "from Sastrawi.Stemmer.StemmerFactory import StemmerFactory\n",
    "from sklearn.pipeline import Pipeline\n",
    "from sklearn.base import BaseEstimator, TransformerMixin\n",
    "from fuzzywuzzy import process\n",
    "\n",
    "# Image Similarity System\n",
    "import requests\n",
    "from io import BytesIO\n",
    "from PIL import Image\n",
    "import imagehash\n",
    "from concurrent.futures import ThreadPoolExecutor, as_completed"
   ]
  },
  {
   "cell_type": "markdown",
   "metadata": {},
   "source": [
    "# Function"
   ]
  },
  {
   "cell_type": "code",
   "execution_count": 2,
   "metadata": {},
   "outputs": [
    {
     "name": "stderr",
     "output_type": "stream",
     "text": [
      "[nltk_data] Downloading package stopwords to\n",
      "[nltk_data]     C:\\Users\\Asus\\AppData\\Roaming\\nltk_data...\n",
      "[nltk_data]   Package stopwords is already up-to-date!\n",
      "[nltk_data] Downloading package punkt to\n",
      "[nltk_data]     C:\\Users\\Asus\\AppData\\Roaming\\nltk_data...\n",
      "[nltk_data]   Package punkt is already up-to-date!\n"
     ]
    }
   ],
   "source": [
    "# Download stopwords NLTK jika belum diunduh\n",
    "nltk.download('stopwords')\n",
    "nltk.download('punkt')\n",
    "\n",
    "# Mendapatkan daftar stop words dalam bahasa Indonesia\n",
    "stop_words_indonesian = stopwords.words('indonesian')\n",
    "stop_words_english = stopwords.words('english')\n",
    "\n",
    "# Inisialisasi stemmer Sastrawi\n",
    "factory = StemmerFactory()\n",
    "stemmer = factory.create_stemmer()\n",
    "\n",
    "# Custom Transformer for Text Preprocessing\n",
    "class TextPreprocessor(BaseEstimator, TransformerMixin):\n",
    "    def __init__(self, stop_words, stemmer='', lang='english'):\n",
    "        self.stop_words = stop_words\n",
    "        self.stemmer = stemmer\n",
    "        self.lang = lang\n",
    "    \n",
    "    def fit(self, X, y=None):\n",
    "        return self\n",
    "    \n",
    "    def transform(self, X, y=None):\n",
    "        return X.apply(self._preprocess_text)\n",
    "    \n",
    "    def _preprocess_text(self, text):\n",
    "        tokens = nltk.word_tokenize(text.lower())\n",
    "        filtered_tokens = [token for token in tokens if token.isalpha() and token not in self.stop_words]\n",
    "        \n",
    "        if self.lang == 'indonesian':\n",
    "            stemmed_tokens = [self.stemmer.stem(token) for token in filtered_tokens]\n",
    "            return ' '.join(stemmed_tokens)\n",
    "        \n",
    "        return ' '.join(filtered_tokens)\n",
    "\n",
    "# Function to prepare the pipeline and cosine similarity matrix\n",
    "def prepare_similarity_system(df, lang='english'):\n",
    "    # Pipeline for TF-IDF Vectorization with Preprocessing\n",
    "    stop_words = stop_words_indonesian if lang == 'indonesian' else stop_words_english\n",
    "    stemmer_to_use = stemmer if lang == 'indonesian' else ''\n",
    "    \n",
    "    pipeline = Pipeline([\n",
    "        ('preprocessor', TextPreprocessor(stop_words, stemmer_to_use, lang)),\n",
    "        ('tfidf', TfidfVectorizer())\n",
    "    ])\n",
    "\n",
    "    # Apply pipeline to descriptions\n",
    "    tfidf_matrix = pipeline.fit_transform(df['description'].astype(str))\n",
    "\n",
    "    # Menghitung kemiripan cosine\n",
    "    cosine_sim = cosine_similarity(tfidf_matrix, tfidf_matrix)\n",
    "    \n",
    "    return cosine_sim\n",
    "\n",
    "# Function to get similarity\n",
    "def get_similarity_description(title, df, cosine_sim):\n",
    "    if title not in df['title'].values:\n",
    "        matches = process.extract(title, df['title'], limit=5)\n",
    "        best_match = matches[0][0]\n",
    "        print(f\"Exact title not found. Using closest match: '{best_match}'\")\n",
    "        title = best_match\n",
    "        \n",
    "    idx = df[df['title'] == title].index[0]\n",
    "    \n",
    "    sim_scores = list(enumerate(cosine_sim[idx]))\n",
    "    sim_scores = sorted(sim_scores, key=lambda x: x[1], reverse=True)\n",
    "    \n",
    "    sim_scores = [score for score in sim_scores if score[1] < 1]\n",
    "\n",
    "    # sim_scores = sim_scores[:100]\n",
    "\n",
    "    article_indices = [i[0] for i in sim_scores]\n",
    "    scores = [i[1] for i in sim_scores]\n",
    "    \n",
    "    valid_indices = [i for i in article_indices if i < len(df)]\n",
    "    \n",
    "    similarity_df = pd.DataFrame({'title': df.iloc[valid_indices]['title'], 'description_similarity': scores})\n",
    "    result_df = pd.merge(similarity_df, df, on='title')\n",
    "    \n",
    "    return result_df\n",
    "\n",
    "# Matching of genres\n",
    "def matching_genres(df, title):\n",
    "    if title not in df['title'].values:\n",
    "        matches = process.extract(title, df['title'], limit=5)\n",
    "        best_match = matches[0][0]\n",
    "        print(f\"Exact title not found. Using closest match: '{best_match}'\")\n",
    "        title = best_match\n",
    "        \n",
    "    data = df[df['title'] == title]\n",
    "    main_genres = (list(data.head(1)['genre'])[0]).split(', ')\n",
    "    genre_similarity = df['genre']\n",
    "    \n",
    "    for i, rec in enumerate(genre_similarity):\n",
    "        match_count = 0\n",
    "        if isinstance(rec, float): \n",
    "            rec = str(rec) \n",
    "        genres = rec.split(', ')\n",
    "        for j, genre in enumerate(genres):\n",
    "            if genre in main_genres:\n",
    "                match_count += 1\n",
    "        \n",
    "        genre_similarity = (match_count / len(main_genres)) * 100\n",
    "        df.at[i, 'genre_similarity'] = genre_similarity\n",
    "    filtered_df = df.copy()\n",
    "        \n",
    "    return filtered_df"
   ]
  },
  {
   "cell_type": "code",
   "execution_count": 3,
   "metadata": {},
   "outputs": [],
   "source": [
    "image_cache = {}\n",
    "\n",
    "def download_image(image_url):\n",
    "    if image_url in image_cache:\n",
    "        return image_cache[image_url]\n",
    "    \n",
    "    try:\n",
    "        response = requests.get(image_url)\n",
    "        response.raise_for_status()\n",
    "        img = Image.open(BytesIO(response.content))\n",
    "        image_cache[image_url] = img\n",
    "        return img\n",
    "    except (requests.RequestException, IOError) as e:\n",
    "        # print(f\"Error downloading or opening image from URL {image_url}: {e}\")\n",
    "        return None\n",
    "\n",
    "def compute_image_hash(image_url):\n",
    "    image = download_image(image_url)\n",
    "    if image is None:\n",
    "        return None\n",
    "    return imagehash.average_hash(image)\n",
    "\n",
    "def preprocess_images(df, max_workers=10):\n",
    "    with ThreadPoolExecutor(max_workers=max_workers) as executor:\n",
    "        future_to_index = {\n",
    "            executor.submit(compute_image_hash, row['image']): index\n",
    "            for index, row in df.iterrows()\n",
    "        }\n",
    "        for future in as_completed(future_to_index):\n",
    "            index = future_to_index[future]\n",
    "            try:\n",
    "                image_hash = future.result()\n",
    "                df.at[index, 'image_hash'] = image_hash\n",
    "            except Exception as e:\n",
    "                df.at[index, 'image_hash'] = '-'\n",
    "\n",
    "def compute_image_similarity(hash1, hash2):\n",
    "    return 1 - (hash1 - hash2) / len(hash1.hash) ** 2\n",
    "\n",
    "def get_similarity_image(title, df):\n",
    "    if title not in df['title'].values:\n",
    "        matches = process.extract(title, df['title'], limit=5)\n",
    "        best_match = matches[0][0]\n",
    "        print(f\"Exact title not found. Using closest match: '{best_match}'\")\n",
    "        title = best_match\n",
    "        \n",
    "    target_row = df[df['title'] == title].iloc[0]\n",
    "    target_hash = target_row['image_hash']\n",
    "    \n",
    "    if target_hash is None:\n",
    "        print(\"Target image could not be processed.\")\n",
    "        return []\n",
    "    \n",
    "    similarities = []\n",
    "    for index, row in df.iterrows():\n",
    "        if row['title'] != title:\n",
    "            other_hash = row['image_hash']\n",
    "            if other_hash is None:\n",
    "                continue\n",
    "            similarity = compute_image_similarity(target_hash, other_hash)\n",
    "            similarities.append((row['title'], similarity))\n",
    "    \n",
    "    similarities.sort(key=lambda x: x[1], reverse=True)\n",
    "    similarity_df = pd.DataFrame(similarities, columns=['title', 'image_similarity'])\n",
    "    result_df = pd.merge(similarity_df, df, on='title')\n",
    "    \n",
    "    return result_df\n",
    "\n",
    "def all_similarity(title, df, cosine_sim):\n",
    "    columns_to_drop = ['image_similarity','genre_similarity', 'description_similarity']\n",
    "    existing_columns = [col for col in columns_to_drop if col in df.columns]\n",
    "\n",
    "    if existing_columns:\n",
    "        df = df.drop(existing_columns, axis=1)\n",
    "\n",
    "    df = matching_genres(df, title)\n",
    "    df = get_similarity_description(title, df, cosine_sim)\n",
    "    df = get_similarity_image(title, df)\n",
    "    \n",
    "    df = df.sort_values(by=['description_similarity', 'genre_similarity','image_similarity'], ascending=False)\n",
    "\n",
    "    return df"
   ]
  },
  {
   "cell_type": "markdown",
   "metadata": {},
   "source": [
    "# Get Data"
   ]
  },
  {
   "cell_type": "code",
   "execution_count": 4,
   "metadata": {},
   "outputs": [
    {
     "name": "stdout",
     "output_type": "stream",
     "text": [
      "Komikcast:  (8410, 10)\n",
      "Mangadex :  (23769, 10)\n"
     ]
    }
   ],
   "source": [
    "df_komikcast=pd.read_csv(\"./data/komikcast.csv\")\n",
    "# df_westmanga=pd.read_csv(\"./data/westmanga.csv\")\n",
    "df_mangadex=pd.read_csv(\"./data/mangadex.csv\")\n",
    "\n",
    "print('Komikcast: ', df_komikcast.shape)\n",
    "# print('Westmanga: ', df_westmanga.shape)\n",
    "print('Mangadex : ', df_mangadex.shape)"
   ]
  },
  {
   "cell_type": "markdown",
   "metadata": {},
   "source": [
    "# Consine Similarity"
   ]
  },
  {
   "cell_type": "code",
   "execution_count": 7,
   "metadata": {},
   "outputs": [],
   "source": [
    "consine_sim_indo_komikcast = prepare_similarity_system(df_komikcast, 'indonesian')\n",
    "# consine_sim_indo_westmanga = prepare_similarity_system(df_westmanga, 'indonesian')\n",
    "consine_sim_eng_mangadex = prepare_similarity_system(df_mangadex)"
   ]
  },
  {
   "cell_type": "code",
   "execution_count": 8,
   "metadata": {},
   "outputs": [
    {
     "name": "stderr",
     "output_type": "stream",
     "text": [
      "c:\\Users\\Asus\\anaconda3\\lib\\site-packages\\PIL\\Image.py:959: UserWarning: Palette images with Transparency expressed in bytes should be converted to RGBA images\n",
      "  warnings.warn(\n"
     ]
    }
   ],
   "source": [
    "preprocess_images(df_komikcast)"
   ]
  },
  {
   "cell_type": "code",
   "execution_count": 9,
   "metadata": {},
   "outputs": [],
   "source": [
    "# preprocess_images(df_westmanga)"
   ]
  },
  {
   "cell_type": "code",
   "execution_count": 10,
   "metadata": {},
   "outputs": [],
   "source": [
    "preprocess_images(df_mangadex)"
   ]
  },
  {
   "cell_type": "markdown",
   "metadata": {},
   "source": [
    "# Get Function"
   ]
  },
  {
   "cell_type": "code",
   "execution_count": null,
   "metadata": {},
   "outputs": [],
   "source": [
    "title = 'Fairy Tail'"
   ]
  },
  {
   "cell_type": "code",
   "execution_count": null,
   "metadata": {},
   "outputs": [
    {
     "name": "stdout",
     "output_type": "stream",
     "text": [
      "Exact title not found. Using closest match: 'Fairy Tail City Hero'\n"
     ]
    }
   ],
   "source": [
    "df_komikcast = all_similarity(title, df_komikcast,consine_sim_indo_komikcast)\n",
    "df_komikcast.head()"
   ]
  },
  {
   "cell_type": "code",
   "execution_count": null,
   "metadata": {},
   "outputs": [],
   "source": [
    "# df_westmanga = all_similarity(title, df_westmanga,consine_sim_indo_westmanga)\n",
    "# df_westmanga.head()"
   ]
  },
  {
   "cell_type": "code",
   "execution_count": null,
   "metadata": {},
   "outputs": [],
   "source": [
    "df_mangadex  = all_similarity(title, df_mangadex ,consine_sim_eng_mangadex)\n",
    "df_mangadex.head()"
   ]
  }
 ],
 "metadata": {
  "kernelspec": {
   "display_name": "base",
   "language": "python",
   "name": "python3"
  },
  "language_info": {
   "codemirror_mode": {
    "name": "ipython",
    "version": 3
   },
   "file_extension": ".py",
   "mimetype": "text/x-python",
   "name": "python",
   "nbconvert_exporter": "python",
   "pygments_lexer": "ipython3",
   "version": "3.9.13"
  }
 },
 "nbformat": 4,
 "nbformat_minor": 2
}
