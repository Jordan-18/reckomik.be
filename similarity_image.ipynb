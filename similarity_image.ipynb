{
 "cells": [
  {
   "cell_type": "code",
   "execution_count": 1,
   "metadata": {},
   "outputs": [
    {
     "name": "stderr",
     "output_type": "stream",
     "text": [
      "c:\\Users\\Asus\\anaconda3\\lib\\site-packages\\fuzzywuzzy\\fuzz.py:11: UserWarning: Using slow pure-python SequenceMatcher. Install python-Levenshtein to remove this warning\n",
      "  warnings.warn('Using slow pure-python SequenceMatcher. Install python-Levenshtein to remove this warning')\n"
     ]
    }
   ],
   "source": [
    "import pandas as pd\n",
    "import numpy as np\n",
    "import json\n",
    "\n",
    "# Image Similarity System\n",
    "from fuzzywuzzy import process\n",
    "import requests\n",
    "from io import BytesIO\n",
    "from PIL import Image\n",
    "import imagehash\n",
    "from concurrent.futures import ThreadPoolExecutor, as_completed"
   ]
  },
  {
   "cell_type": "code",
   "execution_count": 2,
   "metadata": {},
   "outputs": [],
   "source": [
    "image_cache = {}\n",
    "\n",
    "def download_image(image_url):\n",
    "    if image_url in image_cache:\n",
    "        return image_cache[image_url]\n",
    "    \n",
    "    try:\n",
    "        response = requests.get(image_url)\n",
    "        response.raise_for_status()\n",
    "        img = Image.open(BytesIO(response.content))\n",
    "        image_cache[image_url] = img\n",
    "        return img\n",
    "    except (requests.RequestException, IOError) as e:\n",
    "        return None\n",
    "\n",
    "def compute_image_hash(image_url):\n",
    "    image = download_image(image_url)\n",
    "    if image is None:\n",
    "        return None\n",
    "    return imagehash.average_hash(image)\n",
    "\n",
    "def preprocess_images(df, max_workers=10):\n",
    "    with ThreadPoolExecutor(max_workers=max_workers) as executor:\n",
    "        future_to_index = {\n",
    "            executor.submit(compute_image_hash, row['image']): index\n",
    "            for index, row in df.iterrows()\n",
    "        }\n",
    "        for future in as_completed(future_to_index):\n",
    "            index = future_to_index[future]\n",
    "            try:\n",
    "                image_hash = future.result()\n",
    "                df.loc[index, 'image_hash'] = image_hash\n",
    "            except Exception as e:\n",
    "                df.loc[index, 'image_hash'] = '-'"
   ]
  },
  {
   "cell_type": "code",
   "execution_count": 3,
   "metadata": {},
   "outputs": [
    {
     "name": "stdout",
     "output_type": "stream",
     "text": [
      "Mangadex :  (23769, 10)\n"
     ]
    }
   ],
   "source": [
    "df_komikcast=pd.read_csv(\"./data/komikcast.csv\")\n",
    "df_westmanga=pd.read_csv(\"./data/westmanga.csv\")\n",
    "# df_mangadex=pd.read_csv(\"./data/mangadex.csv\")\n",
    "\n",
    "print('Komikcast: ', df_komikcast.shape)\n",
    "print('Westmanga: ', df_westmanga.shape)\n",
    "# print('Mangadex : ', df_mangadex.shape)"
   ]
  },
  {
   "cell_type": "code",
   "execution_count": 4,
   "metadata": {},
   "outputs": [],
   "source": [
    "preprocess_images(df_komikcast)"
   ]
  },
  {
   "cell_type": "code",
   "execution_count": null,
   "metadata": {},
   "outputs": [],
   "source": [
    "preprocess_images(df_westmanga)"
   ]
  },
  {
   "cell_type": "code",
   "execution_count": null,
   "metadata": {},
   "outputs": [],
   "source": [
    "# preprocess_images(df_mangadex)"
   ]
  },
  {
   "cell_type": "code",
   "execution_count": null,
   "metadata": {},
   "outputs": [],
   "source": [
    "df_komikcast.to_csv(\"./data/komikcast.csv\", index=False)\n",
    "df_westmanga.to_csv(\"./data/westmanga.csv\", index=False)\n",
    "# df_mangadex.to_csv(\"./data/mangadex.csv\", index=False)"
   ]
  },
  {
   "cell_type": "code",
   "execution_count": null,
   "metadata": {},
   "outputs": [
    {
     "name": "stderr",
     "output_type": "stream",
     "text": [
      "c:\\Users\\Asus\\anaconda3\\lib\\site-packages\\PIL\\Image.py:959: UserWarning: Palette images with Transparency expressed in bytes should be converted to RGBA images\n",
      "  warnings.warn(\n"
     ]
    }
   ],
   "source": [
    "image_cache_hashes = {url: str(imagehash.average_hash(img)) for url, img in image_cache.items()}\n",
    "\n",
    "json_object = json.dumps(image_cache_hashes, indent=4)\n",
    "\n",
    "with open(\"./data/image_cache.json\", \"w\") as outfile:\n",
    "    outfile.write(json_object)"
   ]
  }
 ],
 "metadata": {
  "kernelspec": {
   "display_name": "base",
   "language": "python",
   "name": "python3"
  },
  "language_info": {
   "codemirror_mode": {
    "name": "ipython",
    "version": 3
   },
   "file_extension": ".py",
   "mimetype": "text/x-python",
   "name": "python",
   "nbconvert_exporter": "python",
   "pygments_lexer": "ipython3",
   "version": "3.9.13"
  }
 },
 "nbformat": 4,
 "nbformat_minor": 2
}
