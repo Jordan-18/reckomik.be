{
 "cells": [
  {
   "cell_type": "markdown",
   "metadata": {},
   "source": [
    "# Import Library"
   ]
  },
  {
   "cell_type": "code",
   "execution_count": 28,
   "metadata": {},
   "outputs": [],
   "source": [
    "import pandas as pd\n",
    "from sklearn.feature_extraction.text import TfidfVectorizer\n",
    "from sklearn.metrics.pairwise import cosine_similarity\n",
    "import nltk\n",
    "from nltk.corpus import stopwords\n",
    "from Sastrawi.Stemmer.StemmerFactory import StemmerFactory\n",
    "from sklearn.pipeline import Pipeline\n",
    "from sklearn.base import BaseEstimator, TransformerMixin"
   ]
  },
  {
   "cell_type": "markdown",
   "metadata": {},
   "source": [
    "# Get Data"
   ]
  },
  {
   "cell_type": "code",
   "execution_count": 29,
   "metadata": {},
   "outputs": [
    {
     "data": {
      "text/plain": [
       "(8410, 10)"
      ]
     },
     "execution_count": 29,
     "metadata": {},
     "output_type": "execute_result"
    }
   ],
   "source": [
    "df=pd.read_csv(\"./data/komikcast.csv\")\n",
    "df.shape"
   ]
  },
  {
   "cell_type": "code",
   "execution_count": 30,
   "metadata": {},
   "outputs": [
    {
     "data": {
      "text/html": [
       "<div>\n",
       "<style scoped>\n",
       "    .dataframe tbody tr th:only-of-type {\n",
       "        vertical-align: middle;\n",
       "    }\n",
       "\n",
       "    .dataframe tbody tr th {\n",
       "        vertical-align: top;\n",
       "    }\n",
       "\n",
       "    .dataframe thead th {\n",
       "        text-align: right;\n",
       "    }\n",
       "</style>\n",
       "<table border=\"1\" class=\"dataframe\">\n",
       "  <thead>\n",
       "    <tr style=\"text-align: right;\">\n",
       "      <th></th>\n",
       "      <th>title</th>\n",
       "      <th>alt_title</th>\n",
       "      <th>type</th>\n",
       "      <th>description</th>\n",
       "      <th>genre</th>\n",
       "      <th>author</th>\n",
       "      <th>artist</th>\n",
       "      <th>rate</th>\n",
       "      <th>image</th>\n",
       "      <th>released</th>\n",
       "    </tr>\n",
       "  </thead>\n",
       "  <tbody>\n",
       "    <tr>\n",
       "      <th>0</th>\n",
       "      <td>Perfect Surgeon</td>\n",
       "      <td>퍼펙트 써전, PFS</td>\n",
       "      <td>Manhwa</td>\n",
       "      <td>Saat dia masih kecil ayahnya dikabarkan mening...</td>\n",
       "      <td>Drama, Fantasy, Medical, Sci-Fi, Shounen</td>\n",
       "      <td>MoiDal,뫼달</td>\n",
       "      <td>-</td>\n",
       "      <td>8.0</td>\n",
       "      <td>https://komikcast.cz/wp-content/uploads/2022/0...</td>\n",
       "      <td>2022</td>\n",
       "    </tr>\n",
       "    <tr>\n",
       "      <th>1</th>\n",
       "      <td>Otherworldly Sword King’s Survival Records</td>\n",
       "      <td>Survival Story of a Sword King in a Fantasy Wo...</td>\n",
       "      <td>Manhwa</td>\n",
       "      <td>Kau terpilih sebagai yang paling cocok Dengan ...</td>\n",
       "      <td>Action, Adventure, Comedy, Demons, Fantasy, Is...</td>\n",
       "      <td>Kwon sun kyu, studio khit</td>\n",
       "      <td>-</td>\n",
       "      <td>7.0</td>\n",
       "      <td>https://komikcast.cz/wp-content/uploads/2023/0...</td>\n",
       "      <td>2020</td>\n",
       "    </tr>\n",
       "    <tr>\n",
       "      <th>2</th>\n",
       "      <td>Ghost Fixers</td>\n",
       "      <td>ゴーストフィクサーズ</td>\n",
       "      <td>Manga</td>\n",
       "      <td>Setelah peristiwa tertentu Kota Baru Mikurigao...</td>\n",
       "      <td>Action, Shounen</td>\n",
       "      <td>TANAKA Yasuki</td>\n",
       "      <td>-</td>\n",
       "      <td>7.0</td>\n",
       "      <td>https://komikcast.cz/wp-content/uploads/2024/0...</td>\n",
       "      <td>2024</td>\n",
       "    </tr>\n",
       "    <tr>\n",
       "      <th>3</th>\n",
       "      <td>Might Through Death</td>\n",
       "      <td>Become Stronger as You Die, Deadly Strong, Shi...</td>\n",
       "      <td>Manhwa</td>\n",
       "      <td>Mati hidup kembali dan tumbuh lebih kuat Kisah...</td>\n",
       "      <td>Action, Sci-Fi, Seinen</td>\n",
       "      <td>SENOO Shippo</td>\n",
       "      <td>-</td>\n",
       "      <td>7.2</td>\n",
       "      <td>https://komikcast.cz/wp-content/uploads/2024/0...</td>\n",
       "      <td>2024</td>\n",
       "    </tr>\n",
       "    <tr>\n",
       "      <th>4</th>\n",
       "      <td>Ghoul ga Sekai wo Sukutta Koto wo Watashi dake...</td>\n",
       "      <td>Only I Know the Ghoul Saved the World, グールが世界を...</td>\n",
       "      <td>Manga</td>\n",
       "      <td>Aku bukan pahlawan Aku monster yang memangsa m...</td>\n",
       "      <td>Action, Adventure, Drama, Ecchi, Fantasy, Magi...</td>\n",
       "      <td>Katou Myoujin</td>\n",
       "      <td>-</td>\n",
       "      <td>7.0</td>\n",
       "      <td>https://komikcast.cz/wp-content/uploads/2023/0...</td>\n",
       "      <td>2023</td>\n",
       "    </tr>\n",
       "  </tbody>\n",
       "</table>\n",
       "</div>"
      ],
      "text/plain": [
       "                                               title  \\\n",
       "0                                    Perfect Surgeon   \n",
       "1         Otherworldly Sword King’s Survival Records   \n",
       "2                                       Ghost Fixers   \n",
       "3                                Might Through Death   \n",
       "4  Ghoul ga Sekai wo Sukutta Koto wo Watashi dake...   \n",
       "\n",
       "                                           alt_title    type  \\\n",
       "0                                        퍼펙트 써전, PFS  Manhwa   \n",
       "1  Survival Story of a Sword King in a Fantasy Wo...  Manhwa   \n",
       "2                                         ゴーストフィクサーズ   Manga   \n",
       "3  Become Stronger as You Die, Deadly Strong, Shi...  Manhwa   \n",
       "4  Only I Know the Ghoul Saved the World, グールが世界を...   Manga   \n",
       "\n",
       "                                         description  \\\n",
       "0  Saat dia masih kecil ayahnya dikabarkan mening...   \n",
       "1  Kau terpilih sebagai yang paling cocok Dengan ...   \n",
       "2  Setelah peristiwa tertentu Kota Baru Mikurigao...   \n",
       "3  Mati hidup kembali dan tumbuh lebih kuat Kisah...   \n",
       "4  Aku bukan pahlawan Aku monster yang memangsa m...   \n",
       "\n",
       "                                               genre  \\\n",
       "0           Drama, Fantasy, Medical, Sci-Fi, Shounen   \n",
       "1  Action, Adventure, Comedy, Demons, Fantasy, Is...   \n",
       "2                                    Action, Shounen   \n",
       "3                             Action, Sci-Fi, Seinen   \n",
       "4  Action, Adventure, Drama, Ecchi, Fantasy, Magi...   \n",
       "\n",
       "                      author artist  rate  \\\n",
       "0                  MoiDal,뫼달      -   8.0   \n",
       "1  Kwon sun kyu, studio khit      -   7.0   \n",
       "2              TANAKA Yasuki      -   7.0   \n",
       "3               SENOO Shippo      -   7.2   \n",
       "4              Katou Myoujin      -   7.0   \n",
       "\n",
       "                                               image released  \n",
       "0  https://komikcast.cz/wp-content/uploads/2022/0...     2022  \n",
       "1  https://komikcast.cz/wp-content/uploads/2023/0...     2020  \n",
       "2  https://komikcast.cz/wp-content/uploads/2024/0...     2024  \n",
       "3  https://komikcast.cz/wp-content/uploads/2024/0...     2024  \n",
       "4  https://komikcast.cz/wp-content/uploads/2023/0...     2023  "
      ]
     },
     "execution_count": 30,
     "metadata": {},
     "output_type": "execute_result"
    }
   ],
   "source": [
    "df.head()"
   ]
  },
  {
   "cell_type": "code",
   "execution_count": 31,
   "metadata": {},
   "outputs": [
    {
     "data": {
      "text/plain": [
       "Index(['title', 'alt_title', 'type', 'description', 'genre', 'author',\n",
       "       'artist', 'rate', 'image', 'released'],\n",
       "      dtype='object')"
      ]
     },
     "execution_count": 31,
     "metadata": {},
     "output_type": "execute_result"
    }
   ],
   "source": [
    "df.columns"
   ]
  },
  {
   "cell_type": "code",
   "execution_count": 32,
   "metadata": {},
   "outputs": [
    {
     "data": {
      "text/plain": [
       "title             0\n",
       "alt_title      1009\n",
       "type             34\n",
       "description       0\n",
       "genre             6\n",
       "author          323\n",
       "artist            0\n",
       "rate              0\n",
       "image             0\n",
       "released         55\n",
       "dtype: int64"
      ]
     },
     "execution_count": 32,
     "metadata": {},
     "output_type": "execute_result"
    }
   ],
   "source": [
    "df.isna().sum()"
   ]
  },
  {
   "cell_type": "code",
   "execution_count": 33,
   "metadata": {},
   "outputs": [
    {
     "data": {
      "text/html": [
       "<div>\n",
       "<style scoped>\n",
       "    .dataframe tbody tr th:only-of-type {\n",
       "        vertical-align: middle;\n",
       "    }\n",
       "\n",
       "    .dataframe tbody tr th {\n",
       "        vertical-align: top;\n",
       "    }\n",
       "\n",
       "    .dataframe thead th {\n",
       "        text-align: right;\n",
       "    }\n",
       "</style>\n",
       "<table border=\"1\" class=\"dataframe\">\n",
       "  <thead>\n",
       "    <tr style=\"text-align: right;\">\n",
       "      <th></th>\n",
       "      <th>title</th>\n",
       "      <th>alt_title</th>\n",
       "      <th>type</th>\n",
       "      <th>description</th>\n",
       "      <th>genre</th>\n",
       "      <th>author</th>\n",
       "      <th>artist</th>\n",
       "      <th>rate</th>\n",
       "      <th>image</th>\n",
       "      <th>released</th>\n",
       "    </tr>\n",
       "  </thead>\n",
       "  <tbody>\n",
       "    <tr>\n",
       "      <th>0</th>\n",
       "      <td>Perfect Surgeon</td>\n",
       "      <td>퍼펙트 써전, PFS</td>\n",
       "      <td>Manhwa</td>\n",
       "      <td>Saat dia masih kecil ayahnya dikabarkan mening...</td>\n",
       "      <td>Drama, Fantasy, Medical, Sci-Fi, Shounen</td>\n",
       "      <td>MoiDal,뫼달</td>\n",
       "      <td>-</td>\n",
       "      <td>8.0</td>\n",
       "      <td>https://komikcast.cz/wp-content/uploads/2022/0...</td>\n",
       "      <td>2022</td>\n",
       "    </tr>\n",
       "    <tr>\n",
       "      <th>1</th>\n",
       "      <td>Otherworldly Sword King’s Survival Records</td>\n",
       "      <td>Survival Story of a Sword King in a Fantasy Wo...</td>\n",
       "      <td>Manhwa</td>\n",
       "      <td>Kau terpilih sebagai yang paling cocok Dengan ...</td>\n",
       "      <td>Action, Adventure, Comedy, Demons, Fantasy, Is...</td>\n",
       "      <td>Kwon sun kyu, studio khit</td>\n",
       "      <td>-</td>\n",
       "      <td>7.0</td>\n",
       "      <td>https://komikcast.cz/wp-content/uploads/2023/0...</td>\n",
       "      <td>2020</td>\n",
       "    </tr>\n",
       "    <tr>\n",
       "      <th>2</th>\n",
       "      <td>Ghost Fixers</td>\n",
       "      <td>ゴーストフィクサーズ</td>\n",
       "      <td>Manga</td>\n",
       "      <td>Setelah peristiwa tertentu Kota Baru Mikurigao...</td>\n",
       "      <td>Action, Shounen</td>\n",
       "      <td>TANAKA Yasuki</td>\n",
       "      <td>-</td>\n",
       "      <td>7.0</td>\n",
       "      <td>https://komikcast.cz/wp-content/uploads/2024/0...</td>\n",
       "      <td>2024</td>\n",
       "    </tr>\n",
       "    <tr>\n",
       "      <th>3</th>\n",
       "      <td>Might Through Death</td>\n",
       "      <td>Become Stronger as You Die, Deadly Strong, Shi...</td>\n",
       "      <td>Manhwa</td>\n",
       "      <td>Mati hidup kembali dan tumbuh lebih kuat Kisah...</td>\n",
       "      <td>Action, Sci-Fi, Seinen</td>\n",
       "      <td>SENOO Shippo</td>\n",
       "      <td>-</td>\n",
       "      <td>7.2</td>\n",
       "      <td>https://komikcast.cz/wp-content/uploads/2024/0...</td>\n",
       "      <td>2024</td>\n",
       "    </tr>\n",
       "    <tr>\n",
       "      <th>4</th>\n",
       "      <td>Ghoul ga Sekai wo Sukutta Koto wo Watashi dake...</td>\n",
       "      <td>Only I Know the Ghoul Saved the World, グールが世界を...</td>\n",
       "      <td>Manga</td>\n",
       "      <td>Aku bukan pahlawan Aku monster yang memangsa m...</td>\n",
       "      <td>Action, Adventure, Drama, Ecchi, Fantasy, Magi...</td>\n",
       "      <td>Katou Myoujin</td>\n",
       "      <td>-</td>\n",
       "      <td>7.0</td>\n",
       "      <td>https://komikcast.cz/wp-content/uploads/2023/0...</td>\n",
       "      <td>2023</td>\n",
       "    </tr>\n",
       "  </tbody>\n",
       "</table>\n",
       "</div>"
      ],
      "text/plain": [
       "                                               title  \\\n",
       "0                                    Perfect Surgeon   \n",
       "1         Otherworldly Sword King’s Survival Records   \n",
       "2                                       Ghost Fixers   \n",
       "3                                Might Through Death   \n",
       "4  Ghoul ga Sekai wo Sukutta Koto wo Watashi dake...   \n",
       "\n",
       "                                           alt_title    type  \\\n",
       "0                                        퍼펙트 써전, PFS  Manhwa   \n",
       "1  Survival Story of a Sword King in a Fantasy Wo...  Manhwa   \n",
       "2                                         ゴーストフィクサーズ   Manga   \n",
       "3  Become Stronger as You Die, Deadly Strong, Shi...  Manhwa   \n",
       "4  Only I Know the Ghoul Saved the World, グールが世界を...   Manga   \n",
       "\n",
       "                                         description  \\\n",
       "0  Saat dia masih kecil ayahnya dikabarkan mening...   \n",
       "1  Kau terpilih sebagai yang paling cocok Dengan ...   \n",
       "2  Setelah peristiwa tertentu Kota Baru Mikurigao...   \n",
       "3  Mati hidup kembali dan tumbuh lebih kuat Kisah...   \n",
       "4  Aku bukan pahlawan Aku monster yang memangsa m...   \n",
       "\n",
       "                                               genre  \\\n",
       "0           Drama, Fantasy, Medical, Sci-Fi, Shounen   \n",
       "1  Action, Adventure, Comedy, Demons, Fantasy, Is...   \n",
       "2                                    Action, Shounen   \n",
       "3                             Action, Sci-Fi, Seinen   \n",
       "4  Action, Adventure, Drama, Ecchi, Fantasy, Magi...   \n",
       "\n",
       "                      author artist  rate  \\\n",
       "0                  MoiDal,뫼달      -   8.0   \n",
       "1  Kwon sun kyu, studio khit      -   7.0   \n",
       "2              TANAKA Yasuki      -   7.0   \n",
       "3               SENOO Shippo      -   7.2   \n",
       "4              Katou Myoujin      -   7.0   \n",
       "\n",
       "                                               image released  \n",
       "0  https://komikcast.cz/wp-content/uploads/2022/0...     2022  \n",
       "1  https://komikcast.cz/wp-content/uploads/2023/0...     2020  \n",
       "2  https://komikcast.cz/wp-content/uploads/2024/0...     2024  \n",
       "3  https://komikcast.cz/wp-content/uploads/2024/0...     2024  \n",
       "4  https://komikcast.cz/wp-content/uploads/2023/0...     2023  "
      ]
     },
     "execution_count": 33,
     "metadata": {},
     "output_type": "execute_result"
    }
   ],
   "source": [
    "df.dropna(inplace=True)\n",
    "df.head()"
   ]
  },
  {
   "cell_type": "code",
   "execution_count": 34,
   "metadata": {},
   "outputs": [
    {
     "data": {
      "text/plain": [
       "'Drama, Fantasy, Medical, Sci-Fi, Shounen'"
      ]
     },
     "execution_count": 34,
     "metadata": {},
     "output_type": "execute_result"
    }
   ],
   "source": [
    "df['genre'][0]"
   ]
  },
  {
   "cell_type": "code",
   "execution_count": 35,
   "metadata": {},
   "outputs": [],
   "source": [
    "def extract_genres(input_string):\n",
    "    genres_data = input_string.split(',')\n",
    "    extracted_genres = set()\n",
    "    for genre_entry in genres_data:\n",
    "        # extracted_genres.add(genre_entry)\n",
    "        # return extracted_genres\n",
    "        if len(genre_entry) >= 2:\n",
    "            genre_name = genre_entry.strip()\n",
    "            extracted_genres.add(genre_name)\n",
    "    return extracted_genres\n",
    "\n",
    "df['genre'] = df[\"genre\"].apply(extract_genres)"
   ]
  },
  {
   "cell_type": "code",
   "execution_count": 36,
   "metadata": {},
   "outputs": [
    {
     "name": "stderr",
     "output_type": "stream",
     "text": [
      "[nltk_data] Downloading package stopwords to\n",
      "[nltk_data]     C:\\Users\\Asus\\AppData\\Roaming\\nltk_data...\n",
      "[nltk_data]   Package stopwords is already up-to-date!\n",
      "[nltk_data] Downloading package punkt to\n",
      "[nltk_data]     C:\\Users\\Asus\\AppData\\Roaming\\nltk_data...\n",
      "[nltk_data]   Package punkt is already up-to-date!\n"
     ]
    }
   ],
   "source": [
    "# Download stopwords NLTK jika belum diunduh\n",
    "nltk.download('stopwords')\n",
    "nltk.download('punkt')\n",
    "\n",
    "# Mendapatkan daftar stop words dalam bahasa Indonesia\n",
    "stop_words = stopwords.words('indonesian')"
   ]
  },
  {
   "cell_type": "code",
   "execution_count": 37,
   "metadata": {},
   "outputs": [],
   "source": [
    "# Inisialisasi stemmer Sastrawi\n",
    "factory = StemmerFactory()\n",
    "stemmer = factory.create_stemmer()\n",
    "\n",
    "# Membuat DataFrame\n",
    "df = df.copy()\n",
    "\n",
    "# Custom Transformer for Text Preprocessing\n",
    "class TextPreprocessor(BaseEstimator, TransformerMixin):\n",
    "    def __init__(self, stop_words, stemmer):\n",
    "        self.stop_words = stop_words\n",
    "        self.stemmer = stemmer\n",
    "    \n",
    "    def fit(self, X, y=None):\n",
    "        return self\n",
    "    \n",
    "    def transform(self, X, y=None):\n",
    "        return X.apply(self._preprocess_text)\n",
    "    \n",
    "    def _preprocess_text(self, text):\n",
    "        tokens = nltk.word_tokenize(text.lower())\n",
    "        filtered_tokens = [token for token in tokens if token.isalpha() and token not in self.stop_words]\n",
    "        stemmed_tokens = [self.stemmer.stem(token) for token in filtered_tokens]\n",
    "        return ' '.join(stemmed_tokens)\n",
    "\n",
    "# Pipeline for TF-IDF Vectorization with Preprocessing\n",
    "pipeline = Pipeline([\n",
    "    ('preprocessor', TextPreprocessor(stop_words, stemmer)),\n",
    "    ('tfidf', TfidfVectorizer())\n",
    "])\n",
    "\n",
    "# Apply pipeline to descriptions\n",
    "tfidf_matrix = pipeline.fit_transform(df['description'])\n",
    "\n",
    "# Menghitung kemiripan cosine\n",
    "cosine_sim = cosine_similarity(tfidf_matrix, tfidf_matrix)\n"
   ]
  },
  {
   "cell_type": "code",
   "execution_count": 38,
   "metadata": {},
   "outputs": [],
   "source": [
    "# Fungsi untuk mendapatkan rekomendasi berdasarkan judul\n",
    "def get_recommendations(title, cosine_sim=cosine_sim):\n",
    "    # Mendapatkan indeks dari judul yang diberikan\n",
    "    idx = df[df['title'] == title].index[0]\n",
    "    \n",
    "    # Mengurutkan skor kemiripan\n",
    "    sim_scores = list(enumerate(cosine_sim[idx]))\n",
    "    sim_scores = sorted(sim_scores, key=lambda x: x[1], reverse=True)\n",
    "    \n",
    "    # Mendapatkan skor dari 5 artikel yang paling mirip\n",
    "    sim_scores = sim_scores[1:6]\n",
    "    \n",
    "    # Mendapatkan indeks artikel-artikel tersebut dan skornya\n",
    "    article_indices = [i[0] for i in sim_scores]\n",
    "    scores = [i[1] for i in sim_scores]\n",
    "    \n",
    "    # Mengembalikan judul artikel-artikel yang direkomendasikan dan skornya\n",
    "    recommendations = [(df['title'].iloc[i], scores[idx]) for idx, i in enumerate(article_indices)]\n",
    "    return recommendations"
   ]
  },
  {
   "cell_type": "code",
   "execution_count": 40,
   "metadata": {},
   "outputs": [
    {
     "name": "stdout",
     "output_type": "stream",
     "text": [
      "Rekomendasi untuk 'Night Bookstore':\n",
      "Title: Spy Room, Similarity Score: 0.2476\n",
      "Title: NEET de Otaku na Kunoichi to naze ka Dousei hajimemashita (Somehow, I Started Living With a NEET Otaku Kunoichi), Similarity Score: 0.2000\n",
      "Title: Distancia ~ The Untouchable One, Similarity Score: 0.1729\n",
      "Title: A Story About My Girlfriend Whose Personality Changes Everyday, Similarity Score: 0.1726\n",
      "Title: A Quirky Girl Is Inviting Me to Bed, Similarity Score: 0.1562\n"
     ]
    }
   ],
   "source": [
    "# Contoh penggunaan\n",
    "print(\"Rekomendasi untuk 'Night Bookstore':\")\n",
    "recommendations = get_recommendations('Night Bookstore')\n",
    "for title, score in recommendations:\n",
    "    print(f\"Title: {title}, Similarity Score: {score:.4f}\")"
   ]
  }
 ],
 "metadata": {
  "kernelspec": {
   "display_name": "base",
   "language": "python",
   "name": "python3"
  },
  "language_info": {
   "codemirror_mode": {
    "name": "ipython",
    "version": 3
   },
   "file_extension": ".py",
   "mimetype": "text/x-python",
   "name": "python",
   "nbconvert_exporter": "python",
   "pygments_lexer": "ipython3",
   "version": "3.9.13"
  }
 },
 "nbformat": 4,
 "nbformat_minor": 2
}
