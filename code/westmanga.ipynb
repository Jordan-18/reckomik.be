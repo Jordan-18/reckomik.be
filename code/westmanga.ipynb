{
 "cells": [
  {
   "cell_type": "markdown",
   "metadata": {},
   "source": [
    "# Import Library"
   ]
  },
  {
   "cell_type": "code",
   "execution_count": 1,
   "metadata": {},
   "outputs": [],
   "source": [
    "import pandas as pd\n",
    "from sklearn.feature_extraction.text import TfidfVectorizer\n",
    "from sklearn.metrics.pairwise import cosine_similarity\n",
    "import nltk\n",
    "from nltk.corpus import stopwords\n",
    "from Sastrawi.Stemmer.StemmerFactory import StemmerFactory\n",
    "from sklearn.pipeline import Pipeline\n",
    "from sklearn.base import BaseEstimator, TransformerMixin"
   ]
  },
  {
   "cell_type": "markdown",
   "metadata": {},
   "source": [
    "# Get Data"
   ]
  },
  {
   "cell_type": "code",
   "execution_count": 2,
   "metadata": {},
   "outputs": [
    {
     "data": {
      "text/plain": [
       "(4810, 10)"
      ]
     },
     "execution_count": 2,
     "metadata": {},
     "output_type": "execute_result"
    }
   ],
   "source": [
    "df=pd.read_csv(\"./data/westmanga.csv\")\n",
    "df.shape"
   ]
  },
  {
   "cell_type": "code",
   "execution_count": 3,
   "metadata": {},
   "outputs": [
    {
     "data": {
      "text/html": [
       "<div>\n",
       "<style scoped>\n",
       "    .dataframe tbody tr th:only-of-type {\n",
       "        vertical-align: middle;\n",
       "    }\n",
       "\n",
       "    .dataframe tbody tr th {\n",
       "        vertical-align: top;\n",
       "    }\n",
       "\n",
       "    .dataframe thead th {\n",
       "        text-align: right;\n",
       "    }\n",
       "</style>\n",
       "<table border=\"1\" class=\"dataframe\">\n",
       "  <thead>\n",
       "    <tr style=\"text-align: right;\">\n",
       "      <th></th>\n",
       "      <th>title</th>\n",
       "      <th>alt_title</th>\n",
       "      <th>type</th>\n",
       "      <th>description</th>\n",
       "      <th>genre</th>\n",
       "      <th>author</th>\n",
       "      <th>artist</th>\n",
       "      <th>rate</th>\n",
       "      <th>image</th>\n",
       "      <th>released</th>\n",
       "    </tr>\n",
       "  </thead>\n",
       "  <tbody>\n",
       "    <tr>\n",
       "      <th>0</th>\n",
       "      <td>Sabitsuita Ken wo Tameshi ni Kyoukashite Mitar...</td>\n",
       "      <td>Saat Aku Mencoba Memperkuat \"Pedang Berkarat\",...</td>\n",
       "      <td>Manga</td>\n",
       "      <td>Di dunia ini ketika Kamu berusia dua belas tah...</td>\n",
       "      <td>Action, Adventure, Fantasy, Shounen</td>\n",
       "      <td>HASEGAWA Shunya, MANNO Mizuki</td>\n",
       "      <td>Yaeichi</td>\n",
       "      <td>8.20</td>\n",
       "      <td>https://westmanga.fun/wp-content/uploads/2021/...</td>\n",
       "      <td>2021</td>\n",
       "    </tr>\n",
       "    <tr>\n",
       "      <th>1</th>\n",
       "      <td>Cold</td>\n",
       "      <td>\"Cold\" College Student x College Student.</td>\n",
       "      <td>Manga</td>\n",
       "      <td>wansut</td>\n",
       "      <td>Oneshot, Romance</td>\n",
       "      <td>Tony Hashimen</td>\n",
       "      <td>-</td>\n",
       "      <td>7.12</td>\n",
       "      <td>https://westmanga.fun/wp-content/uploads/2023/...</td>\n",
       "      <td>-</td>\n",
       "    </tr>\n",
       "    <tr>\n",
       "      <th>2</th>\n",
       "      <td>Honyaku no Sainou de Ore Dake ga Sekai wo Kaih...</td>\n",
       "      <td>[Honyaku] no Sainou de Ore Dake ga Sekai wo Ka...</td>\n",
       "      <td>Manga</td>\n",
       "      <td>Noah lahir dalam keluarga bangsawan sihir berg...</td>\n",
       "      <td>Action, Adventure, Comedy, Ecchi, Fantasy, Har...</td>\n",
       "      <td>AONO Hakuto</td>\n",
       "      <td>MARU Tomoyuki</td>\n",
       "      <td>7.00</td>\n",
       "      <td>https://westmanga.fun/wp-content/uploads/2022/...</td>\n",
       "      <td>-</td>\n",
       "    </tr>\n",
       "    <tr>\n",
       "      <th>3</th>\n",
       "      <td>Its Too Precious and Hard to Read 4P Short Sto...</td>\n",
       "      <td>\"It's Too Precious and Hard to Read !!\" 4P Sho...</td>\n",
       "      <td>Manga</td>\n",
       "      <td>Kumpulan cerita pendek lucu dan manis untuk di...</td>\n",
       "      <td>Anthology, Comedy, Drama, Oneshot, Romance, Sc...</td>\n",
       "      <td>9ºC, Ameno, Anthology, ARAOKA Aoi, ASAI Okuta,...</td>\n",
       "      <td>9ºC, Ameno, ARAOKA Aoi, ASAI Okuta, Azuma Fuyu...</td>\n",
       "      <td>7.60</td>\n",
       "      <td>https://westmanga.fun/wp-content/uploads/2021/...</td>\n",
       "      <td>2019</td>\n",
       "    </tr>\n",
       "    <tr>\n",
       "      <th>4</th>\n",
       "      <td>Jako ni wa Kaji ga Oniaida www to Iwareta Kaji...</td>\n",
       "      <td>「雑魚には鍛冶がお似合いだwww」と言われた鍛冶レベル9999の俺、追放されたので冒険者に転...</td>\n",
       "      <td>Manga</td>\n",
       "      <td>Makina seorang pandai besi yang bekerja di gui...</td>\n",
       "      <td>Action, Adventure, Comedy, Fantasy, Harem, Seinen</td>\n",
       "      <td>HARIYA Keita</td>\n",
       "      <td>MITSUKOSHI Haruha</td>\n",
       "      <td>7.20</td>\n",
       "      <td>https://westmanga.fun/wp-content/uploads/2023/...</td>\n",
       "      <td>-</td>\n",
       "    </tr>\n",
       "  </tbody>\n",
       "</table>\n",
       "</div>"
      ],
      "text/plain": [
       "                                               title  \\\n",
       "0  Sabitsuita Ken wo Tameshi ni Kyoukashite Mitar...   \n",
       "1                                               Cold   \n",
       "2  Honyaku no Sainou de Ore Dake ga Sekai wo Kaih...   \n",
       "3  Its Too Precious and Hard to Read 4P Short Sto...   \n",
       "4  Jako ni wa Kaji ga Oniaida www to Iwareta Kaji...   \n",
       "\n",
       "                                           alt_title   type  \\\n",
       "0  Saat Aku Mencoba Memperkuat \"Pedang Berkarat\",...  Manga   \n",
       "1          \"Cold\" College Student x College Student.  Manga   \n",
       "2  [Honyaku] no Sainou de Ore Dake ga Sekai wo Ka...  Manga   \n",
       "3  \"It's Too Precious and Hard to Read !!\" 4P Sho...  Manga   \n",
       "4  「雑魚には鍛冶がお似合いだwww」と言われた鍛冶レベル9999の俺、追放されたので冒険者に転...  Manga   \n",
       "\n",
       "                                         description  \\\n",
       "0  Di dunia ini ketika Kamu berusia dua belas tah...   \n",
       "1                                             wansut   \n",
       "2  Noah lahir dalam keluarga bangsawan sihir berg...   \n",
       "3  Kumpulan cerita pendek lucu dan manis untuk di...   \n",
       "4  Makina seorang pandai besi yang bekerja di gui...   \n",
       "\n",
       "                                               genre  \\\n",
       "0                Action, Adventure, Fantasy, Shounen   \n",
       "1                                   Oneshot, Romance   \n",
       "2  Action, Adventure, Comedy, Ecchi, Fantasy, Har...   \n",
       "3  Anthology, Comedy, Drama, Oneshot, Romance, Sc...   \n",
       "4  Action, Adventure, Comedy, Fantasy, Harem, Seinen   \n",
       "\n",
       "                                              author  \\\n",
       "0                      HASEGAWA Shunya, MANNO Mizuki   \n",
       "1                                      Tony Hashimen   \n",
       "2                                        AONO Hakuto   \n",
       "3  9ºC, Ameno, Anthology, ARAOKA Aoi, ASAI Okuta,...   \n",
       "4                                       HARIYA Keita   \n",
       "\n",
       "                                              artist  rate  \\\n",
       "0                                            Yaeichi  8.20   \n",
       "1                                                  -  7.12   \n",
       "2                                      MARU Tomoyuki  7.00   \n",
       "3  9ºC, Ameno, ARAOKA Aoi, ASAI Okuta, Azuma Fuyu...  7.60   \n",
       "4                                  MITSUKOSHI Haruha  7.20   \n",
       "\n",
       "                                               image released  \n",
       "0  https://westmanga.fun/wp-content/uploads/2021/...     2021  \n",
       "1  https://westmanga.fun/wp-content/uploads/2023/...        -  \n",
       "2  https://westmanga.fun/wp-content/uploads/2022/...        -  \n",
       "3  https://westmanga.fun/wp-content/uploads/2021/...     2019  \n",
       "4  https://westmanga.fun/wp-content/uploads/2023/...        -  "
      ]
     },
     "execution_count": 3,
     "metadata": {},
     "output_type": "execute_result"
    }
   ],
   "source": [
    "df.head()"
   ]
  },
  {
   "cell_type": "code",
   "execution_count": 4,
   "metadata": {},
   "outputs": [
    {
     "data": {
      "text/plain": [
       "Index(['title', 'alt_title', 'type', 'description', 'genre', 'author',\n",
       "       'artist', 'rate', 'image', 'released'],\n",
       "      dtype='object')"
      ]
     },
     "execution_count": 4,
     "metadata": {},
     "output_type": "execute_result"
    }
   ],
   "source": [
    "df.columns"
   ]
  },
  {
   "cell_type": "code",
   "execution_count": 5,
   "metadata": {},
   "outputs": [
    {
     "data": {
      "text/plain": [
       "title            0\n",
       "alt_title      642\n",
       "type             0\n",
       "description     52\n",
       "genre           12\n",
       "author           1\n",
       "artist           0\n",
       "rate             0\n",
       "image            1\n",
       "released        34\n",
       "dtype: int64"
      ]
     },
     "execution_count": 5,
     "metadata": {},
     "output_type": "execute_result"
    }
   ],
   "source": [
    "df.isna().sum()"
   ]
  },
  {
   "cell_type": "code",
   "execution_count": 6,
   "metadata": {},
   "outputs": [
    {
     "data": {
      "text/html": [
       "<div>\n",
       "<style scoped>\n",
       "    .dataframe tbody tr th:only-of-type {\n",
       "        vertical-align: middle;\n",
       "    }\n",
       "\n",
       "    .dataframe tbody tr th {\n",
       "        vertical-align: top;\n",
       "    }\n",
       "\n",
       "    .dataframe thead th {\n",
       "        text-align: right;\n",
       "    }\n",
       "</style>\n",
       "<table border=\"1\" class=\"dataframe\">\n",
       "  <thead>\n",
       "    <tr style=\"text-align: right;\">\n",
       "      <th></th>\n",
       "      <th>title</th>\n",
       "      <th>alt_title</th>\n",
       "      <th>type</th>\n",
       "      <th>description</th>\n",
       "      <th>genre</th>\n",
       "      <th>author</th>\n",
       "      <th>artist</th>\n",
       "      <th>rate</th>\n",
       "      <th>image</th>\n",
       "      <th>released</th>\n",
       "    </tr>\n",
       "  </thead>\n",
       "  <tbody>\n",
       "    <tr>\n",
       "      <th>0</th>\n",
       "      <td>Sabitsuita Ken wo Tameshi ni Kyoukashite Mitar...</td>\n",
       "      <td>Saat Aku Mencoba Memperkuat \"Pedang Berkarat\",...</td>\n",
       "      <td>Manga</td>\n",
       "      <td>Di dunia ini ketika Kamu berusia dua belas tah...</td>\n",
       "      <td>Action, Adventure, Fantasy, Shounen</td>\n",
       "      <td>HASEGAWA Shunya, MANNO Mizuki</td>\n",
       "      <td>Yaeichi</td>\n",
       "      <td>8.20</td>\n",
       "      <td>https://westmanga.fun/wp-content/uploads/2021/...</td>\n",
       "      <td>2021</td>\n",
       "    </tr>\n",
       "    <tr>\n",
       "      <th>1</th>\n",
       "      <td>Cold</td>\n",
       "      <td>\"Cold\" College Student x College Student.</td>\n",
       "      <td>Manga</td>\n",
       "      <td>wansut</td>\n",
       "      <td>Oneshot, Romance</td>\n",
       "      <td>Tony Hashimen</td>\n",
       "      <td>-</td>\n",
       "      <td>7.12</td>\n",
       "      <td>https://westmanga.fun/wp-content/uploads/2023/...</td>\n",
       "      <td>-</td>\n",
       "    </tr>\n",
       "    <tr>\n",
       "      <th>2</th>\n",
       "      <td>Honyaku no Sainou de Ore Dake ga Sekai wo Kaih...</td>\n",
       "      <td>[Honyaku] no Sainou de Ore Dake ga Sekai wo Ka...</td>\n",
       "      <td>Manga</td>\n",
       "      <td>Noah lahir dalam keluarga bangsawan sihir berg...</td>\n",
       "      <td>Action, Adventure, Comedy, Ecchi, Fantasy, Har...</td>\n",
       "      <td>AONO Hakuto</td>\n",
       "      <td>MARU Tomoyuki</td>\n",
       "      <td>7.00</td>\n",
       "      <td>https://westmanga.fun/wp-content/uploads/2022/...</td>\n",
       "      <td>-</td>\n",
       "    </tr>\n",
       "    <tr>\n",
       "      <th>3</th>\n",
       "      <td>Its Too Precious and Hard to Read 4P Short Sto...</td>\n",
       "      <td>\"It's Too Precious and Hard to Read !!\" 4P Sho...</td>\n",
       "      <td>Manga</td>\n",
       "      <td>Kumpulan cerita pendek lucu dan manis untuk di...</td>\n",
       "      <td>Anthology, Comedy, Drama, Oneshot, Romance, Sc...</td>\n",
       "      <td>9ºC, Ameno, Anthology, ARAOKA Aoi, ASAI Okuta,...</td>\n",
       "      <td>9ºC, Ameno, ARAOKA Aoi, ASAI Okuta, Azuma Fuyu...</td>\n",
       "      <td>7.60</td>\n",
       "      <td>https://westmanga.fun/wp-content/uploads/2021/...</td>\n",
       "      <td>2019</td>\n",
       "    </tr>\n",
       "    <tr>\n",
       "      <th>4</th>\n",
       "      <td>Jako ni wa Kaji ga Oniaida www to Iwareta Kaji...</td>\n",
       "      <td>「雑魚には鍛冶がお似合いだwww」と言われた鍛冶レベル9999の俺、追放されたので冒険者に転...</td>\n",
       "      <td>Manga</td>\n",
       "      <td>Makina seorang pandai besi yang bekerja di gui...</td>\n",
       "      <td>Action, Adventure, Comedy, Fantasy, Harem, Seinen</td>\n",
       "      <td>HARIYA Keita</td>\n",
       "      <td>MITSUKOSHI Haruha</td>\n",
       "      <td>7.20</td>\n",
       "      <td>https://westmanga.fun/wp-content/uploads/2023/...</td>\n",
       "      <td>-</td>\n",
       "    </tr>\n",
       "  </tbody>\n",
       "</table>\n",
       "</div>"
      ],
      "text/plain": [
       "                                               title  \\\n",
       "0  Sabitsuita Ken wo Tameshi ni Kyoukashite Mitar...   \n",
       "1                                               Cold   \n",
       "2  Honyaku no Sainou de Ore Dake ga Sekai wo Kaih...   \n",
       "3  Its Too Precious and Hard to Read 4P Short Sto...   \n",
       "4  Jako ni wa Kaji ga Oniaida www to Iwareta Kaji...   \n",
       "\n",
       "                                           alt_title   type  \\\n",
       "0  Saat Aku Mencoba Memperkuat \"Pedang Berkarat\",...  Manga   \n",
       "1          \"Cold\" College Student x College Student.  Manga   \n",
       "2  [Honyaku] no Sainou de Ore Dake ga Sekai wo Ka...  Manga   \n",
       "3  \"It's Too Precious and Hard to Read !!\" 4P Sho...  Manga   \n",
       "4  「雑魚には鍛冶がお似合いだwww」と言われた鍛冶レベル9999の俺、追放されたので冒険者に転...  Manga   \n",
       "\n",
       "                                         description  \\\n",
       "0  Di dunia ini ketika Kamu berusia dua belas tah...   \n",
       "1                                             wansut   \n",
       "2  Noah lahir dalam keluarga bangsawan sihir berg...   \n",
       "3  Kumpulan cerita pendek lucu dan manis untuk di...   \n",
       "4  Makina seorang pandai besi yang bekerja di gui...   \n",
       "\n",
       "                                               genre  \\\n",
       "0                Action, Adventure, Fantasy, Shounen   \n",
       "1                                   Oneshot, Romance   \n",
       "2  Action, Adventure, Comedy, Ecchi, Fantasy, Har...   \n",
       "3  Anthology, Comedy, Drama, Oneshot, Romance, Sc...   \n",
       "4  Action, Adventure, Comedy, Fantasy, Harem, Seinen   \n",
       "\n",
       "                                              author  \\\n",
       "0                      HASEGAWA Shunya, MANNO Mizuki   \n",
       "1                                      Tony Hashimen   \n",
       "2                                        AONO Hakuto   \n",
       "3  9ºC, Ameno, Anthology, ARAOKA Aoi, ASAI Okuta,...   \n",
       "4                                       HARIYA Keita   \n",
       "\n",
       "                                              artist  rate  \\\n",
       "0                                            Yaeichi  8.20   \n",
       "1                                                  -  7.12   \n",
       "2                                      MARU Tomoyuki  7.00   \n",
       "3  9ºC, Ameno, ARAOKA Aoi, ASAI Okuta, Azuma Fuyu...  7.60   \n",
       "4                                  MITSUKOSHI Haruha  7.20   \n",
       "\n",
       "                                               image released  \n",
       "0  https://westmanga.fun/wp-content/uploads/2021/...     2021  \n",
       "1  https://westmanga.fun/wp-content/uploads/2023/...        -  \n",
       "2  https://westmanga.fun/wp-content/uploads/2022/...        -  \n",
       "3  https://westmanga.fun/wp-content/uploads/2021/...     2019  \n",
       "4  https://westmanga.fun/wp-content/uploads/2023/...        -  "
      ]
     },
     "execution_count": 6,
     "metadata": {},
     "output_type": "execute_result"
    }
   ],
   "source": [
    "df.dropna(inplace=True)\n",
    "df.head()"
   ]
  },
  {
   "cell_type": "code",
   "execution_count": 7,
   "metadata": {},
   "outputs": [
    {
     "data": {
      "text/plain": [
       "'Action, Adventure, Fantasy, Shounen'"
      ]
     },
     "execution_count": 7,
     "metadata": {},
     "output_type": "execute_result"
    }
   ],
   "source": [
    "df['genre'][0]"
   ]
  },
  {
   "cell_type": "code",
   "execution_count": 8,
   "metadata": {},
   "outputs": [],
   "source": [
    "def extract_genres(input_string):\n",
    "    genres_data = input_string.split(',')\n",
    "    extracted_genres = set()\n",
    "    for genre_entry in genres_data:\n",
    "        # extracted_genres.add(genre_entry)\n",
    "        # return extracted_genres\n",
    "        if len(genre_entry) >= 2:\n",
    "            genre_name = genre_entry.strip()\n",
    "            extracted_genres.add(genre_name)\n",
    "    return extracted_genres\n",
    "\n",
    "df['genre'] = df[\"genre\"].apply(extract_genres)"
   ]
  },
  {
   "cell_type": "code",
   "execution_count": 9,
   "metadata": {},
   "outputs": [
    {
     "name": "stderr",
     "output_type": "stream",
     "text": [
      "[nltk_data] Downloading package stopwords to\n",
      "[nltk_data]     C:\\Users\\Asus\\AppData\\Roaming\\nltk_data...\n",
      "[nltk_data]   Package stopwords is already up-to-date!\n",
      "[nltk_data] Downloading package punkt to\n",
      "[nltk_data]     C:\\Users\\Asus\\AppData\\Roaming\\nltk_data...\n",
      "[nltk_data]   Package punkt is already up-to-date!\n"
     ]
    }
   ],
   "source": [
    "# Download stopwords NLTK jika belum diunduh\n",
    "nltk.download('stopwords')\n",
    "nltk.download('punkt')\n",
    "\n",
    "# Mendapatkan daftar stop words dalam bahasa Indonesia\n",
    "stop_words = stopwords.words('indonesian')"
   ]
  },
  {
   "cell_type": "code",
   "execution_count": 10,
   "metadata": {},
   "outputs": [],
   "source": [
    "# Inisialisasi stemmer Sastrawi\n",
    "factory = StemmerFactory()\n",
    "stemmer = factory.create_stemmer()\n",
    "\n",
    "# Membuat DataFrame\n",
    "df = df.copy()\n",
    "\n",
    "# Custom Transformer for Text Preprocessing\n",
    "class TextPreprocessor(BaseEstimator, TransformerMixin):\n",
    "    def __init__(self, stop_words, stemmer):\n",
    "        self.stop_words = stop_words\n",
    "        self.stemmer = stemmer\n",
    "    \n",
    "    def fit(self, X, y=None):\n",
    "        return self\n",
    "    \n",
    "    def transform(self, X, y=None):\n",
    "        return X.apply(self._preprocess_text)\n",
    "    \n",
    "    def _preprocess_text(self, text):\n",
    "        tokens = nltk.word_tokenize(text.lower())\n",
    "        filtered_tokens = [token for token in tokens if token.isalpha() and token not in self.stop_words]\n",
    "        stemmed_tokens = [self.stemmer.stem(token) for token in filtered_tokens]\n",
    "        return ' '.join(stemmed_tokens)\n",
    "\n",
    "# Pipeline for TF-IDF Vectorization with Preprocessing\n",
    "pipeline = Pipeline([\n",
    "    ('preprocessor', TextPreprocessor(stop_words, stemmer)),\n",
    "    ('tfidf', TfidfVectorizer())\n",
    "])\n",
    "\n",
    "# Apply pipeline to descriptions\n",
    "tfidf_matrix = pipeline.fit_transform(df['description'])\n",
    "\n",
    "# Menghitung kemiripan cosine\n",
    "cosine_sim = cosine_similarity(tfidf_matrix, tfidf_matrix)\n"
   ]
  },
  {
   "cell_type": "code",
   "execution_count": 11,
   "metadata": {},
   "outputs": [],
   "source": [
    "# Fungsi untuk mendapatkan rekomendasi berdasarkan judul\n",
    "def get_recommendations(title, cosine_sim=cosine_sim):\n",
    "    # Mendapatkan indeks dari judul yang diberikan\n",
    "    idx = df[df['title'] == title].index[0]\n",
    "    \n",
    "    # Mengurutkan skor kemiripan\n",
    "    sim_scores = list(enumerate(cosine_sim[idx]))\n",
    "    sim_scores = sorted(sim_scores, key=lambda x: x[1], reverse=True)\n",
    "    \n",
    "    # Mendapatkan skor dari 5 artikel yang paling mirip\n",
    "    sim_scores = sim_scores[1:6]\n",
    "    \n",
    "    # Mendapatkan indeks artikel-artikel tersebut dan skornya\n",
    "    article_indices = [i[0] for i in sim_scores]\n",
    "    scores = [i[1] for i in sim_scores]\n",
    "    \n",
    "    # Mengembalikan judul artikel-artikel yang direkomendasikan dan skornya\n",
    "    recommendations = [(df['title'].iloc[i], scores[idx]) for idx, i in enumerate(article_indices)]\n",
    "    return recommendations"
   ]
  },
  {
   "cell_type": "code",
   "execution_count": 14,
   "metadata": {},
   "outputs": [
    {
     "name": "stdout",
     "output_type": "stream",
     "text": [
      "Rekomendasi untuk 'Cold':\n",
      "Title: A Bug in the World System, Similarity Score: 1.0000\n",
      "Title: A Nyakuza Manga, Similarity Score: 1.0000\n",
      "Title: A Romcom About a Dark Witch and a Zombie, Similarity Score: 1.0000\n",
      "Title: Au Tabi ni Hikuku Natte iku Onnanoko, Similarity Score: 1.0000\n",
      "Title: Ill Keep Making It For You, Similarity Score: 1.0000\n"
     ]
    }
   ],
   "source": [
    "# Contoh penggunaan\n",
    "print(\"Rekomendasi untuk 'Cold':\")\n",
    "recommendations = get_recommendations('Cold')\n",
    "for title, score in recommendations:\n",
    "    print(f\"Title: {title}, Similarity Score: {score:.4f}\")"
   ]
  }
 ],
 "metadata": {
  "kernelspec": {
   "display_name": "base",
   "language": "python",
   "name": "python3"
  },
  "language_info": {
   "codemirror_mode": {
    "name": "ipython",
    "version": 3
   },
   "file_extension": ".py",
   "mimetype": "text/x-python",
   "name": "python",
   "nbconvert_exporter": "python",
   "pygments_lexer": "ipython3",
   "version": "3.9.13"
  }
 },
 "nbformat": 4,
 "nbformat_minor": 2
}
