{
 "cells": [
  {
   "cell_type": "markdown",
   "id": "61e4e345",
   "metadata": {
    "papermill": {
     "duration": 0.012799,
     "end_time": "2023-10-04T16:08:12.103896",
     "exception": false,
     "start_time": "2023-10-04T16:08:12.091097",
     "status": "completed"
    },
    "tags": []
   },
   "source": [
    "# Introduction "
   ]
  },
  {
   "cell_type": "markdown",
   "id": "dcc3ad20",
   "metadata": {
    "papermill": {
     "duration": 0.012051,
     "end_time": "2023-10-04T16:08:12.127925",
     "exception": false,
     "start_time": "2023-10-04T16:08:12.115874",
     "status": "completed"
    },
    "tags": []
   },
   "source": [
    "In this notebook i am going to show how we can make a content based recommendation system on books.\n",
    "I am gonna use 2 algorithms namely\n",
    "* Cosine Similarity\n",
    "* Jaccof Similarity\n",
    "\n",
    "If you are not samiliar with these names then do not worry i am gonna explain them in detail later so follow the notebook without skipping anything"
   ]
  },
  {
   "cell_type": "markdown",
   "id": "f733d55f",
   "metadata": {
    "papermill": {
     "duration": 0.012755,
     "end_time": "2023-10-04T16:08:12.152812",
     "exception": false,
     "start_time": "2023-10-04T16:08:12.140057",
     "status": "completed"
    },
    "tags": []
   },
   "source": [
    "# Import Neseccary Libraries"
   ]
  },
  {
   "cell_type": "code",
   "execution_count": 1,
   "id": "6c088db3",
   "metadata": {
    "execution": {
     "iopub.execute_input": "2023-10-04T16:08:12.182569Z",
     "iopub.status.busy": "2023-10-04T16:08:12.181392Z",
     "iopub.status.idle": "2023-10-04T16:08:12.650323Z",
     "shell.execute_reply": "2023-10-04T16:08:12.648841Z"
    },
    "papermill": {
     "duration": 0.485496,
     "end_time": "2023-10-04T16:08:12.652968",
     "exception": false,
     "start_time": "2023-10-04T16:08:12.167472",
     "status": "completed"
    },
    "tags": []
   },
   "outputs": [],
   "source": [
    "from fuzzywuzzy import fuzz\n",
    "from fuzzywuzzy import process\n",
    "import pandas as pd\n",
    "import json\n",
    "import matplotlib.pyplot as plt\n",
    "import warnings\n",
    "\n",
    "# Ignore all warnings\n",
    "warnings.filterwarnings(\"ignore\")"
   ]
  },
  {
   "cell_type": "markdown",
   "id": "1bfcff57",
   "metadata": {
    "papermill": {
     "duration": 0.014198,
     "end_time": "2023-10-04T16:08:12.679332",
     "exception": false,
     "start_time": "2023-10-04T16:08:12.665134",
     "status": "completed"
    },
    "tags": []
   },
   "source": [
    "# Data Preparation and EDA"
   ]
  },
  {
   "cell_type": "markdown",
   "id": "0be29602",
   "metadata": {
    "papermill": {
     "duration": 0.011937,
     "end_time": "2023-10-04T16:08:12.703565",
     "exception": false,
     "start_time": "2023-10-04T16:08:12.691628",
     "status": "completed"
    },
    "tags": []
   },
   "source": [
    "For book recommendation system i am gonna use the Goodreads_BestBooksEver_1-10000 dataset which contain data of about 10000 books"
   ]
  },
  {
   "cell_type": "code",
   "execution_count": 2,
   "id": "ca8b565c",
   "metadata": {
    "execution": {
     "iopub.execute_input": "2023-10-04T16:08:12.729331Z",
     "iopub.status.busy": "2023-10-04T16:08:12.728833Z",
     "iopub.status.idle": "2023-10-04T16:08:13.728954Z",
     "shell.execute_reply": "2023-10-04T16:08:13.727864Z"
    },
    "papermill": {
     "duration": 1.015858,
     "end_time": "2023-10-04T16:08:13.731601",
     "exception": false,
     "start_time": "2023-10-04T16:08:12.715743",
     "status": "completed"
    },
    "tags": []
   },
   "outputs": [],
   "source": [
    "df=pd.read_csv(\"/kaggle/input/goodreads-best-books-ever-with-recommendations/Goodreads_BestBooksEver_1-10000.csv\")"
   ]
  },
  {
   "cell_type": "code",
   "execution_count": 3,
   "id": "f0f5b643",
   "metadata": {
    "execution": {
     "iopub.execute_input": "2023-10-04T16:08:13.757998Z",
     "iopub.status.busy": "2023-10-04T16:08:13.757377Z",
     "iopub.status.idle": "2023-10-04T16:08:13.764077Z",
     "shell.execute_reply": "2023-10-04T16:08:13.762886Z"
    },
    "papermill": {
     "duration": 0.022305,
     "end_time": "2023-10-04T16:08:13.766295",
     "exception": false,
     "start_time": "2023-10-04T16:08:13.743990",
     "status": "completed"
    },
    "tags": []
   },
   "outputs": [
    {
     "data": {
      "text/plain": [
       "(10000, 12)"
      ]
     },
     "execution_count": 3,
     "metadata": {},
     "output_type": "execute_result"
    }
   ],
   "source": [
    "df.shape"
   ]
  },
  {
   "cell_type": "code",
   "execution_count": 4,
   "id": "fa45238b",
   "metadata": {
    "execution": {
     "iopub.execute_input": "2023-10-04T16:08:13.792049Z",
     "iopub.status.busy": "2023-10-04T16:08:13.791667Z",
     "iopub.status.idle": "2023-10-04T16:08:13.820122Z",
     "shell.execute_reply": "2023-10-04T16:08:13.819347Z"
    },
    "papermill": {
     "duration": 0.043511,
     "end_time": "2023-10-04T16:08:13.822013",
     "exception": false,
     "start_time": "2023-10-04T16:08:13.778502",
     "status": "completed"
    },
    "tags": []
   },
   "outputs": [
    {
     "data": {
      "text/html": [
       "<div>\n",
       "<style scoped>\n",
       "    .dataframe tbody tr th:only-of-type {\n",
       "        vertical-align: middle;\n",
       "    }\n",
       "\n",
       "    .dataframe tbody tr th {\n",
       "        vertical-align: top;\n",
       "    }\n",
       "\n",
       "    .dataframe thead th {\n",
       "        text-align: right;\n",
       "    }\n",
       "</style>\n",
       "<table border=\"1\" class=\"dataframe\">\n",
       "  <thead>\n",
       "    <tr style=\"text-align: right;\">\n",
       "      <th></th>\n",
       "      <th>url</th>\n",
       "      <th>bookTitle</th>\n",
       "      <th>bookImage</th>\n",
       "      <th>bookAuthors</th>\n",
       "      <th>bookDesc</th>\n",
       "      <th>bookRating</th>\n",
       "      <th>ratingCount</th>\n",
       "      <th>reviewCount</th>\n",
       "      <th>bookPages</th>\n",
       "      <th>bookGenres</th>\n",
       "      <th>bookISBN</th>\n",
       "      <th>recommendations</th>\n",
       "    </tr>\n",
       "  </thead>\n",
       "  <tbody>\n",
       "    <tr>\n",
       "      <th>0</th>\n",
       "      <td>https://www.goodreads.com/book/show/2767052-th...</td>\n",
       "      <td>The Hunger Games</td>\n",
       "      <td>https://i.gr-assets.com/images/S/compressed.ph...</td>\n",
       "      <td>Suzanne Collins</td>\n",
       "      <td>Could you survive on your own in the wild, wit...</td>\n",
       "      <td>4.32</td>\n",
       "      <td>6717635</td>\n",
       "      <td>176054</td>\n",
       "      <td>374 pages</td>\n",
       "      <td>Young Adult/31,498|Fiction/17,878|Science Fict...</td>\n",
       "      <td>9.780439e+12</td>\n",
       "      <td>['Divergent (Divergent, #1)|https://www.goodre...</td>\n",
       "    </tr>\n",
       "    <tr>\n",
       "      <th>1</th>\n",
       "      <td>https://www.goodreads.com/book/show/2.Harry_Po...</td>\n",
       "      <td>Harry Potter and the Order of the Phoenix</td>\n",
       "      <td>https://i.gr-assets.com/images/S/compressed.ph...</td>\n",
       "      <td>J.K. Rowling,Mary GrandPré</td>\n",
       "      <td>There is a door at the end of a silent corrido...</td>\n",
       "      <td>4.50</td>\n",
       "      <td>2668409</td>\n",
       "      <td>45724</td>\n",
       "      <td>870 pages</td>\n",
       "      <td>Fantasy/1,797|Young Adult/15,961|Fiction/14,15...</td>\n",
       "      <td>NaN</td>\n",
       "      <td>['Harry Potter and the Cursed Child: Parts One...</td>\n",
       "    </tr>\n",
       "    <tr>\n",
       "      <th>2</th>\n",
       "      <td>https://www.goodreads.com/book/show/2657.To_Ki...</td>\n",
       "      <td>To Kill a Mockingbird</td>\n",
       "      <td>https://i.gr-assets.com/images/S/compressed.ph...</td>\n",
       "      <td>Harper Lee</td>\n",
       "      <td>The unforgettable novel of a childhood in a sl...</td>\n",
       "      <td>4.28</td>\n",
       "      <td>4772918</td>\n",
       "      <td>95595</td>\n",
       "      <td>324 pages</td>\n",
       "      <td>Classics/47,203|Fiction/23,575|Historical-Hist...</td>\n",
       "      <td>NaN</td>\n",
       "      <td>['The Great Gatsby|https://www.goodreads.com/b...</td>\n",
       "    </tr>\n",
       "    <tr>\n",
       "      <th>3</th>\n",
       "      <td>https://www.goodreads.com/book/show/1885.Pride...</td>\n",
       "      <td>Pride and Prejudice</td>\n",
       "      <td>https://i.gr-assets.com/images/S/compressed.ph...</td>\n",
       "      <td>Jane Austen,Anna Quindlen</td>\n",
       "      <td>Alternate cover edition of ISBN 9780679783268S...</td>\n",
       "      <td>4.27</td>\n",
       "      <td>3206070</td>\n",
       "      <td>74020</td>\n",
       "      <td>279 pages</td>\n",
       "      <td>Classics/52,699|Fiction/15,730|Romance/12,874|...</td>\n",
       "      <td>NaN</td>\n",
       "      <td>['Jane Eyre|https://www.goodreads.com/book/sho...</td>\n",
       "    </tr>\n",
       "    <tr>\n",
       "      <th>4</th>\n",
       "      <td>https://www.goodreads.com/book/show/41865.Twil...</td>\n",
       "      <td>Twilight</td>\n",
       "      <td>https://i.gr-assets.com/images/S/compressed.ph...</td>\n",
       "      <td>Stephenie Meyer</td>\n",
       "      <td>About three things I was absolutely positive.F...</td>\n",
       "      <td>3.61</td>\n",
       "      <td>5231000</td>\n",
       "      <td>107619</td>\n",
       "      <td>501 pages</td>\n",
       "      <td>Young Adult/19,982|Fantasy/19,312|Romance/12,0...</td>\n",
       "      <td>9.780316e+12</td>\n",
       "      <td>['The Hunger Games (The Hunger Games, #1)|http...</td>\n",
       "    </tr>\n",
       "  </tbody>\n",
       "</table>\n",
       "</div>"
      ],
      "text/plain": [
       "                                                 url  \\\n",
       "0  https://www.goodreads.com/book/show/2767052-th...   \n",
       "1  https://www.goodreads.com/book/show/2.Harry_Po...   \n",
       "2  https://www.goodreads.com/book/show/2657.To_Ki...   \n",
       "3  https://www.goodreads.com/book/show/1885.Pride...   \n",
       "4  https://www.goodreads.com/book/show/41865.Twil...   \n",
       "\n",
       "                                   bookTitle  \\\n",
       "0                           The Hunger Games   \n",
       "1  Harry Potter and the Order of the Phoenix   \n",
       "2                      To Kill a Mockingbird   \n",
       "3                        Pride and Prejudice   \n",
       "4                                   Twilight   \n",
       "\n",
       "                                           bookImage  \\\n",
       "0  https://i.gr-assets.com/images/S/compressed.ph...   \n",
       "1  https://i.gr-assets.com/images/S/compressed.ph...   \n",
       "2  https://i.gr-assets.com/images/S/compressed.ph...   \n",
       "3  https://i.gr-assets.com/images/S/compressed.ph...   \n",
       "4  https://i.gr-assets.com/images/S/compressed.ph...   \n",
       "\n",
       "                  bookAuthors  \\\n",
       "0             Suzanne Collins   \n",
       "1  J.K. Rowling,Mary GrandPré   \n",
       "2                  Harper Lee   \n",
       "3   Jane Austen,Anna Quindlen   \n",
       "4             Stephenie Meyer   \n",
       "\n",
       "                                            bookDesc  bookRating  ratingCount  \\\n",
       "0  Could you survive on your own in the wild, wit...        4.32      6717635   \n",
       "1  There is a door at the end of a silent corrido...        4.50      2668409   \n",
       "2  The unforgettable novel of a childhood in a sl...        4.28      4772918   \n",
       "3  Alternate cover edition of ISBN 9780679783268S...        4.27      3206070   \n",
       "4  About three things I was absolutely positive.F...        3.61      5231000   \n",
       "\n",
       "   reviewCount  bookPages                                         bookGenres  \\\n",
       "0       176054  374 pages  Young Adult/31,498|Fiction/17,878|Science Fict...   \n",
       "1        45724  870 pages  Fantasy/1,797|Young Adult/15,961|Fiction/14,15...   \n",
       "2        95595  324 pages  Classics/47,203|Fiction/23,575|Historical-Hist...   \n",
       "3        74020  279 pages  Classics/52,699|Fiction/15,730|Romance/12,874|...   \n",
       "4       107619  501 pages  Young Adult/19,982|Fantasy/19,312|Romance/12,0...   \n",
       "\n",
       "       bookISBN                                    recommendations  \n",
       "0  9.780439e+12  ['Divergent (Divergent, #1)|https://www.goodre...  \n",
       "1           NaN  ['Harry Potter and the Cursed Child: Parts One...  \n",
       "2           NaN  ['The Great Gatsby|https://www.goodreads.com/b...  \n",
       "3           NaN  ['Jane Eyre|https://www.goodreads.com/book/sho...  \n",
       "4  9.780316e+12  ['The Hunger Games (The Hunger Games, #1)|http...  "
      ]
     },
     "execution_count": 4,
     "metadata": {},
     "output_type": "execute_result"
    }
   ],
   "source": [
    "df.head()"
   ]
  },
  {
   "cell_type": "code",
   "execution_count": 5,
   "id": "7d6a0933",
   "metadata": {
    "execution": {
     "iopub.execute_input": "2023-10-04T16:08:13.849677Z",
     "iopub.status.busy": "2023-10-04T16:08:13.848829Z",
     "iopub.status.idle": "2023-10-04T16:08:13.855675Z",
     "shell.execute_reply": "2023-10-04T16:08:13.854644Z"
    },
    "papermill": {
     "duration": 0.022883,
     "end_time": "2023-10-04T16:08:13.857560",
     "exception": false,
     "start_time": "2023-10-04T16:08:13.834677",
     "status": "completed"
    },
    "tags": []
   },
   "outputs": [
    {
     "data": {
      "text/plain": [
       "Index(['url', 'bookTitle', 'bookImage', 'bookAuthors', 'bookDesc',\n",
       "       'bookRating', 'ratingCount', 'reviewCount', 'bookPages', 'bookGenres',\n",
       "       'bookISBN', 'recommendations'],\n",
       "      dtype='object')"
      ]
     },
     "execution_count": 5,
     "metadata": {},
     "output_type": "execute_result"
    }
   ],
   "source": [
    "df.columns"
   ]
  },
  {
   "cell_type": "markdown",
   "id": "878963ac",
   "metadata": {
    "papermill": {
     "duration": 0.012255,
     "end_time": "2023-10-04T16:08:13.882361",
     "exception": false,
     "start_time": "2023-10-04T16:08:13.870106",
     "status": "completed"
    },
    "tags": []
   },
   "source": [
    "Now for our task we need bookGenres and bookTitle as we are gonna recommend books based on the same genre as user will probably like the book from similar genre"
   ]
  },
  {
   "cell_type": "code",
   "execution_count": 6,
   "id": "459b410a",
   "metadata": {
    "execution": {
     "iopub.execute_input": "2023-10-04T16:08:13.973322Z",
     "iopub.status.busy": "2023-10-04T16:08:13.972291Z",
     "iopub.status.idle": "2023-10-04T16:08:13.977481Z",
     "shell.execute_reply": "2023-10-04T16:08:13.976512Z"
    },
    "papermill": {
     "duration": 0.021486,
     "end_time": "2023-10-04T16:08:13.979400",
     "exception": false,
     "start_time": "2023-10-04T16:08:13.957914",
     "status": "completed"
    },
    "tags": []
   },
   "outputs": [],
   "source": [
    "columns_to_drop=['url','bookImage','bookDesc','bookRating','ratingCount','reviewCount','bookPages','bookISBN','recommendations']"
   ]
  },
  {
   "cell_type": "code",
   "execution_count": 7,
   "id": "0cd28c1a",
   "metadata": {
    "execution": {
     "iopub.execute_input": "2023-10-04T16:08:14.009602Z",
     "iopub.status.busy": "2023-10-04T16:08:14.008527Z",
     "iopub.status.idle": "2023-10-04T16:08:14.026186Z",
     "shell.execute_reply": "2023-10-04T16:08:14.025483Z"
    },
    "papermill": {
     "duration": 0.035407,
     "end_time": "2023-10-04T16:08:14.028130",
     "exception": false,
     "start_time": "2023-10-04T16:08:13.992723",
     "status": "completed"
    },
    "tags": []
   },
   "outputs": [
    {
     "data": {
      "text/html": [
       "<div>\n",
       "<style scoped>\n",
       "    .dataframe tbody tr th:only-of-type {\n",
       "        vertical-align: middle;\n",
       "    }\n",
       "\n",
       "    .dataframe tbody tr th {\n",
       "        vertical-align: top;\n",
       "    }\n",
       "\n",
       "    .dataframe thead th {\n",
       "        text-align: right;\n",
       "    }\n",
       "</style>\n",
       "<table border=\"1\" class=\"dataframe\">\n",
       "  <thead>\n",
       "    <tr style=\"text-align: right;\">\n",
       "      <th></th>\n",
       "      <th>bookTitle</th>\n",
       "      <th>bookAuthors</th>\n",
       "      <th>bookGenres</th>\n",
       "    </tr>\n",
       "  </thead>\n",
       "  <tbody>\n",
       "    <tr>\n",
       "      <th>0</th>\n",
       "      <td>The Hunger Games</td>\n",
       "      <td>Suzanne Collins</td>\n",
       "      <td>Young Adult/31,498|Fiction/17,878|Science Fict...</td>\n",
       "    </tr>\n",
       "    <tr>\n",
       "      <th>1</th>\n",
       "      <td>Harry Potter and the Order of the Phoenix</td>\n",
       "      <td>J.K. Rowling,Mary GrandPré</td>\n",
       "      <td>Fantasy/1,797|Young Adult/15,961|Fiction/14,15...</td>\n",
       "    </tr>\n",
       "    <tr>\n",
       "      <th>2</th>\n",
       "      <td>To Kill a Mockingbird</td>\n",
       "      <td>Harper Lee</td>\n",
       "      <td>Classics/47,203|Fiction/23,575|Historical-Hist...</td>\n",
       "    </tr>\n",
       "    <tr>\n",
       "      <th>3</th>\n",
       "      <td>Pride and Prejudice</td>\n",
       "      <td>Jane Austen,Anna Quindlen</td>\n",
       "      <td>Classics/52,699|Fiction/15,730|Romance/12,874|...</td>\n",
       "    </tr>\n",
       "    <tr>\n",
       "      <th>4</th>\n",
       "      <td>Twilight</td>\n",
       "      <td>Stephenie Meyer</td>\n",
       "      <td>Young Adult/19,982|Fantasy/19,312|Romance/12,0...</td>\n",
       "    </tr>\n",
       "  </tbody>\n",
       "</table>\n",
       "</div>"
      ],
      "text/plain": [
       "                                   bookTitle                 bookAuthors  \\\n",
       "0                           The Hunger Games             Suzanne Collins   \n",
       "1  Harry Potter and the Order of the Phoenix  J.K. Rowling,Mary GrandPré   \n",
       "2                      To Kill a Mockingbird                  Harper Lee   \n",
       "3                        Pride and Prejudice   Jane Austen,Anna Quindlen   \n",
       "4                                   Twilight             Stephenie Meyer   \n",
       "\n",
       "                                          bookGenres  \n",
       "0  Young Adult/31,498|Fiction/17,878|Science Fict...  \n",
       "1  Fantasy/1,797|Young Adult/15,961|Fiction/14,15...  \n",
       "2  Classics/47,203|Fiction/23,575|Historical-Hist...  \n",
       "3  Classics/52,699|Fiction/15,730|Romance/12,874|...  \n",
       "4  Young Adult/19,982|Fantasy/19,312|Romance/12,0...  "
      ]
     },
     "execution_count": 7,
     "metadata": {},
     "output_type": "execute_result"
    }
   ],
   "source": [
    "df.drop(columns=columns_to_drop, inplace=True) \n",
    "df.head()"
   ]
  },
  {
   "cell_type": "code",
   "execution_count": 8,
   "id": "19a84086",
   "metadata": {
    "execution": {
     "iopub.execute_input": "2023-10-04T16:08:14.056735Z",
     "iopub.status.busy": "2023-10-04T16:08:14.055795Z",
     "iopub.status.idle": "2023-10-04T16:08:14.064497Z",
     "shell.execute_reply": "2023-10-04T16:08:14.063602Z"
    },
    "papermill": {
     "duration": 0.024872,
     "end_time": "2023-10-04T16:08:14.066419",
     "exception": false,
     "start_time": "2023-10-04T16:08:14.041547",
     "status": "completed"
    },
    "tags": []
   },
   "outputs": [
    {
     "data": {
      "text/plain": [
       "bookTitle        0\n",
       "bookAuthors      0\n",
       "bookGenres     100\n",
       "dtype: int64"
      ]
     },
     "execution_count": 8,
     "metadata": {},
     "output_type": "execute_result"
    }
   ],
   "source": [
    "df.isna().sum()"
   ]
  },
  {
   "cell_type": "markdown",
   "id": "f9085bb4",
   "metadata": {
    "papermill": {
     "duration": 0.013349,
     "end_time": "2023-10-04T16:08:14.092836",
     "exception": false,
     "start_time": "2023-10-04T16:08:14.079487",
     "status": "completed"
    },
    "tags": []
   },
   "source": [
    "There are 100 null values in the bookGenres column so we will simply drop them because 100 values does not matter that much "
   ]
  },
  {
   "cell_type": "code",
   "execution_count": 9,
   "id": "1c4837d5",
   "metadata": {
    "execution": {
     "iopub.execute_input": "2023-10-04T16:08:14.121883Z",
     "iopub.status.busy": "2023-10-04T16:08:14.120970Z",
     "iopub.status.idle": "2023-10-04T16:08:14.129443Z",
     "shell.execute_reply": "2023-10-04T16:08:14.128580Z"
    },
    "papermill": {
     "duration": 0.025803,
     "end_time": "2023-10-04T16:08:14.131744",
     "exception": false,
     "start_time": "2023-10-04T16:08:14.105941",
     "status": "completed"
    },
    "tags": []
   },
   "outputs": [],
   "source": [
    "df.dropna(inplace=True)"
   ]
  },
  {
   "cell_type": "code",
   "execution_count": 10,
   "id": "23f8b95d",
   "metadata": {
    "execution": {
     "iopub.execute_input": "2023-10-04T16:08:14.160928Z",
     "iopub.status.busy": "2023-10-04T16:08:14.160195Z",
     "iopub.status.idle": "2023-10-04T16:08:14.179856Z",
     "shell.execute_reply": "2023-10-04T16:08:14.178924Z"
    },
    "papermill": {
     "duration": 0.036696,
     "end_time": "2023-10-04T16:08:14.182119",
     "exception": false,
     "start_time": "2023-10-04T16:08:14.145423",
     "status": "completed"
    },
    "tags": []
   },
   "outputs": [],
   "source": [
    "df.drop_duplicates(inplace=True)"
   ]
  },
  {
   "cell_type": "code",
   "execution_count": 11,
   "id": "ef2a57d1",
   "metadata": {
    "execution": {
     "iopub.execute_input": "2023-10-04T16:08:14.211205Z",
     "iopub.status.busy": "2023-10-04T16:08:14.210643Z",
     "iopub.status.idle": "2023-10-04T16:08:14.216077Z",
     "shell.execute_reply": "2023-10-04T16:08:14.215274Z"
    },
    "papermill": {
     "duration": 0.022297,
     "end_time": "2023-10-04T16:08:14.218070",
     "exception": false,
     "start_time": "2023-10-04T16:08:14.195773",
     "status": "completed"
    },
    "tags": []
   },
   "outputs": [
    {
     "data": {
      "text/plain": [
       "(9681, 3)"
      ]
     },
     "execution_count": 11,
     "metadata": {},
     "output_type": "execute_result"
    }
   ],
   "source": [
    "df.shape"
   ]
  },
  {
   "cell_type": "code",
   "execution_count": 12,
   "id": "e13c6737",
   "metadata": {
    "execution": {
     "iopub.execute_input": "2023-10-04T16:08:14.247626Z",
     "iopub.status.busy": "2023-10-04T16:08:14.247090Z",
     "iopub.status.idle": "2023-10-04T16:08:14.252296Z",
     "shell.execute_reply": "2023-10-04T16:08:14.251531Z"
    },
    "papermill": {
     "duration": 0.022214,
     "end_time": "2023-10-04T16:08:14.254195",
     "exception": false,
     "start_time": "2023-10-04T16:08:14.231981",
     "status": "completed"
    },
    "tags": []
   },
   "outputs": [
    {
     "data": {
      "text/plain": [
       "'Young Adult/31,498|Fiction/17,878|Science Fiction-Dystopia/16,665|Fantasy/14,057|Science Fiction/10,807|Romance/4,067|Adventure/3,496|Young Adult-Teen/1,906|Apocalyptic-Post Apocalyptic/1,658|Action/1,375'"
      ]
     },
     "execution_count": 12,
     "metadata": {},
     "output_type": "execute_result"
    }
   ],
   "source": [
    "df['bookGenres'][0]"
   ]
  },
  {
   "cell_type": "markdown",
   "id": "0e90e701",
   "metadata": {
    "papermill": {
     "duration": 0.012739,
     "end_time": "2023-10-04T16:08:14.280160",
     "exception": false,
     "start_time": "2023-10-04T16:08:14.267421",
     "status": "completed"
    },
    "tags": []
   },
   "source": [
    "Now as you can see the genres for books are some random string with some numbers in it so we need to extract those genres and store them seperatly so i am using set to make the set of genres for a book"
   ]
  },
  {
   "cell_type": "code",
   "execution_count": 13,
   "id": "357f7232",
   "metadata": {
    "execution": {
     "iopub.execute_input": "2023-10-04T16:08:14.308949Z",
     "iopub.status.busy": "2023-10-04T16:08:14.308368Z",
     "iopub.status.idle": "2023-10-04T16:08:14.379994Z",
     "shell.execute_reply": "2023-10-04T16:08:14.379034Z"
    },
    "papermill": {
     "duration": 0.088333,
     "end_time": "2023-10-04T16:08:14.382218",
     "exception": false,
     "start_time": "2023-10-04T16:08:14.293885",
     "status": "completed"
    },
    "tags": []
   },
   "outputs": [],
   "source": [
    "def extract_genres(input_string):\n",
    "    genres_data = input_string.split('|')\n",
    "    extracted_genres = set()\n",
    "    for genre_entry in genres_data:\n",
    "        genre_parts = genre_entry.split('/')\n",
    "        if len(genre_parts) >= 2:\n",
    "            genre_name = genre_parts[0]  \n",
    "            extracted_genres.add(genre_name)    \n",
    "    return extracted_genres\n",
    "\n",
    "df['cleaned_bookGenres'] = df[\"bookGenres\"].apply(extract_genres)"
   ]
  },
  {
   "cell_type": "code",
   "execution_count": 14,
   "id": "222e549b",
   "metadata": {
    "execution": {
     "iopub.execute_input": "2023-10-04T16:08:14.411800Z",
     "iopub.status.busy": "2023-10-04T16:08:14.411238Z",
     "iopub.status.idle": "2023-10-04T16:08:14.416283Z",
     "shell.execute_reply": "2023-10-04T16:08:14.415601Z"
    },
    "papermill": {
     "duration": 0.021747,
     "end_time": "2023-10-04T16:08:14.418042",
     "exception": false,
     "start_time": "2023-10-04T16:08:14.396295",
     "status": "completed"
    },
    "tags": []
   },
   "outputs": [
    {
     "data": {
      "text/plain": [
       "'The Hunger Games'"
      ]
     },
     "execution_count": 14,
     "metadata": {},
     "output_type": "execute_result"
    }
   ],
   "source": [
    "df['bookTitle'][0]"
   ]
  },
  {
   "cell_type": "code",
   "execution_count": 15,
   "id": "1ba6854d",
   "metadata": {
    "execution": {
     "iopub.execute_input": "2023-10-04T16:08:14.447655Z",
     "iopub.status.busy": "2023-10-04T16:08:14.447105Z",
     "iopub.status.idle": "2023-10-04T16:08:14.451994Z",
     "shell.execute_reply": "2023-10-04T16:08:14.451325Z"
    },
    "papermill": {
     "duration": 0.022215,
     "end_time": "2023-10-04T16:08:14.453849",
     "exception": false,
     "start_time": "2023-10-04T16:08:14.431634",
     "status": "completed"
    },
    "tags": []
   },
   "outputs": [
    {
     "data": {
      "text/plain": [
       "'Young Adult/31,498|Fiction/17,878|Science Fiction-Dystopia/16,665|Fantasy/14,057|Science Fiction/10,807|Romance/4,067|Adventure/3,496|Young Adult-Teen/1,906|Apocalyptic-Post Apocalyptic/1,658|Action/1,375'"
      ]
     },
     "execution_count": 15,
     "metadata": {},
     "output_type": "execute_result"
    }
   ],
   "source": [
    "df['bookGenres'][0]"
   ]
  },
  {
   "cell_type": "code",
   "execution_count": 16,
   "id": "dc142ffb",
   "metadata": {
    "execution": {
     "iopub.execute_input": "2023-10-04T16:08:14.483139Z",
     "iopub.status.busy": "2023-10-04T16:08:14.482586Z",
     "iopub.status.idle": "2023-10-04T16:08:14.489024Z",
     "shell.execute_reply": "2023-10-04T16:08:14.487916Z"
    },
    "papermill": {
     "duration": 0.02344,
     "end_time": "2023-10-04T16:08:14.491335",
     "exception": false,
     "start_time": "2023-10-04T16:08:14.467895",
     "status": "completed"
    },
    "tags": []
   },
   "outputs": [
    {
     "data": {
      "text/plain": [
       "{'Action',\n",
       " 'Adventure',\n",
       " 'Apocalyptic-Post Apocalyptic',\n",
       " 'Fantasy',\n",
       " 'Fiction',\n",
       " 'Romance',\n",
       " 'Science Fiction',\n",
       " 'Science Fiction-Dystopia',\n",
       " 'Young Adult',\n",
       " 'Young Adult-Teen'}"
      ]
     },
     "execution_count": 16,
     "metadata": {},
     "output_type": "execute_result"
    }
   ],
   "source": [
    "df['cleaned_bookGenres'][0]"
   ]
  },
  {
   "cell_type": "code",
   "execution_count": 17,
   "id": "d03c84d4",
   "metadata": {
    "execution": {
     "iopub.execute_input": "2023-10-04T16:08:14.519884Z",
     "iopub.status.busy": "2023-10-04T16:08:14.519558Z",
     "iopub.status.idle": "2023-10-04T16:08:14.525674Z",
     "shell.execute_reply": "2023-10-04T16:08:14.524723Z"
    },
    "papermill": {
     "duration": 0.02263,
     "end_time": "2023-10-04T16:08:14.527635",
     "exception": false,
     "start_time": "2023-10-04T16:08:14.505005",
     "status": "completed"
    },
    "tags": []
   },
   "outputs": [
    {
     "data": {
      "text/plain": [
       "Index(['bookTitle', 'bookAuthors', 'bookGenres', 'cleaned_bookGenres'], dtype='object')"
      ]
     },
     "execution_count": 17,
     "metadata": {},
     "output_type": "execute_result"
    }
   ],
   "source": [
    "df.columns"
   ]
  },
  {
   "cell_type": "markdown",
   "id": "dd724926",
   "metadata": {
    "papermill": {
     "duration": 0.01289,
     "end_time": "2023-10-04T16:08:14.553997",
     "exception": false,
     "start_time": "2023-10-04T16:08:14.541107",
     "status": "completed"
    },
    "tags": []
   },
   "source": [
    "Now as we clean the genres and we have cleaned_bookGenres so there is no need for bookGenres so i am going to drop it"
   ]
  },
  {
   "cell_type": "code",
   "execution_count": 18,
   "id": "840da209",
   "metadata": {
    "execution": {
     "iopub.execute_input": "2023-10-04T16:08:14.582118Z",
     "iopub.status.busy": "2023-10-04T16:08:14.581741Z",
     "iopub.status.idle": "2023-10-04T16:08:14.588632Z",
     "shell.execute_reply": "2023-10-04T16:08:14.587440Z"
    },
    "papermill": {
     "duration": 0.023482,
     "end_time": "2023-10-04T16:08:14.590693",
     "exception": false,
     "start_time": "2023-10-04T16:08:14.567211",
     "status": "completed"
    },
    "tags": []
   },
   "outputs": [],
   "source": [
    "df.drop(['bookGenres'],inplace=True,axis=1)"
   ]
  },
  {
   "cell_type": "code",
   "execution_count": 19,
   "id": "6d52ed31",
   "metadata": {
    "execution": {
     "iopub.execute_input": "2023-10-04T16:08:14.619267Z",
     "iopub.status.busy": "2023-10-04T16:08:14.618702Z",
     "iopub.status.idle": "2023-10-04T16:08:14.630537Z",
     "shell.execute_reply": "2023-10-04T16:08:14.629372Z"
    },
    "papermill": {
     "duration": 0.028533,
     "end_time": "2023-10-04T16:08:14.632589",
     "exception": false,
     "start_time": "2023-10-04T16:08:14.604056",
     "status": "completed"
    },
    "tags": []
   },
   "outputs": [
    {
     "data": {
      "text/html": [
       "<div>\n",
       "<style scoped>\n",
       "    .dataframe tbody tr th:only-of-type {\n",
       "        vertical-align: middle;\n",
       "    }\n",
       "\n",
       "    .dataframe tbody tr th {\n",
       "        vertical-align: top;\n",
       "    }\n",
       "\n",
       "    .dataframe thead th {\n",
       "        text-align: right;\n",
       "    }\n",
       "</style>\n",
       "<table border=\"1\" class=\"dataframe\">\n",
       "  <thead>\n",
       "    <tr style=\"text-align: right;\">\n",
       "      <th></th>\n",
       "      <th>bookTitle</th>\n",
       "      <th>bookAuthors</th>\n",
       "      <th>cleaned_bookGenres</th>\n",
       "    </tr>\n",
       "  </thead>\n",
       "  <tbody>\n",
       "    <tr>\n",
       "      <th>0</th>\n",
       "      <td>The Hunger Games</td>\n",
       "      <td>Suzanne Collins</td>\n",
       "      <td>{Science Fiction-Dystopia, Apocalyptic-Post Ap...</td>\n",
       "    </tr>\n",
       "    <tr>\n",
       "      <th>1</th>\n",
       "      <td>Harry Potter and the Order of the Phoenix</td>\n",
       "      <td>J.K. Rowling,Mary GrandPré</td>\n",
       "      <td>{Childrens-Middle Grade, Adventure, Classics, ...</td>\n",
       "    </tr>\n",
       "    <tr>\n",
       "      <th>2</th>\n",
       "      <td>To Kill a Mockingbird</td>\n",
       "      <td>Harper Lee</td>\n",
       "      <td>{Historical-Historical Fiction, Novels, Classi...</td>\n",
       "    </tr>\n",
       "    <tr>\n",
       "      <th>3</th>\n",
       "      <td>Pride and Prejudice</td>\n",
       "      <td>Jane Austen,Anna Quindlen</td>\n",
       "      <td>{Historical-Historical Fiction, Novels, Romanc...</td>\n",
       "    </tr>\n",
       "    <tr>\n",
       "      <th>4</th>\n",
       "      <td>Twilight</td>\n",
       "      <td>Stephenie Meyer</td>\n",
       "      <td>{Paranormal-Vampires, Fantasy-Supernatural, Fa...</td>\n",
       "    </tr>\n",
       "  </tbody>\n",
       "</table>\n",
       "</div>"
      ],
      "text/plain": [
       "                                   bookTitle                 bookAuthors  \\\n",
       "0                           The Hunger Games             Suzanne Collins   \n",
       "1  Harry Potter and the Order of the Phoenix  J.K. Rowling,Mary GrandPré   \n",
       "2                      To Kill a Mockingbird                  Harper Lee   \n",
       "3                        Pride and Prejudice   Jane Austen,Anna Quindlen   \n",
       "4                                   Twilight             Stephenie Meyer   \n",
       "\n",
       "                                  cleaned_bookGenres  \n",
       "0  {Science Fiction-Dystopia, Apocalyptic-Post Ap...  \n",
       "1  {Childrens-Middle Grade, Adventure, Classics, ...  \n",
       "2  {Historical-Historical Fiction, Novels, Classi...  \n",
       "3  {Historical-Historical Fiction, Novels, Romanc...  \n",
       "4  {Paranormal-Vampires, Fantasy-Supernatural, Fa...  "
      ]
     },
     "execution_count": 19,
     "metadata": {},
     "output_type": "execute_result"
    }
   ],
   "source": [
    "df.head()"
   ]
  },
  {
   "cell_type": "markdown",
   "id": "991a3d87",
   "metadata": {
    "papermill": {
     "duration": 0.014635,
     "end_time": "2023-10-04T16:08:14.661649",
     "exception": false,
     "start_time": "2023-10-04T16:08:14.647014",
     "status": "completed"
    },
    "tags": []
   },
   "source": [
    "# A little Extra"
   ]
  },
  {
   "cell_type": "markdown",
   "id": "9bcdc4b6",
   "metadata": {
    "papermill": {
     "duration": 0.014942,
     "end_time": "2023-10-04T16:08:14.692532",
     "exception": false,
     "start_time": "2023-10-04T16:08:14.677590",
     "status": "completed"
    },
    "tags": []
   },
   "source": [
    "Here i want to do a little extra thing i want the recommended books to me in same language because most of the reader prefer to read the books in the same language so i am going to add the extra column bookLang in the dataset"
   ]
  },
  {
   "cell_type": "code",
   "execution_count": 20,
   "id": "15f16e05",
   "metadata": {
    "execution": {
     "iopub.execute_input": "2023-10-04T16:08:14.726038Z",
     "iopub.status.busy": "2023-10-04T16:08:14.725476Z",
     "iopub.status.idle": "2023-10-04T16:08:14.763721Z",
     "shell.execute_reply": "2023-10-04T16:08:14.762627Z"
    },
    "papermill": {
     "duration": 0.05701,
     "end_time": "2023-10-04T16:08:14.766156",
     "exception": false,
     "start_time": "2023-10-04T16:08:14.709146",
     "status": "completed"
    },
    "tags": []
   },
   "outputs": [],
   "source": [
    "import langid\n",
    "import re"
   ]
  },
  {
   "cell_type": "code",
   "execution_count": 21,
   "id": "9b998802",
   "metadata": {
    "execution": {
     "iopub.execute_input": "2023-10-04T16:08:14.797345Z",
     "iopub.status.busy": "2023-10-04T16:08:14.796974Z",
     "iopub.status.idle": "2023-10-04T16:08:30.545205Z",
     "shell.execute_reply": "2023-10-04T16:08:30.544027Z"
    },
    "papermill": {
     "duration": 15.767872,
     "end_time": "2023-10-04T16:08:30.548466",
     "exception": false,
     "start_time": "2023-10-04T16:08:14.780594",
     "status": "completed"
    },
    "tags": []
   },
   "outputs": [],
   "source": [
    "def detect_lang(input_string):\n",
    "    cleaned_text = re.sub(r'[^a-zA-Z]', ' ', input_string)\n",
    "    language, confidence = langid.classify(cleaned_text)\n",
    "    return language\n",
    "\n",
    "df['bookLang'] = df[\"bookTitle\"].apply(detect_lang)"
   ]
  },
  {
   "cell_type": "code",
   "execution_count": 22,
   "id": "3ed73d84",
   "metadata": {
    "execution": {
     "iopub.execute_input": "2023-10-04T16:08:30.603795Z",
     "iopub.status.busy": "2023-10-04T16:08:30.603290Z",
     "iopub.status.idle": "2023-10-04T16:08:30.626133Z",
     "shell.execute_reply": "2023-10-04T16:08:30.624995Z"
    },
    "papermill": {
     "duration": 0.054821,
     "end_time": "2023-10-04T16:08:30.629765",
     "exception": false,
     "start_time": "2023-10-04T16:08:30.574944",
     "status": "completed"
    },
    "tags": []
   },
   "outputs": [
    {
     "data": {
      "text/html": [
       "<div>\n",
       "<style scoped>\n",
       "    .dataframe tbody tr th:only-of-type {\n",
       "        vertical-align: middle;\n",
       "    }\n",
       "\n",
       "    .dataframe tbody tr th {\n",
       "        vertical-align: top;\n",
       "    }\n",
       "\n",
       "    .dataframe thead th {\n",
       "        text-align: right;\n",
       "    }\n",
       "</style>\n",
       "<table border=\"1\" class=\"dataframe\">\n",
       "  <thead>\n",
       "    <tr style=\"text-align: right;\">\n",
       "      <th></th>\n",
       "      <th>bookTitle</th>\n",
       "      <th>bookAuthors</th>\n",
       "      <th>cleaned_bookGenres</th>\n",
       "      <th>bookLang</th>\n",
       "    </tr>\n",
       "  </thead>\n",
       "  <tbody>\n",
       "    <tr>\n",
       "      <th>0</th>\n",
       "      <td>The Hunger Games</td>\n",
       "      <td>Suzanne Collins</td>\n",
       "      <td>{Science Fiction-Dystopia, Apocalyptic-Post Ap...</td>\n",
       "      <td>en</td>\n",
       "    </tr>\n",
       "    <tr>\n",
       "      <th>1</th>\n",
       "      <td>Harry Potter and the Order of the Phoenix</td>\n",
       "      <td>J.K. Rowling,Mary GrandPré</td>\n",
       "      <td>{Childrens-Middle Grade, Adventure, Classics, ...</td>\n",
       "      <td>en</td>\n",
       "    </tr>\n",
       "    <tr>\n",
       "      <th>2</th>\n",
       "      <td>To Kill a Mockingbird</td>\n",
       "      <td>Harper Lee</td>\n",
       "      <td>{Historical-Historical Fiction, Novels, Classi...</td>\n",
       "      <td>en</td>\n",
       "    </tr>\n",
       "    <tr>\n",
       "      <th>3</th>\n",
       "      <td>Pride and Prejudice</td>\n",
       "      <td>Jane Austen,Anna Quindlen</td>\n",
       "      <td>{Historical-Historical Fiction, Novels, Romanc...</td>\n",
       "      <td>en</td>\n",
       "    </tr>\n",
       "    <tr>\n",
       "      <th>4</th>\n",
       "      <td>Twilight</td>\n",
       "      <td>Stephenie Meyer</td>\n",
       "      <td>{Paranormal-Vampires, Fantasy-Supernatural, Fa...</td>\n",
       "      <td>en</td>\n",
       "    </tr>\n",
       "  </tbody>\n",
       "</table>\n",
       "</div>"
      ],
      "text/plain": [
       "                                   bookTitle                 bookAuthors  \\\n",
       "0                           The Hunger Games             Suzanne Collins   \n",
       "1  Harry Potter and the Order of the Phoenix  J.K. Rowling,Mary GrandPré   \n",
       "2                      To Kill a Mockingbird                  Harper Lee   \n",
       "3                        Pride and Prejudice   Jane Austen,Anna Quindlen   \n",
       "4                                   Twilight             Stephenie Meyer   \n",
       "\n",
       "                                  cleaned_bookGenres bookLang  \n",
       "0  {Science Fiction-Dystopia, Apocalyptic-Post Ap...       en  \n",
       "1  {Childrens-Middle Grade, Adventure, Classics, ...       en  \n",
       "2  {Historical-Historical Fiction, Novels, Classi...       en  \n",
       "3  {Historical-Historical Fiction, Novels, Romanc...       en  \n",
       "4  {Paranormal-Vampires, Fantasy-Supernatural, Fa...       en  "
      ]
     },
     "execution_count": 22,
     "metadata": {},
     "output_type": "execute_result"
    }
   ],
   "source": [
    "df.head()"
   ]
  },
  {
   "cell_type": "markdown",
   "id": "e39ecf7c",
   "metadata": {
    "papermill": {
     "duration": 0.015413,
     "end_time": "2023-10-04T16:08:30.674577",
     "exception": false,
     "start_time": "2023-10-04T16:08:30.659164",
     "status": "completed"
    },
    "tags": []
   },
   "source": [
    "# Cosine Similarity"
   ]
  },
  {
   "cell_type": "markdown",
   "id": "791ce6ab",
   "metadata": {
    "papermill": {
     "duration": 0.013563,
     "end_time": "2023-10-04T16:08:30.701809",
     "exception": false,
     "start_time": "2023-10-04T16:08:30.688246",
     "status": "completed"
    },
    "tags": []
   },
   "source": [
    "Cosine similarity is simply the similarity between many numbers so first we need to convert the data into numbers for that purpose we will use TF/IDF "
   ]
  },
  {
   "cell_type": "code",
   "execution_count": 23,
   "id": "a309b9ab",
   "metadata": {
    "execution": {
     "iopub.execute_input": "2023-10-04T16:08:30.732195Z",
     "iopub.status.busy": "2023-10-04T16:08:30.731763Z",
     "iopub.status.idle": "2023-10-04T16:08:32.151721Z",
     "shell.execute_reply": "2023-10-04T16:08:32.150638Z"
    },
    "papermill": {
     "duration": 1.438459,
     "end_time": "2023-10-04T16:08:32.154634",
     "exception": false,
     "start_time": "2023-10-04T16:08:30.716175",
     "status": "completed"
    },
    "tags": []
   },
   "outputs": [],
   "source": [
    "from sklearn.feature_extraction.text import TfidfVectorizer\n",
    "from sklearn.metrics.pairwise import cosine_similarity,euclidean_distances"
   ]
  },
  {
   "cell_type": "markdown",
   "id": "e8685cb1",
   "metadata": {
    "papermill": {
     "duration": 0.014519,
     "end_time": "2023-10-04T16:08:32.184020",
     "exception": false,
     "start_time": "2023-10-04T16:08:32.169501",
     "status": "completed"
    },
    "tags": []
   },
   "source": [
    "For TF/IDF we first need to gather all genres and language into a single string so lets do that"
   ]
  },
  {
   "cell_type": "code",
   "execution_count": 24,
   "id": "d6f09e25",
   "metadata": {
    "execution": {
     "iopub.execute_input": "2023-10-04T16:08:32.214422Z",
     "iopub.status.busy": "2023-10-04T16:08:32.213980Z",
     "iopub.status.idle": "2023-10-04T16:08:32.221181Z",
     "shell.execute_reply": "2023-10-04T16:08:32.220371Z"
    },
    "papermill": {
     "duration": 0.024954,
     "end_time": "2023-10-04T16:08:32.222956",
     "exception": false,
     "start_time": "2023-10-04T16:08:32.198002",
     "status": "completed"
    },
    "tags": []
   },
   "outputs": [
    {
     "data": {
      "text/plain": [
       "bookTitle                                              The Hunger Games\n",
       "bookAuthors                                             Suzanne Collins\n",
       "cleaned_bookGenres    {Science Fiction-Dystopia, Apocalyptic-Post Ap...\n",
       "bookLang                                                             en\n",
       "Name: 0, dtype: object"
      ]
     },
     "execution_count": 24,
     "metadata": {},
     "output_type": "execute_result"
    }
   ],
   "source": [
    "x=df.iloc[0]\n",
    "x"
   ]
  },
  {
   "cell_type": "code",
   "execution_count": 25,
   "id": "bde7e3df",
   "metadata": {
    "execution": {
     "iopub.execute_input": "2023-10-04T16:08:32.254753Z",
     "iopub.status.busy": "2023-10-04T16:08:32.253677Z",
     "iopub.status.idle": "2023-10-04T16:08:32.259680Z",
     "shell.execute_reply": "2023-10-04T16:08:32.258828Z"
    },
    "papermill": {
     "duration": 0.02335,
     "end_time": "2023-10-04T16:08:32.261552",
     "exception": false,
     "start_time": "2023-10-04T16:08:32.238202",
     "status": "completed"
    },
    "tags": []
   },
   "outputs": [
    {
     "data": {
      "text/plain": [
       "'Science Fiction-Dystopia Apocalyptic-Post Apocalyptic Adventure Romance Fiction Science Fiction Action Fantasy Young Adult Young Adult-Teen en'"
      ]
     },
     "execution_count": 25,
     "metadata": {},
     "output_type": "execute_result"
    }
   ],
   "source": [
    "result_string = \" \".join(x.cleaned_bookGenres)\n",
    "result_string=result_string+\" \"+x.bookLang\n",
    "result_string"
   ]
  },
  {
   "cell_type": "markdown",
   "id": "77fddecd",
   "metadata": {
    "papermill": {
     "duration": 0.013583,
     "end_time": "2023-10-04T16:08:32.289081",
     "exception": false,
     "start_time": "2023-10-04T16:08:32.275498",
     "status": "completed"
    },
    "tags": []
   },
   "source": [
    "So now we will create a function to do this for all the dataset"
   ]
  },
  {
   "cell_type": "code",
   "execution_count": 26,
   "id": "e24b1d75",
   "metadata": {
    "execution": {
     "iopub.execute_input": "2023-10-04T16:08:32.319387Z",
     "iopub.status.busy": "2023-10-04T16:08:32.318148Z",
     "iopub.status.idle": "2023-10-04T16:08:32.473395Z",
     "shell.execute_reply": "2023-10-04T16:08:32.472421Z"
    },
    "papermill": {
     "duration": 0.172625,
     "end_time": "2023-10-04T16:08:32.475619",
     "exception": false,
     "start_time": "2023-10-04T16:08:32.302994",
     "status": "completed"
    },
    "tags": []
   },
   "outputs": [],
   "source": [
    "def get_string(row):\n",
    "    result_string = \" \".join(row.cleaned_bookGenres)\n",
    "    result_string=result_string+\" \"+row.bookLang\n",
    "    return  result_string\n",
    "df['string'] = df.apply(get_string,axis=1)"
   ]
  },
  {
   "cell_type": "code",
   "execution_count": 27,
   "id": "0c975131",
   "metadata": {
    "execution": {
     "iopub.execute_input": "2023-10-04T16:08:32.505613Z",
     "iopub.status.busy": "2023-10-04T16:08:32.505236Z",
     "iopub.status.idle": "2023-10-04T16:08:32.518241Z",
     "shell.execute_reply": "2023-10-04T16:08:32.517210Z"
    },
    "papermill": {
     "duration": 0.030512,
     "end_time": "2023-10-04T16:08:32.520393",
     "exception": false,
     "start_time": "2023-10-04T16:08:32.489881",
     "status": "completed"
    },
    "tags": []
   },
   "outputs": [
    {
     "data": {
      "text/html": [
       "<div>\n",
       "<style scoped>\n",
       "    .dataframe tbody tr th:only-of-type {\n",
       "        vertical-align: middle;\n",
       "    }\n",
       "\n",
       "    .dataframe tbody tr th {\n",
       "        vertical-align: top;\n",
       "    }\n",
       "\n",
       "    .dataframe thead th {\n",
       "        text-align: right;\n",
       "    }\n",
       "</style>\n",
       "<table border=\"1\" class=\"dataframe\">\n",
       "  <thead>\n",
       "    <tr style=\"text-align: right;\">\n",
       "      <th></th>\n",
       "      <th>bookTitle</th>\n",
       "      <th>bookAuthors</th>\n",
       "      <th>cleaned_bookGenres</th>\n",
       "      <th>bookLang</th>\n",
       "      <th>string</th>\n",
       "    </tr>\n",
       "  </thead>\n",
       "  <tbody>\n",
       "    <tr>\n",
       "      <th>0</th>\n",
       "      <td>The Hunger Games</td>\n",
       "      <td>Suzanne Collins</td>\n",
       "      <td>{Science Fiction-Dystopia, Apocalyptic-Post Ap...</td>\n",
       "      <td>en</td>\n",
       "      <td>Science Fiction-Dystopia Apocalyptic-Post Apoc...</td>\n",
       "    </tr>\n",
       "    <tr>\n",
       "      <th>1</th>\n",
       "      <td>Harry Potter and the Order of the Phoenix</td>\n",
       "      <td>J.K. Rowling,Mary GrandPré</td>\n",
       "      <td>{Childrens-Middle Grade, Adventure, Classics, ...</td>\n",
       "      <td>en</td>\n",
       "      <td>Childrens-Middle Grade Adventure Classics Fant...</td>\n",
       "    </tr>\n",
       "    <tr>\n",
       "      <th>2</th>\n",
       "      <td>To Kill a Mockingbird</td>\n",
       "      <td>Harper Lee</td>\n",
       "      <td>{Historical-Historical Fiction, Novels, Classi...</td>\n",
       "      <td>en</td>\n",
       "      <td>Historical-Historical Fiction Novels Classics ...</td>\n",
       "    </tr>\n",
       "    <tr>\n",
       "      <th>3</th>\n",
       "      <td>Pride and Prejudice</td>\n",
       "      <td>Jane Austen,Anna Quindlen</td>\n",
       "      <td>{Historical-Historical Fiction, Novels, Romanc...</td>\n",
       "      <td>en</td>\n",
       "      <td>Historical-Historical Fiction Novels Romance C...</td>\n",
       "    </tr>\n",
       "    <tr>\n",
       "      <th>4</th>\n",
       "      <td>Twilight</td>\n",
       "      <td>Stephenie Meyer</td>\n",
       "      <td>{Paranormal-Vampires, Fantasy-Supernatural, Fa...</td>\n",
       "      <td>en</td>\n",
       "      <td>Paranormal-Vampires Fantasy-Supernatural Fanta...</td>\n",
       "    </tr>\n",
       "  </tbody>\n",
       "</table>\n",
       "</div>"
      ],
      "text/plain": [
       "                                   bookTitle                 bookAuthors  \\\n",
       "0                           The Hunger Games             Suzanne Collins   \n",
       "1  Harry Potter and the Order of the Phoenix  J.K. Rowling,Mary GrandPré   \n",
       "2                      To Kill a Mockingbird                  Harper Lee   \n",
       "3                        Pride and Prejudice   Jane Austen,Anna Quindlen   \n",
       "4                                   Twilight             Stephenie Meyer   \n",
       "\n",
       "                                  cleaned_bookGenres bookLang  \\\n",
       "0  {Science Fiction-Dystopia, Apocalyptic-Post Ap...       en   \n",
       "1  {Childrens-Middle Grade, Adventure, Classics, ...       en   \n",
       "2  {Historical-Historical Fiction, Novels, Classi...       en   \n",
       "3  {Historical-Historical Fiction, Novels, Romanc...       en   \n",
       "4  {Paranormal-Vampires, Fantasy-Supernatural, Fa...       en   \n",
       "\n",
       "                                              string  \n",
       "0  Science Fiction-Dystopia Apocalyptic-Post Apoc...  \n",
       "1  Childrens-Middle Grade Adventure Classics Fant...  \n",
       "2  Historical-Historical Fiction Novels Classics ...  \n",
       "3  Historical-Historical Fiction Novels Romance C...  \n",
       "4  Paranormal-Vampires Fantasy-Supernatural Fanta...  "
      ]
     },
     "execution_count": 27,
     "metadata": {},
     "output_type": "execute_result"
    }
   ],
   "source": [
    "df.head()"
   ]
  },
  {
   "cell_type": "code",
   "execution_count": 28,
   "id": "907d9266",
   "metadata": {
    "execution": {
     "iopub.execute_input": "2023-10-04T16:08:32.550699Z",
     "iopub.status.busy": "2023-10-04T16:08:32.550327Z",
     "iopub.status.idle": "2023-10-04T16:08:32.554981Z",
     "shell.execute_reply": "2023-10-04T16:08:32.553994Z"
    },
    "papermill": {
     "duration": 0.022119,
     "end_time": "2023-10-04T16:08:32.556920",
     "exception": false,
     "start_time": "2023-10-04T16:08:32.534801",
     "status": "completed"
    },
    "tags": []
   },
   "outputs": [],
   "source": [
    "tfidf=TfidfVectorizer(max_features=3000)"
   ]
  },
  {
   "cell_type": "code",
   "execution_count": 29,
   "id": "3539677d",
   "metadata": {
    "execution": {
     "iopub.execute_input": "2023-10-04T16:08:32.587267Z",
     "iopub.status.busy": "2023-10-04T16:08:32.586505Z",
     "iopub.status.idle": "2023-10-04T16:08:32.758322Z",
     "shell.execute_reply": "2023-10-04T16:08:32.757334Z"
    },
    "papermill": {
     "duration": 0.189452,
     "end_time": "2023-10-04T16:08:32.760572",
     "exception": false,
     "start_time": "2023-10-04T16:08:32.571120",
     "status": "completed"
    },
    "tags": []
   },
   "outputs": [
    {
     "data": {
      "text/plain": [
       "(9681, 703)"
      ]
     },
     "execution_count": 29,
     "metadata": {},
     "output_type": "execute_result"
    }
   ],
   "source": [
    "vector=tfidf.fit_transform(df['string'])\n",
    "vector.shape"
   ]
  },
  {
   "cell_type": "markdown",
   "id": "69e1d806",
   "metadata": {
    "papermill": {
     "duration": 0.014004,
     "end_time": "2023-10-04T16:08:32.789529",
     "exception": false,
     "start_time": "2023-10-04T16:08:32.775525",
     "status": "completed"
    },
    "tags": []
   },
   "source": [
    "We need the list of all the Book Titles and there index in the dataset"
   ]
  },
  {
   "cell_type": "code",
   "execution_count": 30,
   "id": "cbf0a48e",
   "metadata": {
    "execution": {
     "iopub.execute_input": "2023-10-04T16:08:32.820366Z",
     "iopub.status.busy": "2023-10-04T16:08:32.819241Z",
     "iopub.status.idle": "2023-10-04T16:08:32.836381Z",
     "shell.execute_reply": "2023-10-04T16:08:32.835285Z"
    },
    "papermill": {
     "duration": 0.034776,
     "end_time": "2023-10-04T16:08:32.838494",
     "exception": false,
     "start_time": "2023-10-04T16:08:32.803718",
     "status": "completed"
    },
    "tags": []
   },
   "outputs": [
    {
     "data": {
      "text/plain": [
       "bookTitle\n",
       "The Hunger Games                                0\n",
       "Harry Potter and the Order of the Phoenix       1\n",
       "To Kill a Mockingbird                           2\n",
       "Pride and Prejudice                             3\n",
       "Twilight                                        4\n",
       "                                             ... \n",
       "Civil War: A Marvel Comics Event             9995\n",
       "Peter the Great: His Life and World          9996\n",
       "Owl at Home (I Can Read, Level 2)            9997\n",
       "The People in the Trees                      9998\n",
       "Half Girlfriend                              9999\n",
       "Length: 9681, dtype: int64"
      ]
     },
     "execution_count": 30,
     "metadata": {},
     "output_type": "execute_result"
    }
   ],
   "source": [
    "movie2idx=pd.Series(df.index,index=df['bookTitle'])\n",
    "movie2idx"
   ]
  },
  {
   "cell_type": "code",
   "execution_count": 31,
   "id": "4adb5a09",
   "metadata": {
    "execution": {
     "iopub.execute_input": "2023-10-04T16:08:32.869470Z",
     "iopub.status.busy": "2023-10-04T16:08:32.868452Z",
     "iopub.status.idle": "2023-10-04T16:08:32.875468Z",
     "shell.execute_reply": "2023-10-04T16:08:32.874535Z"
    },
    "papermill": {
     "duration": 0.024683,
     "end_time": "2023-10-04T16:08:32.877431",
     "exception": false,
     "start_time": "2023-10-04T16:08:32.852748",
     "status": "completed"
    },
    "tags": []
   },
   "outputs": [
    {
     "data": {
      "text/plain": [
       "0"
      ]
     },
     "execution_count": 31,
     "metadata": {},
     "output_type": "execute_result"
    }
   ],
   "source": [
    "idx=movie2idx['The Hunger Games']\n",
    "idx"
   ]
  },
  {
   "cell_type": "markdown",
   "id": "32f2dbad",
   "metadata": {
    "papermill": {
     "duration": 0.015622,
     "end_time": "2023-10-04T16:08:32.908106",
     "exception": false,
     "start_time": "2023-10-04T16:08:32.892484",
     "status": "completed"
    },
    "tags": []
   },
   "source": [
    "Now we will query the TF/IDF value for that Book or index"
   ]
  },
  {
   "cell_type": "code",
   "execution_count": 32,
   "id": "890c9ade",
   "metadata": {
    "execution": {
     "iopub.execute_input": "2023-10-04T16:08:32.940929Z",
     "iopub.status.busy": "2023-10-04T16:08:32.940571Z",
     "iopub.status.idle": "2023-10-04T16:08:32.948206Z",
     "shell.execute_reply": "2023-10-04T16:08:32.947347Z"
    },
    "papermill": {
     "duration": 0.027207,
     "end_time": "2023-10-04T16:08:32.950282",
     "exception": false,
     "start_time": "2023-10-04T16:08:32.923075",
     "status": "completed"
    },
    "tags": []
   },
   "outputs": [
    {
     "data": {
      "text/plain": [
       "<1x703 sparse matrix of type '<class 'numpy.float64'>'\n",
       "\twith 13 stored elements in Compressed Sparse Row format>"
      ]
     },
     "execution_count": 32,
     "metadata": {},
     "output_type": "execute_result"
    }
   ],
   "source": [
    "query=vector[idx]\n",
    "query"
   ]
  },
  {
   "cell_type": "markdown",
   "id": "66448a83",
   "metadata": {
    "papermill": {
     "duration": 0.015243,
     "end_time": "2023-10-04T16:08:32.981682",
     "exception": false,
     "start_time": "2023-10-04T16:08:32.966439",
     "status": "completed"
    },
    "tags": []
   },
   "source": [
    "Now we will calculate the Cosine Similarity of all the other books "
   ]
  },
  {
   "cell_type": "code",
   "execution_count": 33,
   "id": "1678647b",
   "metadata": {
    "execution": {
     "iopub.execute_input": "2023-10-04T16:08:33.012947Z",
     "iopub.status.busy": "2023-10-04T16:08:33.012598Z",
     "iopub.status.idle": "2023-10-04T16:08:33.024779Z",
     "shell.execute_reply": "2023-10-04T16:08:33.023661Z"
    },
    "papermill": {
     "duration": 0.030712,
     "end_time": "2023-10-04T16:08:33.026984",
     "exception": false,
     "start_time": "2023-10-04T16:08:32.996272",
     "status": "completed"
    },
    "tags": []
   },
   "outputs": [
    {
     "data": {
      "text/plain": [
       "array([[1.        , 0.28324503, 0.12138773, ..., 0.01049705, 0.15175197,\n",
       "        0.09581961]])"
      ]
     },
     "execution_count": 33,
     "metadata": {},
     "output_type": "execute_result"
    }
   ],
   "source": [
    "scores=cosine_similarity(query,vector)\n",
    "scores"
   ]
  },
  {
   "cell_type": "code",
   "execution_count": 34,
   "id": "35b26112",
   "metadata": {
    "execution": {
     "iopub.execute_input": "2023-10-04T16:08:33.058856Z",
     "iopub.status.busy": "2023-10-04T16:08:33.058508Z",
     "iopub.status.idle": "2023-10-04T16:08:33.063493Z",
     "shell.execute_reply": "2023-10-04T16:08:33.062337Z"
    },
    "papermill": {
     "duration": 0.023835,
     "end_time": "2023-10-04T16:08:33.065480",
     "exception": false,
     "start_time": "2023-10-04T16:08:33.041645",
     "status": "completed"
    },
    "tags": []
   },
   "outputs": [],
   "source": [
    "scores=scores.flatten()"
   ]
  },
  {
   "cell_type": "markdown",
   "id": "b55ad6ae",
   "metadata": {
    "papermill": {
     "duration": 0.015125,
     "end_time": "2023-10-04T16:08:33.095589",
     "exception": false,
     "start_time": "2023-10-04T16:08:33.080464",
     "status": "completed"
    },
    "tags": []
   },
   "source": [
    "Now we will sort the scores array and select the one with most similarity as we know argsort will sort in ascending order so we will add a - sign to the scores and get the top 5 values"
   ]
  },
  {
   "cell_type": "code",
   "execution_count": 35,
   "id": "49ece2fc",
   "metadata": {
    "execution": {
     "iopub.execute_input": "2023-10-04T16:08:33.127762Z",
     "iopub.status.busy": "2023-10-04T16:08:33.127407Z",
     "iopub.status.idle": "2023-10-04T16:08:33.132020Z",
     "shell.execute_reply": "2023-10-04T16:08:33.131212Z"
    },
    "papermill": {
     "duration": 0.023017,
     "end_time": "2023-10-04T16:08:33.133866",
     "exception": false,
     "start_time": "2023-10-04T16:08:33.110849",
     "status": "completed"
    },
    "tags": []
   },
   "outputs": [],
   "source": [
    "recommended_idx=(-scores).argsort()[1:6]"
   ]
  },
  {
   "cell_type": "code",
   "execution_count": 36,
   "id": "496c29c8",
   "metadata": {
    "execution": {
     "iopub.execute_input": "2023-10-04T16:08:33.165201Z",
     "iopub.status.busy": "2023-10-04T16:08:33.164623Z",
     "iopub.status.idle": "2023-10-04T16:08:33.172243Z",
     "shell.execute_reply": "2023-10-04T16:08:33.171070Z"
    },
    "papermill": {
     "duration": 0.025802,
     "end_time": "2023-10-04T16:08:33.174519",
     "exception": false,
     "start_time": "2023-10-04T16:08:33.148717",
     "status": "completed"
    },
    "tags": []
   },
   "outputs": [
    {
     "data": {
      "text/plain": [
       "1518    Blood Red Road\n",
       "243      Catching Fire\n",
       "156          Insurgent\n",
       "4160         Article 5\n",
       "1370    The Kill Order\n",
       "Name: bookTitle, dtype: object"
      ]
     },
     "execution_count": 36,
     "metadata": {},
     "output_type": "execute_result"
    }
   ],
   "source": [
    "df['bookTitle'].iloc[recommended_idx]"
   ]
  },
  {
   "cell_type": "markdown",
   "id": "b3f99ecd",
   "metadata": {
    "papermill": {
     "duration": 0.014332,
     "end_time": "2023-10-04T16:08:33.203784",
     "exception": false,
     "start_time": "2023-10-04T16:08:33.189452",
     "status": "completed"
    },
    "tags": []
   },
   "source": [
    "So these are the books recommended for the users who love 'The Hunger Games' \n",
    "So now we will make a function that take the title of book as input and give the recommendations.Here i want to add a functionality so that if the title entered by user is a little bit change or mis spelled then rather than giving Book not exist it sees if there is any Book name similar to the given Title"
   ]
  },
  {
   "cell_type": "code",
   "execution_count": 37,
   "id": "cb9a0488",
   "metadata": {
    "execution": {
     "iopub.execute_input": "2023-10-04T16:08:33.235356Z",
     "iopub.status.busy": "2023-10-04T16:08:33.234981Z",
     "iopub.status.idle": "2023-10-04T16:08:33.241791Z",
     "shell.execute_reply": "2023-10-04T16:08:33.240761Z"
    },
    "papermill": {
     "duration": 0.024969,
     "end_time": "2023-10-04T16:08:33.243806",
     "exception": false,
     "start_time": "2023-10-04T16:08:33.218837",
     "status": "completed"
    },
    "tags": []
   },
   "outputs": [],
   "source": [
    "def recommended_movies_cosine(title):\n",
    "    try:\n",
    "        idx=movie2idx[title]\n",
    "    except:\n",
    "        matches = process.extract(title, df['bookTitle'].tolist(), limit=1)\n",
    "        if matches and matches[0][1] >= 80:  \n",
    "            similar_name = matches[0][0]\n",
    "            return f\"Did you mean '{similar_name}'?\"\n",
    "        print(\"Book Not Exist\")\n",
    "        return      \n",
    "    if type(idx)==pd.Series:\n",
    "        idx=idx.iloc[0]\n",
    "    print(idx)\n",
    "    query=vector[idx]\n",
    "    scores=cosine_similarity(query,vector)\n",
    "    scores=scores.flatten()\n",
    "    recommended_idx=(-scores).argsort()[1:6]\n",
    "    return df['bookTitle'].iloc[recommended_idx]"
   ]
  },
  {
   "cell_type": "code",
   "execution_count": 38,
   "id": "7992eecb",
   "metadata": {
    "execution": {
     "iopub.execute_input": "2023-10-04T16:08:33.276006Z",
     "iopub.status.busy": "2023-10-04T16:08:33.275308Z",
     "iopub.status.idle": "2023-10-04T16:08:33.902126Z",
     "shell.execute_reply": "2023-10-04T16:08:33.901311Z"
    },
    "papermill": {
     "duration": 0.645371,
     "end_time": "2023-10-04T16:08:33.904128",
     "exception": false,
     "start_time": "2023-10-04T16:08:33.258757",
     "status": "completed"
    },
    "tags": []
   },
   "outputs": [
    {
     "data": {
      "text/plain": [
       "\"Did you mean 'Article 5'?\""
      ]
     },
     "execution_count": 38,
     "metadata": {},
     "output_type": "execute_result"
    }
   ],
   "source": [
    "recommended_movies_cosine('Article')"
   ]
  },
  {
   "cell_type": "code",
   "execution_count": 39,
   "id": "89fca286",
   "metadata": {
    "execution": {
     "iopub.execute_input": "2023-10-04T16:08:33.936482Z",
     "iopub.status.busy": "2023-10-04T16:08:33.935399Z",
     "iopub.status.idle": "2023-10-04T16:08:33.949132Z",
     "shell.execute_reply": "2023-10-04T16:08:33.948060Z"
    },
    "papermill": {
     "duration": 0.032575,
     "end_time": "2023-10-04T16:08:33.951753",
     "exception": false,
     "start_time": "2023-10-04T16:08:33.919178",
     "status": "completed"
    },
    "tags": []
   },
   "outputs": [
    {
     "name": "stdout",
     "output_type": "stream",
     "text": [
      "4160\n"
     ]
    },
    {
     "data": {
      "text/plain": [
       "3167            Assuming Names: A Con Artist's Masquerade\n",
       "4684    The Stranger Beside Me: Ted Bundy: The Shockin...\n",
       "2030                                                Lucky\n",
       "5450                                              Wiseguy\n",
       "9770                                       My Dark Places\n",
       "Name: bookTitle, dtype: object"
      ]
     },
     "execution_count": 39,
     "metadata": {},
     "output_type": "execute_result"
    }
   ],
   "source": [
    "recommended_movies_cosine('Article 5')"
   ]
  },
  {
   "cell_type": "markdown",
   "id": "71f3d794",
   "metadata": {
    "papermill": {
     "duration": 0.01481,
     "end_time": "2023-10-04T16:08:33.981820",
     "exception": false,
     "start_time": "2023-10-04T16:08:33.967010",
     "status": "completed"
    },
    "tags": []
   },
   "source": [
    "# Jaccof Similarity"
   ]
  },
  {
   "cell_type": "markdown",
   "id": "2f76025f",
   "metadata": {
    "papermill": {
     "duration": 0.015945,
     "end_time": "2023-10-04T16:08:34.012862",
     "exception": false,
     "start_time": "2023-10-04T16:08:33.996917",
     "status": "completed"
    },
    "tags": []
   },
   "source": [
    "Jaccof Similarity is another Algorithm used for detecting similarites between 2 or more thinks. The idea is simple rather than string here we need a set contain all important information like in this case genres and language and then we will take the Intersection of Two different Sets (Sets of Two different books) and divide it to the Union of these Two that will give us a score and that score will indicate how close they are"
   ]
  },
  {
   "cell_type": "code",
   "execution_count": 40,
   "id": "200bc90f",
   "metadata": {
    "execution": {
     "iopub.execute_input": "2023-10-04T16:08:34.045162Z",
     "iopub.status.busy": "2023-10-04T16:08:34.044467Z",
     "iopub.status.idle": "2023-10-04T16:08:34.051837Z",
     "shell.execute_reply": "2023-10-04T16:08:34.051027Z"
    },
    "papermill": {
     "duration": 0.025954,
     "end_time": "2023-10-04T16:08:34.053829",
     "exception": false,
     "start_time": "2023-10-04T16:08:34.027875",
     "status": "completed"
    },
    "tags": []
   },
   "outputs": [
    {
     "data": {
      "text/plain": [
       "bookTitle                                              The Hunger Games\n",
       "bookAuthors                                             Suzanne Collins\n",
       "cleaned_bookGenres    {Science Fiction-Dystopia, Apocalyptic-Post Ap...\n",
       "bookLang                                                             en\n",
       "string                Science Fiction-Dystopia Apocalyptic-Post Apoc...\n",
       "Name: 0, dtype: object"
      ]
     },
     "execution_count": 40,
     "metadata": {},
     "output_type": "execute_result"
    }
   ],
   "source": [
    "x=df.iloc[0]\n",
    "x"
   ]
  },
  {
   "cell_type": "code",
   "execution_count": 41,
   "id": "76b7e145",
   "metadata": {
    "execution": {
     "iopub.execute_input": "2023-10-04T16:08:34.085791Z",
     "iopub.status.busy": "2023-10-04T16:08:34.085071Z",
     "iopub.status.idle": "2023-10-04T16:08:34.092246Z",
     "shell.execute_reply": "2023-10-04T16:08:34.091315Z"
    },
    "papermill": {
     "duration": 0.025589,
     "end_time": "2023-10-04T16:08:34.094287",
     "exception": false,
     "start_time": "2023-10-04T16:08:34.068698",
     "status": "completed"
    },
    "tags": []
   },
   "outputs": [
    {
     "data": {
      "text/plain": [
       "{'Action',\n",
       " 'Adventure',\n",
       " 'Apocalyptic-Post Apocalyptic',\n",
       " 'Fantasy',\n",
       " 'Fiction',\n",
       " 'Romance',\n",
       " 'Science Fiction',\n",
       " 'Science Fiction-Dystopia',\n",
       " 'Young Adult',\n",
       " 'Young Adult-Teen',\n",
       " 'en'}"
      ]
     },
     "execution_count": 41,
     "metadata": {},
     "output_type": "execute_result"
    }
   ],
   "source": [
    "strlist=x['cleaned_bookGenres']\n",
    "strlist.add(x.bookLang)\n",
    "strlist"
   ]
  },
  {
   "cell_type": "markdown",
   "id": "e39f80b6",
   "metadata": {
    "papermill": {
     "duration": 0.015141,
     "end_time": "2023-10-04T16:08:34.124862",
     "exception": false,
     "start_time": "2023-10-04T16:08:34.109721",
     "status": "completed"
    },
    "tags": []
   },
   "source": [
    "Create a function for whole data"
   ]
  },
  {
   "cell_type": "code",
   "execution_count": 42,
   "id": "a5c1655c",
   "metadata": {
    "execution": {
     "iopub.execute_input": "2023-10-04T16:08:34.158918Z",
     "iopub.status.busy": "2023-10-04T16:08:34.158203Z",
     "iopub.status.idle": "2023-10-04T16:08:34.162822Z",
     "shell.execute_reply": "2023-10-04T16:08:34.161910Z"
    },
    "papermill": {
     "duration": 0.024913,
     "end_time": "2023-10-04T16:08:34.165018",
     "exception": false,
     "start_time": "2023-10-04T16:08:34.140105",
     "status": "completed"
    },
    "tags": []
   },
   "outputs": [],
   "source": [
    "def convert_into_set(x):\n",
    "    strlist=x['cleaned_bookGenres']\n",
    "    strlist.add(x.bookLang)\n",
    "    return strlist"
   ]
  },
  {
   "cell_type": "code",
   "execution_count": 43,
   "id": "284cc089",
   "metadata": {
    "execution": {
     "iopub.execute_input": "2023-10-04T16:08:34.199771Z",
     "iopub.status.busy": "2023-10-04T16:08:34.199095Z",
     "iopub.status.idle": "2023-10-04T16:08:34.311013Z",
     "shell.execute_reply": "2023-10-04T16:08:34.310154Z"
    },
    "papermill": {
     "duration": 0.131974,
     "end_time": "2023-10-04T16:08:34.313201",
     "exception": false,
     "start_time": "2023-10-04T16:08:34.181227",
     "status": "completed"
    },
    "tags": []
   },
   "outputs": [],
   "source": [
    "df['set']=df.apply(convert_into_set,axis=1)\n"
   ]
  },
  {
   "cell_type": "code",
   "execution_count": 44,
   "id": "48260fd6",
   "metadata": {
    "execution": {
     "iopub.execute_input": "2023-10-04T16:08:34.346335Z",
     "iopub.status.busy": "2023-10-04T16:08:34.345934Z",
     "iopub.status.idle": "2023-10-04T16:08:34.360715Z",
     "shell.execute_reply": "2023-10-04T16:08:34.359429Z"
    },
    "papermill": {
     "duration": 0.034157,
     "end_time": "2023-10-04T16:08:34.362726",
     "exception": false,
     "start_time": "2023-10-04T16:08:34.328569",
     "status": "completed"
    },
    "tags": []
   },
   "outputs": [
    {
     "data": {
      "text/html": [
       "<div>\n",
       "<style scoped>\n",
       "    .dataframe tbody tr th:only-of-type {\n",
       "        vertical-align: middle;\n",
       "    }\n",
       "\n",
       "    .dataframe tbody tr th {\n",
       "        vertical-align: top;\n",
       "    }\n",
       "\n",
       "    .dataframe thead th {\n",
       "        text-align: right;\n",
       "    }\n",
       "</style>\n",
       "<table border=\"1\" class=\"dataframe\">\n",
       "  <thead>\n",
       "    <tr style=\"text-align: right;\">\n",
       "      <th></th>\n",
       "      <th>bookTitle</th>\n",
       "      <th>bookAuthors</th>\n",
       "      <th>cleaned_bookGenres</th>\n",
       "      <th>bookLang</th>\n",
       "      <th>string</th>\n",
       "      <th>set</th>\n",
       "    </tr>\n",
       "  </thead>\n",
       "  <tbody>\n",
       "    <tr>\n",
       "      <th>0</th>\n",
       "      <td>The Hunger Games</td>\n",
       "      <td>Suzanne Collins</td>\n",
       "      <td>{Science Fiction-Dystopia, Apocalyptic-Post Ap...</td>\n",
       "      <td>en</td>\n",
       "      <td>Science Fiction-Dystopia Apocalyptic-Post Apoc...</td>\n",
       "      <td>{Science Fiction-Dystopia, Apocalyptic-Post Ap...</td>\n",
       "    </tr>\n",
       "    <tr>\n",
       "      <th>1</th>\n",
       "      <td>Harry Potter and the Order of the Phoenix</td>\n",
       "      <td>J.K. Rowling,Mary GrandPré</td>\n",
       "      <td>{Childrens-Middle Grade, Adventure, Classics, ...</td>\n",
       "      <td>en</td>\n",
       "      <td>Childrens-Middle Grade Adventure Classics Fant...</td>\n",
       "      <td>{Childrens-Middle Grade, Adventure, Classics, ...</td>\n",
       "    </tr>\n",
       "    <tr>\n",
       "      <th>2</th>\n",
       "      <td>To Kill a Mockingbird</td>\n",
       "      <td>Harper Lee</td>\n",
       "      <td>{Historical-Historical Fiction, Novels, Classi...</td>\n",
       "      <td>en</td>\n",
       "      <td>Historical-Historical Fiction Novels Classics ...</td>\n",
       "      <td>{Historical-Historical Fiction, Novels, Classi...</td>\n",
       "    </tr>\n",
       "    <tr>\n",
       "      <th>3</th>\n",
       "      <td>Pride and Prejudice</td>\n",
       "      <td>Jane Austen,Anna Quindlen</td>\n",
       "      <td>{Historical-Historical Fiction, Novels, Romanc...</td>\n",
       "      <td>en</td>\n",
       "      <td>Historical-Historical Fiction Novels Romance C...</td>\n",
       "      <td>{Historical-Historical Fiction, Novels, Romanc...</td>\n",
       "    </tr>\n",
       "    <tr>\n",
       "      <th>4</th>\n",
       "      <td>Twilight</td>\n",
       "      <td>Stephenie Meyer</td>\n",
       "      <td>{Paranormal-Vampires, Fantasy-Supernatural, Fa...</td>\n",
       "      <td>en</td>\n",
       "      <td>Paranormal-Vampires Fantasy-Supernatural Fanta...</td>\n",
       "      <td>{Paranormal-Vampires, Fantasy-Supernatural, Fa...</td>\n",
       "    </tr>\n",
       "  </tbody>\n",
       "</table>\n",
       "</div>"
      ],
      "text/plain": [
       "                                   bookTitle                 bookAuthors  \\\n",
       "0                           The Hunger Games             Suzanne Collins   \n",
       "1  Harry Potter and the Order of the Phoenix  J.K. Rowling,Mary GrandPré   \n",
       "2                      To Kill a Mockingbird                  Harper Lee   \n",
       "3                        Pride and Prejudice   Jane Austen,Anna Quindlen   \n",
       "4                                   Twilight             Stephenie Meyer   \n",
       "\n",
       "                                  cleaned_bookGenres bookLang  \\\n",
       "0  {Science Fiction-Dystopia, Apocalyptic-Post Ap...       en   \n",
       "1  {Childrens-Middle Grade, Adventure, Classics, ...       en   \n",
       "2  {Historical-Historical Fiction, Novels, Classi...       en   \n",
       "3  {Historical-Historical Fiction, Novels, Romanc...       en   \n",
       "4  {Paranormal-Vampires, Fantasy-Supernatural, Fa...       en   \n",
       "\n",
       "                                              string  \\\n",
       "0  Science Fiction-Dystopia Apocalyptic-Post Apoc...   \n",
       "1  Childrens-Middle Grade Adventure Classics Fant...   \n",
       "2  Historical-Historical Fiction Novels Classics ...   \n",
       "3  Historical-Historical Fiction Novels Romance C...   \n",
       "4  Paranormal-Vampires Fantasy-Supernatural Fanta...   \n",
       "\n",
       "                                                 set  \n",
       "0  {Science Fiction-Dystopia, Apocalyptic-Post Ap...  \n",
       "1  {Childrens-Middle Grade, Adventure, Classics, ...  \n",
       "2  {Historical-Historical Fiction, Novels, Classi...  \n",
       "3  {Historical-Historical Fiction, Novels, Romanc...  \n",
       "4  {Paranormal-Vampires, Fantasy-Supernatural, Fa...  "
      ]
     },
     "execution_count": 44,
     "metadata": {},
     "output_type": "execute_result"
    }
   ],
   "source": [
    "df.head()"
   ]
  },
  {
   "cell_type": "markdown",
   "id": "c2cd05cb",
   "metadata": {
    "papermill": {
     "duration": 0.015377,
     "end_time": "2023-10-04T16:08:34.394011",
     "exception": false,
     "start_time": "2023-10-04T16:08:34.378634",
     "status": "completed"
    },
    "tags": []
   },
   "source": [
    "# Algorithm "
   ]
  },
  {
   "cell_type": "markdown",
   "id": "36329a5a",
   "metadata": {
    "papermill": {
     "duration": 0.015804,
     "end_time": "2023-10-04T16:08:34.425864",
     "exception": false,
     "start_time": "2023-10-04T16:08:34.410060",
     "status": "completed"
    },
    "tags": []
   },
   "source": [
    "I do not find any implementation of Jaccof Similarity so i am implementing it by myself "
   ]
  },
  {
   "cell_type": "code",
   "execution_count": 45,
   "id": "e1b6ca04",
   "metadata": {
    "execution": {
     "iopub.execute_input": "2023-10-04T16:08:34.460204Z",
     "iopub.status.busy": "2023-10-04T16:08:34.459835Z",
     "iopub.status.idle": "2023-10-04T16:08:34.465311Z",
     "shell.execute_reply": "2023-10-04T16:08:34.464270Z"
    },
    "papermill": {
     "duration": 0.024542,
     "end_time": "2023-10-04T16:08:34.467231",
     "exception": false,
     "start_time": "2023-10-04T16:08:34.442689",
     "status": "completed"
    },
    "tags": []
   },
   "outputs": [],
   "source": [
    "def calculate_score(row,inputset):\n",
    "    intersection=len(row['set'].intersection(inputset))\n",
    "    union = len(row['set'].union(inputset))\n",
    "    return intersection/union"
   ]
  },
  {
   "cell_type": "code",
   "execution_count": 46,
   "id": "a6a467b2",
   "metadata": {
    "execution": {
     "iopub.execute_input": "2023-10-04T16:08:34.502386Z",
     "iopub.status.busy": "2023-10-04T16:08:34.501960Z",
     "iopub.status.idle": "2023-10-04T16:08:34.508368Z",
     "shell.execute_reply": "2023-10-04T16:08:34.507295Z"
    },
    "papermill": {
     "duration": 0.026299,
     "end_time": "2023-10-04T16:08:34.510500",
     "exception": false,
     "start_time": "2023-10-04T16:08:34.484201",
     "status": "completed"
    },
    "tags": []
   },
   "outputs": [
    {
     "data": {
      "text/plain": [
       "'The Hunger Games'"
      ]
     },
     "execution_count": 46,
     "metadata": {},
     "output_type": "execute_result"
    }
   ],
   "source": [
    "x['bookTitle']"
   ]
  },
  {
   "cell_type": "code",
   "execution_count": 47,
   "id": "671f8ba2",
   "metadata": {
    "execution": {
     "iopub.execute_input": "2023-10-04T16:08:34.544022Z",
     "iopub.status.busy": "2023-10-04T16:08:34.543644Z",
     "iopub.status.idle": "2023-10-04T16:08:34.655274Z",
     "shell.execute_reply": "2023-10-04T16:08:34.654167Z"
    },
    "papermill": {
     "duration": 0.130933,
     "end_time": "2023-10-04T16:08:34.657475",
     "exception": false,
     "start_time": "2023-10-04T16:08:34.526542",
     "status": "completed"
    },
    "tags": []
   },
   "outputs": [
    {
     "data": {
      "text/plain": [
       "{'Article 5', 'Blood Red Road', 'Catching Fire', 'Insurgent', 'Once'}"
      ]
     },
     "execution_count": 47,
     "metadata": {},
     "output_type": "execute_result"
    }
   ],
   "source": [
    "name='The Hunger Games'\n",
    "inputset=df.loc[df['bookTitle'] == name, 'set'].iloc[0]\n",
    "temp=df[df['bookTitle']!=name]\n",
    "temp['score']=temp.apply(lambda row: calculate_score(row, inputset), axis=1)\n",
    "temp=temp.sort_values(by='score', ascending=False)\n",
    "top_5_rows = temp.iloc[:5, :]\n",
    "top_5_names = top_5_rows['bookTitle'].tolist()\n",
    "top_5_names=set(top_5_names)\n",
    "top_5_names"
   ]
  },
  {
   "cell_type": "markdown",
   "id": "8279940f",
   "metadata": {
    "papermill": {
     "duration": 0.015251,
     "end_time": "2023-10-04T16:08:34.688341",
     "exception": false,
     "start_time": "2023-10-04T16:08:34.673090",
     "status": "completed"
    },
    "tags": []
   },
   "source": [
    "Now we will create a function that takes title as input and give recommendation as output"
   ]
  },
  {
   "cell_type": "code",
   "execution_count": 48,
   "id": "612a7cc9",
   "metadata": {
    "execution": {
     "iopub.execute_input": "2023-10-04T16:08:34.724494Z",
     "iopub.status.busy": "2023-10-04T16:08:34.723893Z",
     "iopub.status.idle": "2023-10-04T16:08:34.731677Z",
     "shell.execute_reply": "2023-10-04T16:08:34.730310Z"
    },
    "papermill": {
     "duration": 0.028797,
     "end_time": "2023-10-04T16:08:34.733992",
     "exception": false,
     "start_time": "2023-10-04T16:08:34.705195",
     "status": "completed"
    },
    "tags": []
   },
   "outputs": [],
   "source": [
    "def Find_recommendation_jaccof(name):\n",
    "    if name in df['bookTitle'].tolist():\n",
    "        inputset=df.loc[df['bookTitle'] == name, 'set'].iloc[0]\n",
    "        temp=df[df['bookTitle']!=name]\n",
    "        temp['score']=temp.apply(lambda row: calculate_score(row, inputset), axis=1)\n",
    "        temp=temp.sort_values(by='score', ascending=False)\n",
    "        top_5_rows = temp.iloc[:5, :]\n",
    "        top_5_recommendation = top_5_rows['bookTitle'].tolist()\n",
    "        return top_5_recommendation\n",
    "    matches = process.extract(name, df['bookTitle'].tolist(), limit=1)\n",
    "    if matches and matches[0][1] >= 80:  \n",
    "        similar_name = matches[0][0]\n",
    "        return f\"Did you mean '{similar_name}'?\"\n",
    "    return f\"'{name}' does not exist in the dataset.\""
   ]
  },
  {
   "cell_type": "code",
   "execution_count": 49,
   "id": "16b59b05",
   "metadata": {
    "execution": {
     "iopub.execute_input": "2023-10-04T16:08:34.769567Z",
     "iopub.status.busy": "2023-10-04T16:08:34.769145Z",
     "iopub.status.idle": "2023-10-04T16:08:34.880868Z",
     "shell.execute_reply": "2023-10-04T16:08:34.879968Z"
    },
    "papermill": {
     "duration": 0.131546,
     "end_time": "2023-10-04T16:08:34.882921",
     "exception": false,
     "start_time": "2023-10-04T16:08:34.751375",
     "status": "completed"
    },
    "tags": []
   },
   "outputs": [
    {
     "data": {
      "text/plain": [
       "['One',\n",
       " 'Illusions: The Adventures of a Reluctant Messiah',\n",
       " 'جاناتان، مرغ دریایی',\n",
       " 'Jonathan Livingston Seagull',\n",
       " 'The Prophet']"
      ]
     },
     "execution_count": 49,
     "metadata": {},
     "output_type": "execute_result"
    }
   ],
   "source": [
    "Find_recommendation_jaccof(\"The Alchemist\")"
   ]
  },
  {
   "cell_type": "code",
   "execution_count": 50,
   "id": "db755116",
   "metadata": {
    "execution": {
     "iopub.execute_input": "2023-10-04T16:08:34.919987Z",
     "iopub.status.busy": "2023-10-04T16:08:34.919608Z",
     "iopub.status.idle": "2023-10-04T16:08:34.934344Z",
     "shell.execute_reply": "2023-10-04T16:08:34.933196Z"
    },
    "papermill": {
     "duration": 0.035678,
     "end_time": "2023-10-04T16:08:34.936570",
     "exception": false,
     "start_time": "2023-10-04T16:08:34.900892",
     "status": "completed"
    },
    "tags": []
   },
   "outputs": [
    {
     "name": "stdout",
     "output_type": "stream",
     "text": [
      "22\n"
     ]
    },
    {
     "data": {
      "text/plain": [
       "4901                                       The Alchemist\n",
       "5046                                                 One\n",
       "780     Illusions: The Adventures of a Reluctant Messiah\n",
       "6513                                 جاناتان، مرغ دریایی\n",
       "182                          Jonathan Livingston Seagull\n",
       "Name: bookTitle, dtype: object"
      ]
     },
     "execution_count": 50,
     "metadata": {},
     "output_type": "execute_result"
    }
   ],
   "source": [
    "recommended_movies_cosine(\"The Alchemist\")"
   ]
  },
  {
   "cell_type": "markdown",
   "id": "6cb07c92",
   "metadata": {
    "papermill": {
     "duration": 0.01565,
     "end_time": "2023-10-04T16:08:34.968563",
     "exception": false,
     "start_time": "2023-10-04T16:08:34.952913",
     "status": "completed"
    },
    "tags": []
   },
   "source": [
    "I hope this is helpfull"
   ]
  },
  {
   "cell_type": "markdown",
   "id": "25a8dc0d",
   "metadata": {
    "papermill": {
     "duration": 0.016555,
     "end_time": "2023-10-04T16:08:35.001072",
     "exception": false,
     "start_time": "2023-10-04T16:08:34.984517",
     "status": "completed"
    },
    "tags": []
   },
   "source": [
    "##### "
   ]
  }
 ],
 "metadata": {
  "kernelspec": {
   "display_name": "Python 3",
   "language": "python",
   "name": "python3"
  },
  "language_info": {
   "codemirror_mode": {
    "name": "ipython",
    "version": 3
   },
   "file_extension": ".py",
   "mimetype": "text/x-python",
   "name": "python",
   "nbconvert_exporter": "python",
   "pygments_lexer": "ipython3",
   "version": "3.10.12"
  },
  "papermill": {
   "default_parameters": {},
   "duration": 26.838239,
   "end_time": "2023-10-04T16:08:35.638894",
   "environment_variables": {},
   "exception": null,
   "input_path": "__notebook__.ipynb",
   "output_path": "__notebook__.ipynb",
   "parameters": {},
   "start_time": "2023-10-04T16:08:08.800655",
   "version": "2.4.0"
  }
 },
 "nbformat": 4,
 "nbformat_minor": 5
}
