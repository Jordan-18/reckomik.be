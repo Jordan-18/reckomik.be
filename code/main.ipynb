{
 "cells": [
  {
   "cell_type": "markdown",
   "metadata": {},
   "source": [
    "# Import Library"
   ]
  },
  {
   "cell_type": "code",
   "execution_count": 1,
   "metadata": {},
   "outputs": [
    {
     "name": "stderr",
     "output_type": "stream",
     "text": [
      "c:\\Users\\Asus\\anaconda3\\lib\\site-packages\\fuzzywuzzy\\fuzz.py:11: UserWarning: Using slow pure-python SequenceMatcher. Install python-Levenshtein to remove this warning\n",
      "  warnings.warn('Using slow pure-python SequenceMatcher. Install python-Levenshtein to remove this warning')\n"
     ]
    }
   ],
   "source": [
    "import pandas as pd\n",
    "import numpy as np\n",
    "import json\n",
    "\n",
    "import sys\n",
    "import os\n",
    "\n",
    "# Add the directory to the Python path\n",
    "sys.path.append(os.path.abspath('../'))\n",
    "\n",
    "\n",
    "from call_function import all_similarity, search_title"
   ]
  },
  {
   "cell_type": "code",
   "execution_count": 45,
   "metadata": {},
   "outputs": [
    {
     "name": "stdout",
     "output_type": "stream",
     "text": [
      "303\n"
     ]
    }
   ],
   "source": [
    "import requests\n",
    "from bs4 import BeautifulSoup\n",
    "\n",
    "# Fetch the HTML content from the URL\n",
    "url = 'https://komikcast.cz/daftar-komik/page/1/'\n",
    "response = requests.get(url)\n",
    "soup = BeautifulSoup(response.content, 'html.parser')\n",
    "pagination = soup.find('div', class_='pagination')\n",
    "page_numbers = pagination.find_all('a', class_='page-numbers')\n",
    "last_page_number = page_numbers[-2].text\n",
    "\n",
    "print(last_page_number)"
   ]
  },
  {
   "cell_type": "code",
   "execution_count": 21,
   "metadata": {},
   "outputs": [
    {
     "data": {
      "text/plain": [
       "<html><body><p>https://komikcast.cz/daftar-komik/page/1</p></body></html>"
      ]
     },
     "execution_count": 21,
     "metadata": {},
     "output_type": "execute_result"
    }
   ],
   "source": []
  },
  {
   "cell_type": "markdown",
   "metadata": {},
   "source": [
    "# Get Data"
   ]
  },
  {
   "cell_type": "code",
   "execution_count": 2,
   "metadata": {},
   "outputs": [
    {
     "name": "stdout",
     "output_type": "stream",
     "text": [
      "Komikcast:  (8410, 12)\n",
      "Westmanga:  (4810, 12)\n"
     ]
    }
   ],
   "source": [
    "df_komikcast=pd.read_csv(\"../data/komikcast.csv\")\n",
    "df_westmanga=pd.read_csv(\"../data/westmanga.csv\")\n",
    "# df_mangadex=pd.read_csv(\"./data-processed/mangadex.csv\")\n",
    "\n",
    "print('Komikcast: ', df_komikcast.shape)\n",
    "print('Westmanga: ', df_westmanga.shape)\n",
    "# print('Mangadex : ', df_mangadex.shape)"
   ]
  },
  {
   "cell_type": "code",
   "execution_count": 5,
   "metadata": {},
   "outputs": [
    {
     "data": {
      "text/html": [
       "<div>\n",
       "<style scoped>\n",
       "    .dataframe tbody tr th:only-of-type {\n",
       "        vertical-align: middle;\n",
       "    }\n",
       "\n",
       "    .dataframe tbody tr th {\n",
       "        vertical-align: top;\n",
       "    }\n",
       "\n",
       "    .dataframe thead th {\n",
       "        text-align: right;\n",
       "    }\n",
       "</style>\n",
       "<table border=\"1\" class=\"dataframe\">\n",
       "  <thead>\n",
       "    <tr style=\"text-align: right;\">\n",
       "      <th></th>\n",
       "      <th>id</th>\n",
       "      <th>title</th>\n",
       "      <th>alt_title</th>\n",
       "      <th>type</th>\n",
       "      <th>description</th>\n",
       "      <th>genre</th>\n",
       "      <th>author</th>\n",
       "      <th>artist</th>\n",
       "      <th>rate</th>\n",
       "      <th>image</th>\n",
       "      <th>released</th>\n",
       "      <th>image_hash</th>\n",
       "    </tr>\n",
       "  </thead>\n",
       "  <tbody>\n",
       "    <tr>\n",
       "      <th>373</th>\n",
       "      <td>374</td>\n",
       "      <td>Fairy Tail</td>\n",
       "      <td>FAIRY TAIL</td>\n",
       "      <td>Manga</td>\n",
       "      <td>Dalam dunia mistik Tanah Bumi magic ada pada i...</td>\n",
       "      <td>Action, Adventure, Comedy, Ecchi, Fantasy, Mag...</td>\n",
       "      <td>Mashima, Hiro (Story &amp; Art)</td>\n",
       "      <td>-</td>\n",
       "      <td>8.22</td>\n",
       "      <td>https://komikcast.cz/wp-content/uploads/2017/0...</td>\n",
       "      <td>23-Aug-06</td>\n",
       "      <td>92d8a4f0844cdcff</td>\n",
       "    </tr>\n",
       "  </tbody>\n",
       "</table>\n",
       "</div>"
      ],
      "text/plain": [
       "      id       title   alt_title   type  \\\n",
       "373  374  Fairy Tail  FAIRY TAIL  Manga   \n",
       "\n",
       "                                           description  \\\n",
       "373  Dalam dunia mistik Tanah Bumi magic ada pada i...   \n",
       "\n",
       "                                                 genre  \\\n",
       "373  Action, Adventure, Comedy, Ecchi, Fantasy, Mag...   \n",
       "\n",
       "                          author artist  rate  \\\n",
       "373  Mashima, Hiro (Story & Art)      -  8.22   \n",
       "\n",
       "                                                 image   released  \\\n",
       "373  https://komikcast.cz/wp-content/uploads/2017/0...  23-Aug-06   \n",
       "\n",
       "           image_hash  \n",
       "373  92d8a4f0844cdcff  "
      ]
     },
     "execution_count": 5,
     "metadata": {},
     "output_type": "execute_result"
    }
   ],
   "source": [
    "title = 'fairy tail'\n",
    "data = search_title(title, df_komikcast)\n",
    "datas = df_komikcast[df_komikcast['title'] == data]\n",
    "datas"
   ]
  },
  {
   "cell_type": "code",
   "execution_count": 16,
   "metadata": {},
   "outputs": [],
   "source": [
    "# Load the JSON file\n",
    "with open(\"../data/consine_decription_similarity.json\", \"r\") as infile:\n",
    "    consine_decription_similarity = json.load(infile)"
   ]
  },
  {
   "cell_type": "code",
   "execution_count": 17,
   "metadata": {},
   "outputs": [],
   "source": [
    "# Inverse: Convert lists back to NumPy arrays\n",
    "consine_decription_similarity = {\n",
    "    key: np.array(value) for key, value in consine_decription_similarity.items()\n",
    "}\n",
    "\n",
    "consine_sim_indo_komikcast = consine_decription_similarity['komikcast']\n",
    "consine_sim_indo_westmanga = consine_decription_similarity['westmanga']"
   ]
  },
  {
   "cell_type": "code",
   "execution_count": 22,
   "metadata": {},
   "outputs": [],
   "source": [
    "title = 'Fairy Tail'"
   ]
  },
  {
   "cell_type": "code",
   "execution_count": 26,
   "metadata": {},
   "outputs": [
    {
     "name": "stdout",
     "output_type": "stream",
     "text": [
      "Exact title not found. Using closest match: 'Fairy Tail City Hero'\n"
     ]
    },
    {
     "data": {
      "text/html": [
       "<div>\n",
       "<style scoped>\n",
       "    .dataframe tbody tr th:only-of-type {\n",
       "        vertical-align: middle;\n",
       "    }\n",
       "\n",
       "    .dataframe tbody tr th {\n",
       "        vertical-align: top;\n",
       "    }\n",
       "\n",
       "    .dataframe thead th {\n",
       "        text-align: right;\n",
       "    }\n",
       "</style>\n",
       "<table border=\"1\" class=\"dataframe\">\n",
       "  <thead>\n",
       "    <tr style=\"text-align: right;\">\n",
       "      <th></th>\n",
       "      <th>id</th>\n",
       "      <th>image_similarity</th>\n",
       "      <th>description_similarity</th>\n",
       "      <th>title</th>\n",
       "      <th>alt_title</th>\n",
       "      <th>type</th>\n",
       "      <th>description</th>\n",
       "      <th>genre</th>\n",
       "      <th>author</th>\n",
       "      <th>artist</th>\n",
       "      <th>rate</th>\n",
       "      <th>image</th>\n",
       "      <th>released</th>\n",
       "      <th>image_hash</th>\n",
       "      <th>genre_similarity</th>\n",
       "    </tr>\n",
       "  </thead>\n",
       "  <tbody>\n",
       "    <tr>\n",
       "      <th>5842</th>\n",
       "      <td>679</td>\n",
       "      <td>0.406250</td>\n",
       "      <td>0.025302</td>\n",
       "      <td>Shitsugyou Kenja no Nariagari</td>\n",
       "      <td>The Rise of the Unemployed Wise Man, 失業賢者の成り上か...</td>\n",
       "      <td>Manga</td>\n",
       "      <td>Karna adalah anak lakilaki yang diberi gelar S...</td>\n",
       "      <td>Action, Adventure, Comedy, Ecchi, Fantasy, Mag...</td>\n",
       "      <td>MIKAWA Ghost</td>\n",
       "      <td>-</td>\n",
       "      <td>7.0</td>\n",
       "      <td>https://komikcast.cz/wp-content/uploads/2021/1...</td>\n",
       "      <td>2020</td>\n",
       "      <td>ceacf8f8e0010bff</td>\n",
       "      <td>87.5</td>\n",
       "    </tr>\n",
       "    <tr>\n",
       "      <th>7503</th>\n",
       "      <td>7558</td>\n",
       "      <td>0.296875</td>\n",
       "      <td>0.002305</td>\n",
       "      <td>12 Beast</td>\n",
       "      <td>12BEAST</td>\n",
       "      <td>Manga</td>\n",
       "      <td>Bercerita tentang Eita Touga seorang ninja mag...</td>\n",
       "      <td>Action, Adventure, Comedy, Drama, Ecchi, Fanta...</td>\n",
       "      <td>Inui, Takemaru (Story &amp; Art)</td>\n",
       "      <td>-</td>\n",
       "      <td>7.1</td>\n",
       "      <td>https://komikcast.cz/wp-content/uploads/2017/0...</td>\n",
       "      <td>9-May-13</td>\n",
       "      <td>fffff18498d0f0f6</td>\n",
       "      <td>87.5</td>\n",
       "    </tr>\n",
       "  </tbody>\n",
       "</table>\n",
       "</div>"
      ],
      "text/plain": [
       "        id  image_similarity  description_similarity  \\\n",
       "5842   679          0.406250                0.025302   \n",
       "7503  7558          0.296875                0.002305   \n",
       "\n",
       "                              title  \\\n",
       "5842  Shitsugyou Kenja no Nariagari   \n",
       "7503                       12 Beast   \n",
       "\n",
       "                                              alt_title   type  \\\n",
       "5842  The Rise of the Unemployed Wise Man, 失業賢者の成り上か...  Manga   \n",
       "7503                                            12BEAST  Manga   \n",
       "\n",
       "                                            description  \\\n",
       "5842  Karna adalah anak lakilaki yang diberi gelar S...   \n",
       "7503  Bercerita tentang Eita Touga seorang ninja mag...   \n",
       "\n",
       "                                                  genre  \\\n",
       "5842  Action, Adventure, Comedy, Ecchi, Fantasy, Mag...   \n",
       "7503  Action, Adventure, Comedy, Drama, Ecchi, Fanta...   \n",
       "\n",
       "                            author artist  rate  \\\n",
       "5842                  MIKAWA Ghost      -   7.0   \n",
       "7503  Inui, Takemaru (Story & Art)      -   7.1   \n",
       "\n",
       "                                                  image  released  \\\n",
       "5842  https://komikcast.cz/wp-content/uploads/2021/1...      2020   \n",
       "7503  https://komikcast.cz/wp-content/uploads/2017/0...  9-May-13   \n",
       "\n",
       "            image_hash  genre_similarity  \n",
       "5842  ceacf8f8e0010bff              87.5  \n",
       "7503  fffff18498d0f0f6              87.5  "
      ]
     },
     "execution_count": 26,
     "metadata": {},
     "output_type": "execute_result"
    }
   ],
   "source": [
    "df_komikcast_similarity = all_similarity(title, df_komikcast,consine_sim_indo_komikcast)\n",
    "df_komikcast_similarity.head(2)"
   ]
  },
  {
   "cell_type": "code",
   "execution_count": 28,
   "metadata": {},
   "outputs": [
    {
     "name": "stdout",
     "output_type": "stream",
     "text": [
      "Exact title not found. Using closest match: 'Fairy Tail City Hero'\n",
      "Exact title not found. Using closest match: 'Fairy Tail City Hero'\n",
      "Exact title not found. Using closest match: 'Fairy Tail 100 Years Quest'\n",
      "Error processing image hash for title 'King of Runes': invalid literal for int() with base 16: '7.08E+19'\n"
     ]
    },
    {
     "data": {
      "text/html": [
       "<div>\n",
       "<style scoped>\n",
       "    .dataframe tbody tr th:only-of-type {\n",
       "        vertical-align: middle;\n",
       "    }\n",
       "\n",
       "    .dataframe tbody tr th {\n",
       "        vertical-align: top;\n",
       "    }\n",
       "\n",
       "    .dataframe thead th {\n",
       "        text-align: right;\n",
       "    }\n",
       "</style>\n",
       "<table border=\"1\" class=\"dataframe\">\n",
       "  <thead>\n",
       "    <tr style=\"text-align: right;\">\n",
       "      <th></th>\n",
       "      <th>id</th>\n",
       "      <th>image_similarity</th>\n",
       "      <th>description_similarity</th>\n",
       "      <th>title</th>\n",
       "      <th>alt_title</th>\n",
       "      <th>type</th>\n",
       "      <th>description</th>\n",
       "      <th>genre</th>\n",
       "      <th>author</th>\n",
       "      <th>artist</th>\n",
       "      <th>rate</th>\n",
       "      <th>image</th>\n",
       "      <th>released</th>\n",
       "      <th>image_hash</th>\n",
       "      <th>genre_similarity</th>\n",
       "    </tr>\n",
       "  </thead>\n",
       "  <tbody>\n",
       "    <tr>\n",
       "      <th>4089</th>\n",
       "      <td>3867</td>\n",
       "      <td>0.40625</td>\n",
       "      <td>0.014652</td>\n",
       "      <td>Tamamo no Koi</td>\n",
       "      <td>玉藻の恋, 玉藻狐之恋</td>\n",
       "      <td>Manga</td>\n",
       "      <td>Setelah aku mengunjungi Kuil Shinto di luar ko...</td>\n",
       "      <td>Romance, Seinen, Slice of Life, Supernatural</td>\n",
       "      <td>Mito (ミト)</td>\n",
       "      <td>-</td>\n",
       "      <td>7.3</td>\n",
       "      <td>https://westmanga.fun/wp-content/uploads/2021/...</td>\n",
       "      <td>-</td>\n",
       "      <td>46fff6e660404f06</td>\n",
       "      <td>0.0</td>\n",
       "    </tr>\n",
       "    <tr>\n",
       "      <th>1885</th>\n",
       "      <td>442</td>\n",
       "      <td>0.53125</td>\n",
       "      <td>0.000000</td>\n",
       "      <td>Boku to Kimi no Taisetsu na Hanashi</td>\n",
       "      <td>Our Precious Conversations, 僕と君の大切な話</td>\n",
       "      <td>Manga</td>\n",
       "      <td>Sebuah manga komedi romantis anak SMA yang man...</td>\n",
       "      <td>Romance, School, Shoujo</td>\n",
       "      <td>Robico (Story &amp; Art)</td>\n",
       "      <td>-</td>\n",
       "      <td>6.0</td>\n",
       "      <td>https://westmanga.fun/wp-content/uploads/2021/...</td>\n",
       "      <td>-</td>\n",
       "      <td>0099fbcbcbcbfbf1</td>\n",
       "      <td>0.0</td>\n",
       "    </tr>\n",
       "  </tbody>\n",
       "</table>\n",
       "</div>"
      ],
      "text/plain": [
       "        id  image_similarity  description_similarity  \\\n",
       "4089  3867           0.40625                0.014652   \n",
       "1885   442           0.53125                0.000000   \n",
       "\n",
       "                                    title  \\\n",
       "4089                        Tamamo no Koi   \n",
       "1885  Boku to Kimi no Taisetsu na Hanashi   \n",
       "\n",
       "                                 alt_title   type  \\\n",
       "4089                           玉藻の恋, 玉藻狐之恋  Manga   \n",
       "1885  Our Precious Conversations, 僕と君の大切な話  Manga   \n",
       "\n",
       "                                            description  \\\n",
       "4089  Setelah aku mengunjungi Kuil Shinto di luar ko...   \n",
       "1885  Sebuah manga komedi romantis anak SMA yang man...   \n",
       "\n",
       "                                             genre                author  \\\n",
       "4089  Romance, Seinen, Slice of Life, Supernatural             Mito (ミト)   \n",
       "1885                       Romance, School, Shoujo  Robico (Story & Art)   \n",
       "\n",
       "     artist  rate                                              image released  \\\n",
       "4089      -   7.3  https://westmanga.fun/wp-content/uploads/2021/...        -   \n",
       "1885      -   6.0  https://westmanga.fun/wp-content/uploads/2021/...        -   \n",
       "\n",
       "            image_hash  genre_similarity  \n",
       "4089  46fff6e660404f06               0.0  \n",
       "1885  0099fbcbcbcbfbf1               0.0  "
      ]
     },
     "execution_count": 28,
     "metadata": {},
     "output_type": "execute_result"
    }
   ],
   "source": [
    "df_westmanga_similarity = all_similarity(title, df_westmanga,consine_sim_indo_westmanga)\n",
    "df_westmanga_similarity.tail(2)"
   ]
  },
  {
   "cell_type": "code",
   "execution_count": 25,
   "metadata": {},
   "outputs": [],
   "source": [
    "# df_mangadex  = all_similarity(title, df_mangadex ,consine_sim_eng_mangadex)\n",
    "# df_mangadex.head()"
   ]
  },
  {
   "cell_type": "code",
   "execution_count": 32,
   "metadata": {},
   "outputs": [
    {
     "data": {
      "text/plain": [
       "{'title': 'Yuusha Party ni Kawaii Ko ga Ita no de, Kokuhaku Shite Mita',\n",
       " 'alt_title': \"勇者パーティーにかわいい子がいたので、告白してみた。, There Was a Cute Girl in the Hero's Party, so I Tried Confessing to Her, 身为魔族的我想向勇者小队的可爱女孩告白, 용사 파티에 귀여운 애가 있어서, 고백해봤다\",\n",
       " 'type': 'manga',\n",
       " 'description': \"Youki was reincarnated in another world. However, instead of being reincarnated as the hero or the demon lord, he was instead reincarnated half-assedly as a minion of the Demon Lord. One day, the Hero's Party attacked the Demon Lord's castle with the intent of defeating the Demon Lord. Of course, Youki was able to repel their attempt with ease. In spite of this, he ended up falling for the cleric, Cecilia, at first sight… The super popular love comedy fantasy set in another world!\",\n",
       " 'genre': 'Reincarnation, Demons, Romance, Comedy, Adventure, Magic, Isekai, Fantasy, Adaptation',\n",
       " 'author': 'Suisei',\n",
       " 'artist': 'Kairi',\n",
       " 'rate': 8.2657,\n",
       " 'image': 'https://mangadex.org/covers/024af7a5-f8ad-4b67-b950-b1708f52b018/180d7093-76d0-4fe9-974b-57c5e9405596.jpg',\n",
       " 'released': 2021,\n",
       " 'comic_url': 'https://mangadex.org/title/024af7a5-f8ad-4b67-b950-b1708f52b018/Yuusha-Party-ni-Kawaii-Ko-ga-Ita-no-de-Kokuhaku-Shite-Mita'}"
      ]
     },
     "execution_count": 32,
     "metadata": {},
     "output_type": "execute_result"
    }
   ],
   "source": [
    "# Import Library\n",
    "import pandas as pd\n",
    "import numpy as np\n",
    "import math\n",
    "import requests\n",
    "import asyncio\n",
    "import aiohttp\n",
    "from bs4 import BeautifulSoup\n",
    "import re\n",
    "from flask import Flask, request, jsonify\n",
    "\n",
    "def get_comics_mangadex(url):\n",
    "    url_stat = 'https://api.mangadex.org/statistics/manga?manga[]='\n",
    "    response = requests.get(url)\n",
    "    if response.status_code == 200:\n",
    "        json = []\n",
    "        lan = ['en', 'ja', 'ko', 'ru', 'zh', 'ko-ro', 'zh-hk','es-la']\n",
    "        data = response.json()\n",
    "\n",
    "        for comic in data['data']:\n",
    "            url_manga = 'https://api.mangadex.org/manga'\n",
    "            url_cover = 'https://mangadex.org/covers'\n",
    "            id = comic['id']\n",
    "            \n",
    "            title = next((v for k, v in comic['attributes']['title'].items() if k in lan), None)\n",
    "            description = next((v for k, v in comic['attributes']['description'].items() if k in lan), None)\n",
    "            clean_title = re.sub(r'[^a-zA-Z0-9\\s]', '', title)\n",
    "            formatted_title = clean_title.replace(' ', '-')\n",
    "            comic_url = f'https://mangadex.org/title/{id}/{formatted_title}'\n",
    "            \n",
    "            alt_titles = []\n",
    "            for alt_title_dict in comic['attributes'].get('altTitles', []):\n",
    "                alt_title = next((v for k, v in alt_title_dict.items() if k in lan), None)\n",
    "                if alt_title:\n",
    "                    alt_titles.append(alt_title)\n",
    "            alt_titles = ', '.join(alt_titles)\n",
    "            \n",
    "            genres = []\n",
    "            for tag in comic['attributes'].get('tags', []):\n",
    "                tag_name = next((v for k, v in tag['attributes']['name'].items() if k in ['en', 'ja', 'ko']), None)\n",
    "                if tag_name:\n",
    "                    genres.append(tag_name)\n",
    "            genres = ', '.join(genres)\n",
    "        \n",
    "            released = comic['attributes']['year'] if comic['attributes']['year'] and int(comic['attributes']['year']) else '-'\n",
    "            \n",
    "            rate = 0\n",
    "            response_rate = requests.get(url_stat+id)\n",
    "            if response_rate.status_code == 200:\n",
    "                data_stat = response_rate.json()\n",
    "                rate = data_stat['statistics'][id]['rating']['average']\n",
    "\n",
    "            author = ''\n",
    "            artist = ''\n",
    "            img = ''\n",
    "            url_manga += '/'+id+'?includes[]=artist&includes[]=author&includes[]=cover_art'\n",
    "            response_manga = requests.get(url_manga)\n",
    "            if response_manga.status_code == 200:\n",
    "                data_manga = response_manga.json()\n",
    "                for relation in data_manga['data']['relationships']:\n",
    "                    if relation['type'] == 'author' and 'attributes' in relation and 'name' in relation['attributes']:\n",
    "                        author = relation['attributes']['name']\n",
    "                    if relation['type'] == 'artist' and 'attributes' in relation and 'name' in relation['attributes']:\n",
    "                        artist = relation['attributes']['name']\n",
    "                    if relation['type'] == 'cover_art' and 'attributes' in relation and 'fileName' in relation['attributes']:\n",
    "                        img = f\"{url_cover}/{id}/{relation['attributes']['fileName']}\"\n",
    "\n",
    "            json.append({\n",
    "                'title': title,\n",
    "                'alt_title': alt_titles,\n",
    "                'type': comic['type'],\n",
    "                'description': description,\n",
    "                'genre': genres,\n",
    "                'author':author,\n",
    "                'artist':artist,\n",
    "                'rate': rate,\n",
    "                'image': img,\n",
    "                'released': released,\n",
    "                'comic_url': comic_url,\n",
    "            })\n",
    "            \n",
    "        return json\n",
    "    \n",
    "url = f'https://api.mangadex.org/manga?limit=32&offset=32'\n",
    "result = get_comics_mangadex(url)\n",
    "result[0]"
   ]
  }
 ],
 "metadata": {
  "kernelspec": {
   "display_name": "base",
   "language": "python",
   "name": "python3"
  },
  "language_info": {
   "codemirror_mode": {
    "name": "ipython",
    "version": 3
   },
   "file_extension": ".py",
   "mimetype": "text/x-python",
   "name": "python",
   "nbconvert_exporter": "python",
   "pygments_lexer": "ipython3",
   "version": "3.9.13"
  }
 },
 "nbformat": 4,
 "nbformat_minor": 2
}
