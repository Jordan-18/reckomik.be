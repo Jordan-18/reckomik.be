{
 "cells": [
  {
   "cell_type": "code",
   "execution_count": 1,
   "metadata": {},
   "outputs": [
    {
     "name": "stderr",
     "output_type": "stream",
     "text": [
      "c:\\Users\\Asus\\anaconda3\\lib\\site-packages\\fuzzywuzzy\\fuzz.py:11: UserWarning: Using slow pure-python SequenceMatcher. Install python-Levenshtein to remove this warning\n",
      "  warnings.warn('Using slow pure-python SequenceMatcher. Install python-Levenshtein to remove this warning')\n"
     ]
    }
   ],
   "source": [
    "import pandas as pd\n",
    "import numpy as np\n",
    "import json\n",
    "from fuzzywuzzy import process\n",
    "import requests\n",
    "from io import BytesIO\n",
    "from PIL import Image\n",
    "import imagehash\n",
    "from concurrent.futures import ThreadPoolExecutor, as_completed"
   ]
  },
  {
   "cell_type": "code",
   "execution_count": 2,
   "metadata": {},
   "outputs": [],
   "source": [
    "# Cache for downloaded images\n",
    "image_cache = {}\n",
    "\n",
    "def download_image(image_url):\n",
    "    if image_url in image_cache:\n",
    "        return image_cache[image_url]\n",
    "    \n",
    "    try:\n",
    "        response = requests.get(image_url)\n",
    "        response.raise_for_status()\n",
    "        img = Image.open(BytesIO(response.content))\n",
    "        image_cache[image_url] = img\n",
    "        return img\n",
    "    except (requests.RequestException, IOError) as e:\n",
    "        return None\n",
    "\n",
    "def compute_image_hash(image_url):\n",
    "    image = download_image(image_url)\n",
    "    if image is None:\n",
    "        return None\n",
    "    return imagehash.average_hash(image)\n",
    "\n",
    "def preprocess_images(df, batch_size=1000, max_workers=20):\n",
    "    for start in range(0, len(df), batch_size):\n",
    "        end = min(start + batch_size, len(df))\n",
    "        batch_df = df.iloc[start:end]\n",
    "        \n",
    "        with ThreadPoolExecutor(max_workers=max_workers) as executor:\n",
    "            future_to_index = {\n",
    "                executor.submit(compute_image_hash, row['image']): index\n",
    "                for index, row in batch_df.iterrows()\n",
    "            }\n",
    "            for future in as_completed(future_to_index):\n",
    "                index = future_to_index[future]\n",
    "                try:\n",
    "                    image_hash = future.result()\n",
    "                    df.loc[index, 'image_hash'] = image_hash\n",
    "                except Exception as e:\n",
    "                    df.loc[index, 'image_hash'] = '-'\n",
    "        \n",
    "        print(f\"Processed batch {start} to {end}\")"
   ]
  },
  {
   "cell_type": "code",
   "execution_count": 3,
   "metadata": {},
   "outputs": [],
   "source": [
    "# Load your dataset\n",
    "df_mangadex = pd.read_csv(\"./data/mangadex.csv\")\n",
    "\n",
    "# Add an 'image_hash' column with default values\n",
    "df_mangadex['image_hash'] = np.nan\n",
    "\n",
    "# Preprocess the images to compute hashes\n",
    "preprocess_images(df_mangadex)\n",
    "\n",
    "# Save the processed DataFrame\n",
    "df_mangadex.to_csv(\"./data/mangadex_processed.csv\", index=False)"
   ]
  }
 ],
 "metadata": {
  "kernelspec": {
   "display_name": "base",
   "language": "python",
   "name": "python3"
  },
  "language_info": {
   "codemirror_mode": {
    "name": "ipython",
    "version": 3
   },
   "file_extension": ".py",
   "mimetype": "text/x-python",
   "name": "python",
   "nbconvert_exporter": "python",
   "pygments_lexer": "ipython3",
   "version": "3.9.13"
  }
 },
 "nbformat": 4,
 "nbformat_minor": 2
}
