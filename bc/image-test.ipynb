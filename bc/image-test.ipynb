{
 "cells": [
  {
   "cell_type": "code",
   "execution_count": 9,
   "metadata": {},
   "outputs": [
    {
     "name": "stderr",
     "output_type": "stream",
     "text": [
      "[nltk_data] Downloading package stopwords to\n",
      "[nltk_data]     C:\\Users\\Asus\\AppData\\Roaming\\nltk_data...\n",
      "[nltk_data]   Package stopwords is already up-to-date!\n",
      "[nltk_data] Downloading package punkt to\n",
      "[nltk_data]     C:\\Users\\Asus\\AppData\\Roaming\\nltk_data...\n",
      "[nltk_data]   Package punkt is already up-to-date!\n"
     ]
    }
   ],
   "source": [
    "import pandas as pd\n",
    "import numpy as np\n",
    "import requests\n",
    "from PIL import Image\n",
    "from io import BytesIO\n",
    "from keras.applications.vgg16 import VGG16, preprocess_input\n",
    "from keras.preprocessing import image\n",
    "from keras.models import Model\n",
    "from sklearn.metrics.pairwise import cosine_similarity\n",
    "from fuzzywuzzy import process\n",
    "\n",
    "# Description Similarity System\n",
    "\n",
    "# Load VGG16 model pre-trained on ImageNet\n",
    "base_model = VGG16(weights='imagenet')\n",
    "model = Model(inputs=base_model.input, outputs=base_model.get_layer('fc1').output)\n",
    "\n",
    "def download_and_preprocess_image(url):\n",
    "    try:\n",
    "        response = requests.get(url)\n",
    "        img = Image.open(BytesIO(response.content))\n",
    "        img = img.convert('RGB')  # Konversi gambar ke RGB\n",
    "        img = img.resize((224, 224))  # VGG16 expects 224x224 images\n",
    "        img_array = image.img_to_array(img)\n",
    "        img_array = np.expand_dims(img_array, axis=0)\n",
    "        img_array = preprocess_input(img_array)\n",
    "        return img_array\n",
    "    except:\n",
    "        return None\n",
    "\n",
    "\n",
    "def extract_features(image_array):\n",
    "    features = model.predict(image_array)\n",
    "    return features.flatten()\n",
    "\n",
    "def prepare_image_similarity(df):\n",
    "    features_list = []\n",
    "    for img_url in df['image']:\n",
    "        img_array = download_and_preprocess_image(img_url)\n",
    "        if img_array is not None:\n",
    "            features = extract_features(img_array)\n",
    "            features_list.append(features)\n",
    "        else:\n",
    "            features_list.append(np.zeros((4096,)))  # If image download fails, use a zero vector\n",
    "    features_matrix = np.array(features_list)\n",
    "    image_cosine_sim = cosine_similarity(features_matrix, features_matrix)\n",
    "    return image_cosine_sim\n",
    "\n",
    "def get_image_similarity(title, df, image_cosine_sim):\n",
    "    if title not in df['title'].values:\n",
    "        matches = process.extract(title, df['title'], limit=5)\n",
    "        best_match = matches[0][0]\n",
    "        print(f\"Exact title not found. Using closest match: '{best_match}'\")\n",
    "        title = best_match\n",
    "        \n",
    "    idx = df[df['title'] == title].index[0]\n",
    "    \n",
    "    sim_scores = list(enumerate(image_cosine_sim[idx]))\n",
    "    sim_scores = sorted(sim_scores, key=lambda x: x[1], reverse=True)\n",
    "    \n",
    "    sim_scores = [score for score in sim_scores if score[1] < 1]\n",
    "\n",
    "    article_indices = [i[0] for i in sim_scores]\n",
    "    scores = [i[1] for i in sim_scores]\n",
    "    \n",
    "    valid_indices = [i for i in article_indices if i < len(df)]\n",
    "    \n",
    "    similarity_df = pd.DataFrame({'title': df.iloc[valid_indices]['title'], 'image_similarity': scores})\n",
    "    result_df = pd.merge(similarity_df, df, on='title')\n",
    "    \n",
    "    return result_df"
   ]
  },
  {
   "cell_type": "code",
   "execution_count": 10,
   "metadata": {},
   "outputs": [],
   "source": [
    "df_mangadex = pd.read_csv(\"./data/mangadex.csv\")"
   ]
  },
  {
   "cell_type": "code",
   "execution_count": null,
   "metadata": {},
   "outputs": [],
   "source": [
    "# Contoh penggunaan\n",
    "image_cosine_sim = prepare_image_similarity(df_mangadex)"
   ]
  },
  {
   "cell_type": "code",
   "execution_count": null,
   "metadata": {},
   "outputs": [],
   "source": [
    "similar_image_df = get_image_similarity('Fairy Tail', df_mangadex, image_cosine_sim)"
   ]
  }
 ],
 "metadata": {
  "kernelspec": {
   "display_name": "base",
   "language": "python",
   "name": "python3"
  },
  "language_info": {
   "codemirror_mode": {
    "name": "ipython",
    "version": 3
   },
   "file_extension": ".py",
   "mimetype": "text/x-python",
   "name": "python",
   "nbconvert_exporter": "python",
   "pygments_lexer": "ipython3",
   "version": "3.9.13"
  }
 },
 "nbformat": 4,
 "nbformat_minor": 2
}
