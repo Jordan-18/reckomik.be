{
 "cells": [
  {
   "cell_type": "code",
   "execution_count": 1,
   "metadata": {},
   "outputs": [
    {
     "name": "stderr",
     "output_type": "stream",
     "text": [
      "c:\\Users\\Asus\\anaconda3\\lib\\site-packages\\fuzzywuzzy\\fuzz.py:11: UserWarning: Using slow pure-python SequenceMatcher. Install python-Levenshtein to remove this warning\n",
      "  warnings.warn('Using slow pure-python SequenceMatcher. Install python-Levenshtein to remove this warning')\n"
     ]
    }
   ],
   "source": [
    "import pandas as pd\n",
    "import numpy as np\n",
    "import json\n",
    "\n",
    "# Image Similarity System\n",
    "from fuzzywuzzy import process\n",
    "import requests\n",
    "from io import BytesIO\n",
    "from PIL import Image\n",
    "import imagehash\n",
    "from concurrent.futures import ThreadPoolExecutor, as_completed"
   ]
  },
  {
   "cell_type": "code",
   "execution_count": 2,
   "metadata": {},
   "outputs": [],
   "source": [
    "image_cache = {}\n",
    "\n",
    "def download_image(image_url):\n",
    "    if image_url in image_cache:\n",
    "        return image_cache[image_url]\n",
    "    \n",
    "    try:\n",
    "        response = requests.get(image_url)\n",
    "        response.raise_for_status()\n",
    "        img = Image.open(BytesIO(response.content))\n",
    "        image_cache[image_url] = img\n",
    "        return img\n",
    "    except (requests.RequestException, IOError) as e:\n",
    "        return None\n",
    "\n",
    "def compute_image_hash(image_url):\n",
    "    image = download_image(image_url)\n",
    "    if image is None:\n",
    "        return None\n",
    "    return imagehash.average_hash(image)\n",
    "\n",
    "def preprocess_images(df, max_workers=10):\n",
    "    with ThreadPoolExecutor(max_workers=max_workers) as executor:\n",
    "        future_to_index = {\n",
    "            executor.submit(compute_image_hash, row['image']): index\n",
    "            for index, row in df.iterrows()\n",
    "        }\n",
    "        for future in as_completed(future_to_index):\n",
    "            index = future_to_index[future]\n",
    "            try:\n",
    "                image_hash = future.result()\n",
    "                df.loc[index, 'image_hash'] = image_hash\n",
    "            except Exception as e:\n",
    "                df.loc[index, 'image_hash'] = '-'"
   ]
  },
  {
   "cell_type": "code",
   "execution_count": 3,
   "metadata": {},
   "outputs": [
    {
     "name": "stdout",
     "output_type": "stream",
     "text": [
      "Mangadex :  (23769, 10)\n"
     ]
    }
   ],
   "source": [
    "# df_komikcast=pd.read_csv(\"./data/komikcast.csv\")\n",
    "# df_westmanga=pd.read_csv(\"./data/westmanga.csv\")\n",
    "df_mangadex=pd.read_csv(\"./data/mangadex.csv\")\n",
    "\n",
    "# print('Komikcast: ', df_komikcast.shape)\n",
    "# print('Westmanga: ', df_westmanga.shape)\n",
    "print('Mangadex : ', df_mangadex.shape)"
   ]
  },
  {
   "cell_type": "code",
   "execution_count": 4,
   "metadata": {},
   "outputs": [],
   "source": [
    "# preprocess_images(df_komikcast)\n",
    "# preprocess_images(df_westmanga)"
   ]
  },
  {
   "cell_type": "code",
   "execution_count": 8,
   "metadata": {},
   "outputs": [],
   "source": [
    "#split mangadex\n",
    "num_split = 24\n",
    "dfs_mangadex = np.array_split(df_mangadex, num_split)\n",
    "dfs_mangadex_01, dfs_mangadex_02, dfs_mangadex_03, dfs_mangadex_04,dfs_mangadex_05, dfs_mangadex_06, dfs_mangadex_07, dfs_mangadex_08, dfs_mangadex_09,dfs_mangadex_10, dfs_mangadex_11, dfs_mangadex_12, dfs_mangadex_13, dfs_mangadex_14,dfs_mangadex_15, dfs_mangadex_16, dfs_mangadex_17, dfs_mangadex_18, dfs_mangadex_19,dfs_mangadex_20, dfs_mangadex_21, dfs_mangadex_22, dfs_mangadex_23, dfs_mangadex_24  = dfs_mangadex"
   ]
  },
  {
   "cell_type": "code",
   "execution_count": 9,
   "metadata": {},
   "outputs": [],
   "source": [
    "preprocess_images(dfs_mangadex_01)"
   ]
  },
  {
   "cell_type": "code",
   "execution_count": 10,
   "metadata": {},
   "outputs": [],
   "source": [
    "preprocess_images(dfs_mangadex_02)"
   ]
  },
  {
   "cell_type": "code",
   "execution_count": 11,
   "metadata": {},
   "outputs": [],
   "source": [
    "preprocess_images(dfs_mangadex_03)"
   ]
  },
  {
   "cell_type": "code",
   "execution_count": 12,
   "metadata": {},
   "outputs": [],
   "source": [
    "preprocess_images(dfs_mangadex_04)"
   ]
  },
  {
   "cell_type": "code",
   "execution_count": 13,
   "metadata": {},
   "outputs": [],
   "source": [
    "preprocess_images(dfs_mangadex_05)"
   ]
  },
  {
   "cell_type": "code",
   "execution_count": 14,
   "metadata": {},
   "outputs": [],
   "source": [
    "preprocess_images(dfs_mangadex_06)"
   ]
  },
  {
   "cell_type": "code",
   "execution_count": null,
   "metadata": {},
   "outputs": [],
   "source": [
    "preprocess_images(dfs_mangadex_07)"
   ]
  },
  {
   "cell_type": "code",
   "execution_count": null,
   "metadata": {},
   "outputs": [],
   "source": [
    "preprocess_images(dfs_mangadex_08)"
   ]
  },
  {
   "cell_type": "code",
   "execution_count": null,
   "metadata": {},
   "outputs": [],
   "source": [
    "preprocess_images(dfs_mangadex_09)"
   ]
  },
  {
   "cell_type": "code",
   "execution_count": null,
   "metadata": {},
   "outputs": [],
   "source": [
    "preprocess_images(dfs_mangadex_10)"
   ]
  },
  {
   "cell_type": "code",
   "execution_count": null,
   "metadata": {},
   "outputs": [],
   "source": [
    "preprocess_images(dfs_mangadex_11)"
   ]
  },
  {
   "cell_type": "code",
   "execution_count": null,
   "metadata": {},
   "outputs": [],
   "source": [
    "preprocess_images(dfs_mangadex_12)"
   ]
  },
  {
   "cell_type": "code",
   "execution_count": null,
   "metadata": {},
   "outputs": [],
   "source": [
    "preprocess_images(dfs_mangadex_13)"
   ]
  },
  {
   "cell_type": "code",
   "execution_count": null,
   "metadata": {},
   "outputs": [],
   "source": [
    "preprocess_images(dfs_mangadex_14)"
   ]
  },
  {
   "cell_type": "code",
   "execution_count": null,
   "metadata": {},
   "outputs": [],
   "source": [
    "preprocess_images(dfs_mangadex_15)"
   ]
  },
  {
   "cell_type": "code",
   "execution_count": null,
   "metadata": {},
   "outputs": [],
   "source": [
    "preprocess_images(dfs_mangadex_16)"
   ]
  },
  {
   "cell_type": "code",
   "execution_count": null,
   "metadata": {},
   "outputs": [],
   "source": [
    "preprocess_images(dfs_mangadex_17)"
   ]
  },
  {
   "cell_type": "code",
   "execution_count": null,
   "metadata": {},
   "outputs": [],
   "source": [
    "preprocess_images(dfs_mangadex_18)"
   ]
  },
  {
   "cell_type": "code",
   "execution_count": null,
   "metadata": {},
   "outputs": [],
   "source": [
    "preprocess_images(dfs_mangadex_19)"
   ]
  },
  {
   "cell_type": "code",
   "execution_count": null,
   "metadata": {},
   "outputs": [],
   "source": [
    "preprocess_images(dfs_mangadex_20)"
   ]
  },
  {
   "cell_type": "code",
   "execution_count": null,
   "metadata": {},
   "outputs": [],
   "source": [
    "preprocess_images(dfs_mangadex_21)"
   ]
  },
  {
   "cell_type": "code",
   "execution_count": null,
   "metadata": {},
   "outputs": [],
   "source": [
    "preprocess_images(dfs_mangadex_22)"
   ]
  },
  {
   "cell_type": "code",
   "execution_count": null,
   "metadata": {},
   "outputs": [],
   "source": [
    "preprocess_images(dfs_mangadex_23)"
   ]
  },
  {
   "cell_type": "code",
   "execution_count": null,
   "metadata": {},
   "outputs": [],
   "source": [
    "preprocess_images(dfs_mangadex_24)"
   ]
  },
  {
   "cell_type": "code",
   "execution_count": null,
   "metadata": {},
   "outputs": [
    {
     "name": "stderr",
     "output_type": "stream",
     "text": [
      "c:\\Users\\Asus\\anaconda3\\lib\\site-packages\\PIL\\Image.py:959: UserWarning: Palette images with Transparency expressed in bytes should be converted to RGBA images\n",
      "  warnings.warn(\n"
     ]
    }
   ],
   "source": [
    "image_cache_hashes = {url: str(imagehash.average_hash(img)) for url, img in image_cache.items()}\n",
    "\n",
    "json_object = json.dumps(image_cache_hashes, indent=4)\n",
    "\n",
    "with open(\"./data/image_cache2.json\", \"w\") as outfile:\n",
    "    outfile.write(json_object)"
   ]
  },
  {
   "cell_type": "code",
   "execution_count": null,
   "metadata": {},
   "outputs": [],
   "source": [
    "df_mangadex_concat = pd.concat([dfs_mangadex_01, dfs_mangadex_02, dfs_mangadex_03, dfs_mangadex_04,dfs_mangadex_05, dfs_mangadex_06, dfs_mangadex_07, dfs_mangadex_08, dfs_mangadex_09,dfs_mangadex_10, dfs_mangadex_11, dfs_mangadex_12, dfs_mangadex_13, dfs_mangadex_14,dfs_mangadex_15, dfs_mangadex_16, dfs_mangadex_17, dfs_mangadex_18, dfs_mangadex_19,dfs_mangadex_20, dfs_mangadex_21, dfs_mangadex_22, dfs_mangadex_23, dfs_mangadex_24])"
   ]
  },
  {
   "cell_type": "code",
   "execution_count": null,
   "metadata": {},
   "outputs": [],
   "source": [
    "df_mangadex_concat.to_csv(\"./data/mangadex_process.csv\", index=False)"
   ]
  },
  {
   "cell_type": "code",
   "execution_count": null,
   "metadata": {},
   "outputs": [],
   "source": [
    "# # Load the JSON file\n",
    "# with open(\"./data/image_cache2.json\", \"r\") as infile:\n",
    "#     loaded_image_hashes = json.load(infile)\n",
    "    \n",
    "# # Reconstruct the hashes\n",
    "# reconstructed_hashes = {url: imagehash.hex_to_hash(hash_str) for url, hash_str in loaded_image_hashes.items()}\n",
    "\n",
    "# reconstructed_hashes"
   ]
  }
 ],
 "metadata": {
  "kernelspec": {
   "display_name": "base",
   "language": "python",
   "name": "python3"
  },
  "language_info": {
   "codemirror_mode": {
    "name": "ipython",
    "version": 3
   },
   "file_extension": ".py",
   "mimetype": "text/x-python",
   "name": "python",
   "nbconvert_exporter": "python",
   "pygments_lexer": "ipython3",
   "version": "3.9.13"
  }
 },
 "nbformat": 4,
 "nbformat_minor": 2
}
